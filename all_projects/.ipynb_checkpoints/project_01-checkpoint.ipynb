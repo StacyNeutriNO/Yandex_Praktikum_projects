{
 "cells": [
  {
   "cell_type": "markdown",
   "metadata": {
    "id": "E0vqbgi9ay0H"
   },
   "source": [
    "# Яндекс.Музыка"
   ]
  },
  {
   "cell_type": "markdown",
   "metadata": {
    "id": "VUC88oWjTJw2"
   },
   "source": [
    "Сравнение Москвы и Петербурга окружено мифами. Например:\n",
    " * Москва — мегаполис, подчинённый жёсткому ритму рабочей недели;\n",
    " * Петербург — культурная столица, со своими вкусами.\n",
    "\n",
    "На данных Яндекс.Музыки вы сравните поведение пользователей двух столиц.\n",
    "\n",
    "**Цель исследования** — проверьте три гипотезы:\n",
    "1. Активность пользователей зависит от дня недели. Причём в Москве и Петербурге это проявляется по-разному.\n",
    "2. В понедельник утром в Москве преобладают одни жанры, а в Петербурге — другие. Так же и вечером пятницы преобладают разные жанры — в зависимости от города. \n",
    "3. Москва и Петербург предпочитают разные жанры музыки. В Москве чаще слушают поп-музыку, в Петербурге — русский рэп.\n",
    "\n",
    "**Ход исследования**\n",
    "\n",
    "Данные о поведении пользователей вы получите из файла `yandex_music_project.csv`. О качестве данных ничего не известно. Поэтому перед проверкой гипотез понадобится обзор данных. \n",
    "\n",
    "Проверим данные на ошибки и оценим их влияние на исследование. \n",
    " \n",
    "Таким образом, исследование пройдёт в три этапа:\n",
    " 1. Обзор данных.\n",
    " 2. Предобработка данных.\n",
    " 3. Проверка гипотез.\n",
    "\n"
   ]
  },
  {
   "cell_type": "markdown",
   "metadata": {
    "id": "Ml1hmfXC_Zcs"
   },
   "source": [
    "## Обзор данных\n",
    "\n",
    "\n"
   ]
  },
  {
   "cell_type": "code",
   "execution_count": 1,
   "metadata": {
    "id": "AXN7PHPN_Zcs"
   },
   "outputs": [],
   "source": [
    "# импорт библиотеки pandas\n",
    "import pandas as pd"
   ]
  },
  {
   "cell_type": "code",
   "execution_count": 2,
   "metadata": {
    "id": "fFVu7vqh_Zct"
   },
   "outputs": [],
   "source": [
    "# чтение файла с данными и сохранение в df\n",
    "df = pd.read_csv('/datasets/yandex_music_project.csv')"
   ]
  },
  {
   "cell_type": "code",
   "execution_count": 3,
   "metadata": {
    "id": "oWTVX3gW_Zct"
   },
   "outputs": [
    {
     "data": {
      "text/html": [
       "<div>\n",
       "<style scoped>\n",
       "    .dataframe tbody tr th:only-of-type {\n",
       "        vertical-align: middle;\n",
       "    }\n",
       "\n",
       "    .dataframe tbody tr th {\n",
       "        vertical-align: top;\n",
       "    }\n",
       "\n",
       "    .dataframe thead th {\n",
       "        text-align: right;\n",
       "    }\n",
       "</style>\n",
       "<table border=\"1\" class=\"dataframe\">\n",
       "  <thead>\n",
       "    <tr style=\"text-align: right;\">\n",
       "      <th></th>\n",
       "      <th>userID</th>\n",
       "      <th>Track</th>\n",
       "      <th>artist</th>\n",
       "      <th>genre</th>\n",
       "      <th>City</th>\n",
       "      <th>time</th>\n",
       "      <th>Day</th>\n",
       "    </tr>\n",
       "  </thead>\n",
       "  <tbody>\n",
       "    <tr>\n",
       "      <td>0</td>\n",
       "      <td>FFB692EC</td>\n",
       "      <td>Kamigata To Boots</td>\n",
       "      <td>The Mass Missile</td>\n",
       "      <td>rock</td>\n",
       "      <td>Saint-Petersburg</td>\n",
       "      <td>20:28:33</td>\n",
       "      <td>Wednesday</td>\n",
       "    </tr>\n",
       "    <tr>\n",
       "      <td>1</td>\n",
       "      <td>55204538</td>\n",
       "      <td>Delayed Because of Accident</td>\n",
       "      <td>Andreas Rönnberg</td>\n",
       "      <td>rock</td>\n",
       "      <td>Moscow</td>\n",
       "      <td>14:07:09</td>\n",
       "      <td>Friday</td>\n",
       "    </tr>\n",
       "    <tr>\n",
       "      <td>2</td>\n",
       "      <td>20EC38</td>\n",
       "      <td>Funiculì funiculà</td>\n",
       "      <td>Mario Lanza</td>\n",
       "      <td>pop</td>\n",
       "      <td>Saint-Petersburg</td>\n",
       "      <td>20:58:07</td>\n",
       "      <td>Wednesday</td>\n",
       "    </tr>\n",
       "    <tr>\n",
       "      <td>3</td>\n",
       "      <td>A3DD03C9</td>\n",
       "      <td>Dragons in the Sunset</td>\n",
       "      <td>Fire + Ice</td>\n",
       "      <td>folk</td>\n",
       "      <td>Saint-Petersburg</td>\n",
       "      <td>08:37:09</td>\n",
       "      <td>Monday</td>\n",
       "    </tr>\n",
       "    <tr>\n",
       "      <td>4</td>\n",
       "      <td>E2DC1FAE</td>\n",
       "      <td>Soul People</td>\n",
       "      <td>Space Echo</td>\n",
       "      <td>dance</td>\n",
       "      <td>Moscow</td>\n",
       "      <td>08:34:34</td>\n",
       "      <td>Monday</td>\n",
       "    </tr>\n",
       "    <tr>\n",
       "      <td>5</td>\n",
       "      <td>842029A1</td>\n",
       "      <td>Преданная</td>\n",
       "      <td>IMPERVTOR</td>\n",
       "      <td>rusrap</td>\n",
       "      <td>Saint-Petersburg</td>\n",
       "      <td>13:09:41</td>\n",
       "      <td>Friday</td>\n",
       "    </tr>\n",
       "    <tr>\n",
       "      <td>6</td>\n",
       "      <td>4CB90AA5</td>\n",
       "      <td>True</td>\n",
       "      <td>Roman Messer</td>\n",
       "      <td>dance</td>\n",
       "      <td>Moscow</td>\n",
       "      <td>13:00:07</td>\n",
       "      <td>Wednesday</td>\n",
       "    </tr>\n",
       "    <tr>\n",
       "      <td>7</td>\n",
       "      <td>F03E1C1F</td>\n",
       "      <td>Feeling This Way</td>\n",
       "      <td>Polina Griffith</td>\n",
       "      <td>dance</td>\n",
       "      <td>Moscow</td>\n",
       "      <td>20:47:49</td>\n",
       "      <td>Wednesday</td>\n",
       "    </tr>\n",
       "    <tr>\n",
       "      <td>8</td>\n",
       "      <td>8FA1D3BE</td>\n",
       "      <td>И вновь продолжается бой</td>\n",
       "      <td>NaN</td>\n",
       "      <td>ruspop</td>\n",
       "      <td>Moscow</td>\n",
       "      <td>09:17:40</td>\n",
       "      <td>Friday</td>\n",
       "    </tr>\n",
       "    <tr>\n",
       "      <td>9</td>\n",
       "      <td>E772D5C0</td>\n",
       "      <td>Pessimist</td>\n",
       "      <td>NaN</td>\n",
       "      <td>dance</td>\n",
       "      <td>Saint-Petersburg</td>\n",
       "      <td>21:20:49</td>\n",
       "      <td>Wednesday</td>\n",
       "    </tr>\n",
       "  </tbody>\n",
       "</table>\n",
       "</div>"
      ],
      "text/plain": [
       "     userID                        Track            artist   genre  \\\n",
       "0  FFB692EC            Kamigata To Boots  The Mass Missile    rock   \n",
       "1  55204538  Delayed Because of Accident  Andreas Rönnberg    rock   \n",
       "2    20EC38            Funiculì funiculà       Mario Lanza     pop   \n",
       "3  A3DD03C9        Dragons in the Sunset        Fire + Ice    folk   \n",
       "4  E2DC1FAE                  Soul People        Space Echo   dance   \n",
       "5  842029A1                    Преданная         IMPERVTOR  rusrap   \n",
       "6  4CB90AA5                         True      Roman Messer   dance   \n",
       "7  F03E1C1F             Feeling This Way   Polina Griffith   dance   \n",
       "8  8FA1D3BE     И вновь продолжается бой               NaN  ruspop   \n",
       "9  E772D5C0                    Pessimist               NaN   dance   \n",
       "\n",
       "             City        time        Day  \n",
       "0  Saint-Petersburg  20:28:33  Wednesday  \n",
       "1            Moscow  14:07:09     Friday  \n",
       "2  Saint-Petersburg  20:58:07  Wednesday  \n",
       "3  Saint-Petersburg  08:37:09     Monday  \n",
       "4            Moscow  08:34:34     Monday  \n",
       "5  Saint-Petersburg  13:09:41     Friday  \n",
       "6            Moscow  13:00:07  Wednesday  \n",
       "7            Moscow  20:47:49  Wednesday  \n",
       "8            Moscow  09:17:40     Friday  \n",
       "9  Saint-Petersburg  21:20:49  Wednesday  "
      ]
     },
     "execution_count": 3,
     "metadata": {},
     "output_type": "execute_result"
    }
   ],
   "source": [
    "# получение первых 10 строк таблицы df\n",
    "df.head(10)"
   ]
  },
  {
   "cell_type": "code",
   "execution_count": 4,
   "metadata": {},
   "outputs": [
    {
     "data": {
      "text/html": [
       "<div>\n",
       "<style scoped>\n",
       "    .dataframe tbody tr th:only-of-type {\n",
       "        vertical-align: middle;\n",
       "    }\n",
       "\n",
       "    .dataframe tbody tr th {\n",
       "        vertical-align: top;\n",
       "    }\n",
       "\n",
       "    .dataframe thead th {\n",
       "        text-align: right;\n",
       "    }\n",
       "</style>\n",
       "<table border=\"1\" class=\"dataframe\">\n",
       "  <thead>\n",
       "    <tr style=\"text-align: right;\">\n",
       "      <th></th>\n",
       "      <th>userID</th>\n",
       "      <th>Track</th>\n",
       "      <th>artist</th>\n",
       "      <th>genre</th>\n",
       "      <th>City</th>\n",
       "      <th>time</th>\n",
       "      <th>Day</th>\n",
       "    </tr>\n",
       "  </thead>\n",
       "  <tbody>\n",
       "    <tr>\n",
       "      <td>65074</td>\n",
       "      <td>729CBB09</td>\n",
       "      <td>My Name</td>\n",
       "      <td>McLean</td>\n",
       "      <td>rnb</td>\n",
       "      <td>Moscow</td>\n",
       "      <td>13:32:28</td>\n",
       "      <td>Wednesday</td>\n",
       "    </tr>\n",
       "    <tr>\n",
       "      <td>65075</td>\n",
       "      <td>D08D4A55</td>\n",
       "      <td>Maybe One Day (feat. Black Spade)</td>\n",
       "      <td>Blu &amp; Exile</td>\n",
       "      <td>hip</td>\n",
       "      <td>Saint-Petersburg</td>\n",
       "      <td>10:00:00</td>\n",
       "      <td>Monday</td>\n",
       "    </tr>\n",
       "    <tr>\n",
       "      <td>65076</td>\n",
       "      <td>C5E3A0D5</td>\n",
       "      <td>Jalopiina</td>\n",
       "      <td>NaN</td>\n",
       "      <td>industrial</td>\n",
       "      <td>Moscow</td>\n",
       "      <td>20:09:26</td>\n",
       "      <td>Friday</td>\n",
       "    </tr>\n",
       "    <tr>\n",
       "      <td>65077</td>\n",
       "      <td>321D0506</td>\n",
       "      <td>Freight Train</td>\n",
       "      <td>Chas McDevitt</td>\n",
       "      <td>rock</td>\n",
       "      <td>Moscow</td>\n",
       "      <td>21:43:59</td>\n",
       "      <td>Friday</td>\n",
       "    </tr>\n",
       "    <tr>\n",
       "      <td>65078</td>\n",
       "      <td>3A64EF84</td>\n",
       "      <td>Tell Me Sweet Little Lies</td>\n",
       "      <td>Monica Lopez</td>\n",
       "      <td>country</td>\n",
       "      <td>Moscow</td>\n",
       "      <td>21:59:46</td>\n",
       "      <td>Friday</td>\n",
       "    </tr>\n",
       "  </tbody>\n",
       "</table>\n",
       "</div>"
      ],
      "text/plain": [
       "         userID                              Track         artist       genre  \\\n",
       "65074  729CBB09                            My Name         McLean         rnb   \n",
       "65075  D08D4A55  Maybe One Day (feat. Black Spade)    Blu & Exile         hip   \n",
       "65076  C5E3A0D5                          Jalopiina            NaN  industrial   \n",
       "65077  321D0506                      Freight Train  Chas McDevitt        rock   \n",
       "65078  3A64EF84          Tell Me Sweet Little Lies   Monica Lopez     country   \n",
       "\n",
       "                 City        time        Day  \n",
       "65074            Moscow  13:32:28  Wednesday  \n",
       "65075  Saint-Petersburg  10:00:00     Monday  \n",
       "65076            Moscow  20:09:26     Friday  \n",
       "65077            Moscow  21:43:59     Friday  \n",
       "65078            Moscow  21:59:46     Friday  "
      ]
     },
     "execution_count": 4,
     "metadata": {},
     "output_type": "execute_result"
    }
   ],
   "source": [
    "# Комментарий ревьюера\n",
    "df.tail(5)"
   ]
  },
  {
   "cell_type": "markdown",
   "metadata": {
    "id": "EO73Kwic_Zct"
   },
   "source": [
    "Одной командой получить общую информацию о таблице:"
   ]
  },
  {
   "cell_type": "code",
   "execution_count": 5,
   "metadata": {
    "id": "DSf2kIb-_Zct"
   },
   "outputs": [
    {
     "name": "stdout",
     "output_type": "stream",
     "text": [
      "<class 'pandas.core.frame.DataFrame'>\n",
      "RangeIndex: 65079 entries, 0 to 65078\n",
      "Data columns (total 7 columns):\n",
      "  userID    65079 non-null object\n",
      "Track       63848 non-null object\n",
      "artist      57876 non-null object\n",
      "genre       63881 non-null object\n",
      "  City      65079 non-null object\n",
      "time        65079 non-null object\n",
      "Day         65079 non-null object\n",
      "dtypes: object(7)\n",
      "memory usage: 3.5+ MB\n"
     ]
    }
   ],
   "source": [
    "# получение общей информации о данных в таблице df\n",
    "df.info()"
   ]
  },
  {
   "cell_type": "markdown",
   "metadata": {
    "id": "TaQ2Iwbr_Zct"
   },
   "source": [
    "Итак, в таблице семь столбцов. Тип данных во всех столбцах — `object`.\n",
    "\n",
    "Согласно документации к данным:\n",
    "* `userID` — идентификатор пользователя;\n",
    "* `Track` — название трека;  \n",
    "* `artist` — имя исполнителя;\n",
    "* `genre` — название жанра;\n",
    "* `City` — город пользователя;\n",
    "* `time` — время начала прослушивания;\n",
    "* `Day` — день недели.\n",
    "\n",
    "В названиях колонок видны три нарушения стиля:\n",
    "1. Строчные буквы сочетаются с прописными.\n",
    "2. Встречаются пробелы.\n",
    "3. Возможно, имеется в виду несоблюдение \"змеиного регистра\" в названии нулевой колонки \"userId\". Но это очевидно, т.к. далее просят это изменить) В любом случаче - пропустила, my fault.\n",
    "\n",
    "Количество значений в столбцах различается. Значит, в данных есть пропущенные значения.\n"
   ]
  },
  {
   "cell_type": "code",
   "execution_count": 6,
   "metadata": {},
   "outputs": [
    {
     "data": {
      "text/plain": [
       "Index(['  userID', 'Track', 'artist', 'genre', '  City  ', 'time', 'Day'], dtype='object')"
      ]
     },
     "execution_count": 6,
     "metadata": {},
     "output_type": "execute_result"
    }
   ],
   "source": [
    "df.columns"
   ]
  },
  {
   "cell_type": "markdown",
   "metadata": {
    "id": "MCB6-dXG_Zct"
   },
   "source": [
    "**Выводы**\n",
    "\n",
    "В каждой строке таблицы — данные о прослушанном треке. Часть колонок описывает саму композицию: название, исполнителя и жанр. Остальные данные рассказывают о пользователе: из какого он города, когда он слушал музыку. \n",
    "\n",
    "Предварительно можно утверждать, что, данных достаточно для проверки гипотез. Но встречаются пропуски в данных, а в названиях колонок — расхождения с хорошим стилем.\n",
    "\n",
    "Чтобы двигаться дальше, нужно устранить проблемы в данных."
   ]
  },
  {
   "cell_type": "markdown",
   "metadata": {
    "id": "SjYF6Ub9_Zct"
   },
   "source": [
    "## Предобработка данных\n"
   ]
  },
  {
   "cell_type": "markdown",
   "metadata": {
    "id": "dIaKXr29_Zct"
   },
   "source": [
    "### Стиль заголовков\n"
   ]
  },
  {
   "cell_type": "code",
   "execution_count": 7,
   "metadata": {
    "id": "oKOTdF_Q_Zct"
   },
   "outputs": [
    {
     "data": {
      "text/plain": [
       "Index(['  userID', 'Track', 'artist', 'genre', '  City  ', 'time', 'Day'], dtype='object')"
      ]
     },
     "execution_count": 7,
     "metadata": {},
     "output_type": "execute_result"
    }
   ],
   "source": [
    "# перечень названий столбцов таблицы df\n",
    "df.columns"
   ]
  },
  {
   "cell_type": "code",
   "execution_count": 8,
   "metadata": {
    "id": "ISlFqs5y_Zct"
   },
   "outputs": [],
   "source": [
    "# переименование столбцов\n",
    "df = df.rename(columns ={'  userID':'user_id', 'Track':'track', '  City  ':'city','Day':'day'})"
   ]
  },
  {
   "cell_type": "code",
   "execution_count": 9,
   "metadata": {
    "id": "d4NOAmTW_Zct"
   },
   "outputs": [
    {
     "data": {
      "text/plain": [
       "Index(['user_id', 'track', 'artist', 'genre', 'city', 'time', 'day'], dtype='object')"
      ]
     },
     "execution_count": 9,
     "metadata": {},
     "output_type": "execute_result"
    }
   ],
   "source": [
    "# проверка результатов - перечень названий столбцов\n",
    "df.columns"
   ]
  },
  {
   "cell_type": "markdown",
   "metadata": {
    "id": "5ISfbcfY_Zct"
   },
   "source": [
    "### Пропуски значений\n"
   ]
  },
  {
   "cell_type": "code",
   "execution_count": 10,
   "metadata": {
    "id": "RskX29qr_Zct"
   },
   "outputs": [
    {
     "data": {
      "text/plain": [
       "user_id       0\n",
       "track      1231\n",
       "artist     7203\n",
       "genre      1198\n",
       "city          0\n",
       "time          0\n",
       "day           0\n",
       "dtype: int64"
      ]
     },
     "execution_count": 10,
     "metadata": {},
     "output_type": "execute_result"
    }
   ],
   "source": [
    "# подсчёт пропусков\n",
    "df.isna().sum()"
   ]
  },
  {
   "cell_type": "markdown",
   "metadata": {
    "id": "qubhgnlO_Zct"
   },
   "source": [
    "Не все пропущенные значения влияют на исследование. Так в `track` и `artist` пропуски не важны для вашей работы. Достаточно заменить их явными обозначениями.\n",
    "\n",
    "Но пропуски в `genre` могут помешать сравнению музыкальных вкусов в Москве и Санкт-Петербурге. На практике было бы правильно установить причину пропусков и восстановить данные. Такой возможности нет в учебном проекте. Придётся:\n",
    "* заполнить и эти пропуски явными обозначениями,\n",
    "* оценить, насколько они повредят расчётам. "
   ]
  },
  {
   "cell_type": "code",
   "execution_count": 11,
   "metadata": {
    "id": "KplB5qWs_Zct"
   },
   "outputs": [],
   "source": [
    "# перебор названий столбцов в цикле и замена пропущенных значений на 'unknown'\n",
    "column_to_replace = ['track','artist','genre']\n",
    "\n",
    "for column in column_to_replace:\n",
    "    df[column] = df[column].fillna('unknown')"
   ]
  },
  {
   "cell_type": "code",
   "execution_count": 12,
   "metadata": {
    "id": "Tq4nYRX4_Zct"
   },
   "outputs": [
    {
     "data": {
      "text/plain": [
       "user_id    0\n",
       "track      0\n",
       "artist     0\n",
       "genre      0\n",
       "city       0\n",
       "time       0\n",
       "day        0\n",
       "dtype: int64"
      ]
     },
     "execution_count": 12,
     "metadata": {},
     "output_type": "execute_result"
    }
   ],
   "source": [
    "# подсчёт пропусков\n",
    "df.isna().sum()"
   ]
  },
  {
   "cell_type": "markdown",
   "metadata": {
    "id": "BWKRtBJ3_Zct"
   },
   "source": [
    "### Дубликаты\n"
   ]
  },
  {
   "cell_type": "code",
   "execution_count": 13,
   "metadata": {
    "id": "36eES_S0_Zct"
   },
   "outputs": [
    {
     "data": {
      "text/plain": [
       "3826"
      ]
     },
     "execution_count": 13,
     "metadata": {},
     "output_type": "execute_result"
    }
   ],
   "source": [
    "# подсчёт явных дубликатов\n",
    "df.duplicated().sum()"
   ]
  },
  {
   "cell_type": "code",
   "execution_count": 14,
   "metadata": {
    "id": "exFHq6tt_Zct"
   },
   "outputs": [],
   "source": [
    "# удаление явных дубликатов (с удалением старых индексов и формированием новых)\n",
    "df = df.drop_duplicates().reset_index(drop = True)"
   ]
  },
  {
   "cell_type": "code",
   "execution_count": 15,
   "metadata": {
    "id": "-8PuNWQ0_Zct"
   },
   "outputs": [
    {
     "data": {
      "text/plain": [
       "0"
      ]
     },
     "execution_count": 15,
     "metadata": {},
     "output_type": "execute_result"
    }
   ],
   "source": [
    "# проверка на отсутствие дубликатов\n",
    "df.duplicated().sum()"
   ]
  },
  {
   "cell_type": "code",
   "execution_count": 16,
   "metadata": {
    "id": "JIUcqzZN_Zct"
   },
   "outputs": [
    {
     "data": {
      "text/plain": [
       "array(['acid', 'acoustic', 'action', 'adult', 'africa', 'afrikaans',\n",
       "       'alternative', 'alternativepunk', 'ambient', 'americana',\n",
       "       'animated', 'anime', 'arabesk', 'arabic', 'arena',\n",
       "       'argentinetango', 'art', 'audiobook', 'author', 'avantgarde',\n",
       "       'axé', 'baile', 'balkan', 'beats', 'bigroom', 'black', 'bluegrass',\n",
       "       'blues', 'bollywood', 'bossa', 'brazilian', 'breakbeat', 'breaks',\n",
       "       'broadway', 'cantautori', 'cantopop', 'canzone', 'caribbean',\n",
       "       'caucasian', 'celtic', 'chamber', 'chanson', 'children', 'chill',\n",
       "       'chinese', 'choral', 'christian', 'christmas', 'classical',\n",
       "       'classicmetal', 'club', 'colombian', 'comedy', 'conjazz',\n",
       "       'contemporary', 'country', 'cuban', 'dance', 'dancehall',\n",
       "       'dancepop', 'dark', 'death', 'deep', 'deutschrock', 'deutschspr',\n",
       "       'dirty', 'disco', 'dnb', 'documentary', 'downbeat', 'downtempo',\n",
       "       'drum', 'dub', 'dubstep', 'eastern', 'easy', 'electronic',\n",
       "       'electropop', 'emo', 'entehno', 'epicmetal', 'estrada', 'ethnic',\n",
       "       'eurofolk', 'european', 'experimental', 'extrememetal', 'fado',\n",
       "       'fairytail', 'film', 'fitness', 'flamenco', 'folk', 'folklore',\n",
       "       'folkmetal', 'folkrock', 'folktronica', 'forró', 'frankreich',\n",
       "       'französisch', 'french', 'funk', 'future', 'gangsta', 'garage',\n",
       "       'german', 'ghazal', 'gitarre', 'glitch', 'gospel', 'gothic',\n",
       "       'grime', 'grunge', 'gypsy', 'handsup', \"hard'n'heavy\", 'hardcore',\n",
       "       'hardstyle', 'hardtechno', 'hip', 'hip-hop', 'hiphop',\n",
       "       'historisch', 'holiday', 'hop', 'horror', 'house', 'hymn', 'idm',\n",
       "       'independent', 'indian', 'indie', 'indipop', 'industrial',\n",
       "       'inspirational', 'instrumental', 'international', 'irish', 'jam',\n",
       "       'japanese', 'jazz', 'jewish', 'jpop', 'jungle', 'k-pop',\n",
       "       'karadeniz', 'karaoke', 'kayokyoku', 'korean', 'laiko', 'latin',\n",
       "       'latino', 'leftfield', 'local', 'lounge', 'loungeelectronic',\n",
       "       'lovers', 'malaysian', 'mandopop', 'marschmusik', 'meditative',\n",
       "       'mediterranean', 'melodic', 'metal', 'metalcore', 'mexican',\n",
       "       'middle', 'minimal', 'miscellaneous', 'modern', 'mood', 'mpb',\n",
       "       'muslim', 'native', 'neoklassik', 'neue', 'new', 'newage',\n",
       "       'newwave', 'nu', 'nujazz', 'numetal', 'oceania', 'old', 'opera',\n",
       "       'orchestral', 'other', 'piano', 'podcasts', 'pop', 'popdance',\n",
       "       'popelectronic', 'popeurodance', 'poprussian', 'post',\n",
       "       'posthardcore', 'postrock', 'power', 'progmetal', 'progressive',\n",
       "       'psychedelic', 'punjabi', 'punk', 'quebecois', 'ragga', 'ram',\n",
       "       'rancheras', 'rap', 'rave', 'reggae', 'reggaeton', 'regional',\n",
       "       'relax', 'religious', 'retro', 'rhythm', 'rnb', 'rnr', 'rock',\n",
       "       'rockabilly', 'rockalternative', 'rockindie', 'rockother',\n",
       "       'romance', 'roots', 'ruspop', 'rusrap', 'rusrock', 'russian',\n",
       "       'salsa', 'samba', 'scenic', 'schlager', 'self', 'sertanejo',\n",
       "       'shanson', 'shoegazing', 'showtunes', 'singer', 'ska', 'skarock',\n",
       "       'slow', 'smooth', 'soft', 'soul', 'soulful', 'sound', 'soundtrack',\n",
       "       'southern', 'specialty', 'speech', 'spiritual', 'sport',\n",
       "       'stonerrock', 'surf', 'swing', 'synthpop', 'synthrock',\n",
       "       'sängerportrait', 'tango', 'tanzorchester', 'taraftar', 'tatar',\n",
       "       'tech', 'techno', 'teen', 'thrash', 'top', 'traditional',\n",
       "       'tradjazz', 'trance', 'tribal', 'trip', 'triphop', 'tropical',\n",
       "       'türk', 'türkçe', 'ukrrock', 'unknown', 'urban', 'uzbek',\n",
       "       'variété', 'vi', 'videogame', 'vocal', 'western', 'world',\n",
       "       'worldbeat', 'ïîï', 'электроника'], dtype=object)"
      ]
     },
     "execution_count": 16,
     "metadata": {},
     "output_type": "execute_result"
    }
   ],
   "source": [
    "# Просмотр уникальных названий жанров\n",
    "df['genre'].sort_values().unique()"
   ]
  },
  {
   "cell_type": "code",
   "execution_count": 17,
   "metadata": {
    "id": "ErNDkmns_Zct"
   },
   "outputs": [],
   "source": [
    "# Функция для замены неявных дубликатов\n",
    "def replace_wrong_genres(wrong_genres,correct_genre):\n",
    "    for genre in wrong_genres:\n",
    "        df['genre'] = df['genre'].replace(genre,correct_genre)"
   ]
  },
  {
   "cell_type": "code",
   "execution_count": 18,
   "metadata": {
    "id": "YN5i2hpmSo09"
   },
   "outputs": [],
   "source": [
    "# Устранение неявных дубликатов\n",
    "wrong = ['hip','hop','hip-hop']\n",
    "correct = 'hiphop'\n",
    "replace_wrong_genres(wrong,correct)"
   ]
  },
  {
   "cell_type": "code",
   "execution_count": 19,
   "metadata": {
    "id": "wvixALnFG15m"
   },
   "outputs": [
    {
     "data": {
      "text/plain": [
       "array(['acid', 'acoustic', 'action', 'adult', 'africa', 'afrikaans',\n",
       "       'alternative', 'alternativepunk', 'ambient', 'americana',\n",
       "       'animated', 'anime', 'arabesk', 'arabic', 'arena',\n",
       "       'argentinetango', 'art', 'audiobook', 'author', 'avantgarde',\n",
       "       'axé', 'baile', 'balkan', 'beats', 'bigroom', 'black', 'bluegrass',\n",
       "       'blues', 'bollywood', 'bossa', 'brazilian', 'breakbeat', 'breaks',\n",
       "       'broadway', 'cantautori', 'cantopop', 'canzone', 'caribbean',\n",
       "       'caucasian', 'celtic', 'chamber', 'chanson', 'children', 'chill',\n",
       "       'chinese', 'choral', 'christian', 'christmas', 'classical',\n",
       "       'classicmetal', 'club', 'colombian', 'comedy', 'conjazz',\n",
       "       'contemporary', 'country', 'cuban', 'dance', 'dancehall',\n",
       "       'dancepop', 'dark', 'death', 'deep', 'deutschrock', 'deutschspr',\n",
       "       'dirty', 'disco', 'dnb', 'documentary', 'downbeat', 'downtempo',\n",
       "       'drum', 'dub', 'dubstep', 'eastern', 'easy', 'electronic',\n",
       "       'electropop', 'emo', 'entehno', 'epicmetal', 'estrada', 'ethnic',\n",
       "       'eurofolk', 'european', 'experimental', 'extrememetal', 'fado',\n",
       "       'fairytail', 'film', 'fitness', 'flamenco', 'folk', 'folklore',\n",
       "       'folkmetal', 'folkrock', 'folktronica', 'forró', 'frankreich',\n",
       "       'französisch', 'french', 'funk', 'future', 'gangsta', 'garage',\n",
       "       'german', 'ghazal', 'gitarre', 'glitch', 'gospel', 'gothic',\n",
       "       'grime', 'grunge', 'gypsy', 'handsup', \"hard'n'heavy\", 'hardcore',\n",
       "       'hardstyle', 'hardtechno', 'hiphop', 'historisch', 'holiday',\n",
       "       'horror', 'house', 'hymn', 'idm', 'independent', 'indian', 'indie',\n",
       "       'indipop', 'industrial', 'inspirational', 'instrumental',\n",
       "       'international', 'irish', 'jam', 'japanese', 'jazz', 'jewish',\n",
       "       'jpop', 'jungle', 'k-pop', 'karadeniz', 'karaoke', 'kayokyoku',\n",
       "       'korean', 'laiko', 'latin', 'latino', 'leftfield', 'local',\n",
       "       'lounge', 'loungeelectronic', 'lovers', 'malaysian', 'mandopop',\n",
       "       'marschmusik', 'meditative', 'mediterranean', 'melodic', 'metal',\n",
       "       'metalcore', 'mexican', 'middle', 'minimal', 'miscellaneous',\n",
       "       'modern', 'mood', 'mpb', 'muslim', 'native', 'neoklassik', 'neue',\n",
       "       'new', 'newage', 'newwave', 'nu', 'nujazz', 'numetal', 'oceania',\n",
       "       'old', 'opera', 'orchestral', 'other', 'piano', 'podcasts', 'pop',\n",
       "       'popdance', 'popelectronic', 'popeurodance', 'poprussian', 'post',\n",
       "       'posthardcore', 'postrock', 'power', 'progmetal', 'progressive',\n",
       "       'psychedelic', 'punjabi', 'punk', 'quebecois', 'ragga', 'ram',\n",
       "       'rancheras', 'rap', 'rave', 'reggae', 'reggaeton', 'regional',\n",
       "       'relax', 'religious', 'retro', 'rhythm', 'rnb', 'rnr', 'rock',\n",
       "       'rockabilly', 'rockalternative', 'rockindie', 'rockother',\n",
       "       'romance', 'roots', 'ruspop', 'rusrap', 'rusrock', 'russian',\n",
       "       'salsa', 'samba', 'scenic', 'schlager', 'self', 'sertanejo',\n",
       "       'shanson', 'shoegazing', 'showtunes', 'singer', 'ska', 'skarock',\n",
       "       'slow', 'smooth', 'soft', 'soul', 'soulful', 'sound', 'soundtrack',\n",
       "       'southern', 'specialty', 'speech', 'spiritual', 'sport',\n",
       "       'stonerrock', 'surf', 'swing', 'synthpop', 'synthrock',\n",
       "       'sängerportrait', 'tango', 'tanzorchester', 'taraftar', 'tatar',\n",
       "       'tech', 'techno', 'teen', 'thrash', 'top', 'traditional',\n",
       "       'tradjazz', 'trance', 'tribal', 'trip', 'triphop', 'tropical',\n",
       "       'türk', 'türkçe', 'ukrrock', 'unknown', 'urban', 'uzbek',\n",
       "       'variété', 'vi', 'videogame', 'vocal', 'western', 'world',\n",
       "       'worldbeat', 'ïîï', 'электроника'], dtype=object)"
      ]
     },
     "execution_count": 19,
     "metadata": {},
     "output_type": "execute_result"
    }
   ],
   "source": [
    "# Проверка на неявные дубликаты\n",
    "df['genre'].sort_values().unique()"
   ]
  },
  {
   "cell_type": "markdown",
   "metadata": {
    "id": "jz6a9-7HQUDd"
   },
   "source": [
    "**Выводы**\n",
    "\n",
    "Предобработка обнаружила три проблемы в данных:\n",
    "\n",
    "- нарушения в стиле заголовков,\n",
    "- пропущенные значения,\n",
    "- дубликаты — явные и неявные.\n",
    "\n",
    "Мы исправили заголовки, чтобы упростить работу с таблицей. Без дубликатов исследование станет более точным.\n",
    "\n",
    "Пропущенные значения вы заменили на `'unknown'`. Ещё предстоит увидеть, не повредят ли исследованию пропуски в колонке `genre`.\n",
    "\n",
    "Теперь можно перейти к проверке гипотез. "
   ]
  },
  {
   "cell_type": "markdown",
   "metadata": {
    "id": "WttZHXH0SqKk"
   },
   "source": [
    "## Проверка гипотез"
   ]
  },
  {
   "cell_type": "markdown",
   "metadata": {
    "id": "Im936VVi_Zcu"
   },
   "source": [
    "### Сравнение поведения пользователей двух столиц"
   ]
  },
  {
   "cell_type": "markdown",
   "metadata": {
    "id": "nwt_MuaL_Zcu"
   },
   "source": [
    "Первая гипотеза утверждает, что пользователи по-разному слушают музыку в Москве и Санкт-Петербурге. Проверьте это предположение по данным о трёх днях недели — понедельнике, среде и пятнице. Для этого:\n",
    "\n",
    "* Разделите пользователей Москвы и Санкт-Петербурга\n",
    "* Сравните, сколько треков послушала каждая группа пользователей в понедельник, среду и пятницу.\n"
   ]
  },
  {
   "cell_type": "markdown",
   "metadata": {
    "id": "8Dw_YMmT_Zcu"
   },
   "source": [
    "Для тренировки сначала выполним каждый из расчётов по отдельности. \n",
    "\n",
    "Оценим активность пользователей в каждом городе. Сгруппируем данные по городу и посчитаем прослушивания в каждой группе.\n",
    "\n"
   ]
  },
  {
   "cell_type": "code",
   "execution_count": 21,
   "metadata": {
    "id": "0_Qs96oh_Zcu"
   },
   "outputs": [
    {
     "data": {
      "text/plain": [
       "city\n",
       "Moscow              42741\n",
       "Saint-Petersburg    18512\n",
       "Name: track, dtype: int64"
      ]
     },
     "execution_count": 21,
     "metadata": {},
     "output_type": "execute_result"
    }
   ],
   "source": [
    "# Подсчёт прослушиваний в каждом городе\n",
    "df.groupby('city')['track'].count()"
   ]
  },
  {
   "cell_type": "markdown",
   "metadata": {
    "id": "dzli3w8o_Zcu"
   },
   "source": [
    "В Москве прослушиваний больше, чем в Петербурге. Из этого не следует, что московские пользователи чаще слушают музыку. Просто самих пользователей в Москве больше.\n",
    "\n",
    "Теперь сгруппируем данные по дню недели и подсчитайте прослушивания в понедельник, среду и пятницу. Учтем, что в данных есть информация только о прослушиваниях только за эти дни.\n"
   ]
  },
  {
   "cell_type": "code",
   "execution_count": 22,
   "metadata": {
    "id": "uZMKjiJz_Zcu"
   },
   "outputs": [
    {
     "data": {
      "text/plain": [
       "day\n",
       "Friday       21840\n",
       "Monday       21354\n",
       "Wednesday    18059\n",
       "Name: track, dtype: int64"
      ]
     },
     "execution_count": 22,
     "metadata": {},
     "output_type": "execute_result"
    }
   ],
   "source": [
    "# Подсчёт прослушиваний в каждый из трёх дней\n",
    "df.groupby('day')['track'].count()"
   ]
  },
  {
   "cell_type": "markdown",
   "metadata": {
    "id": "cC2tNrlL_Zcu"
   },
   "source": [
    "В среднем пользователи из двух городов менее активны по средам. Но картина может измениться, если рассмотреть каждый город в отдельности."
   ]
  },
  {
   "cell_type": "markdown",
   "metadata": {
    "id": "POzs8bGa_Zcu"
   },
   "source": [
    "Теперь напишем функцию, которая объединит два эти расчёта.\n",
    "\n",
    "Создаем функцию `number_tracks()`, которая посчитает прослушивания для заданного дня и города. Ей понадобятся два параметра:\n",
    "* день недели,\n",
    "* название города.\n",
    "\n",
    "В функции сохраним в переменную строки исходной таблицы, у которых значение:\n",
    "  * в колонке `day` равно параметру `day`,\n",
    "  * в колонке `city` равно параметру `city`.\n",
    "\n",
    "Для этого применим последовательную фильтрацию с логической индексацией.\n",
    "\n",
    "Затем посчитаем значения в столбце `user_id` получившейся таблицы. Результат сохраним в новую переменную. "
   ]
  },
  {
   "cell_type": "code",
   "execution_count": 23,
   "metadata": {
    "id": "Nz3GdQB1_Zcu"
   },
   "outputs": [],
   "source": [
    "# <создание функции number_tracks()>\n",
    "# Объявляется функция с двумя параметрами: day, city.\n",
    "# В переменной track_list сохраняются те строки таблицы df, для которых \n",
    "# значение в столбце 'day' равно параметру day и одновременно значение\n",
    "# в столбце 'city' равно параметру city (используйте последовательную фильтрацию\n",
    "# с помощью логической индексации).\n",
    "# В переменной track_list_count сохраняется число значений столбца 'user_id',\n",
    "# рассчитанное методом count() для таблицы track_list.\n",
    "# Функция возвращает число - значение track_list_count.\n",
    "\n",
    "# Функция для подсчёта прослушиваний для конкретного города и дня.\n",
    "# С помощью последовательной фильтрации с логической индексацией она \n",
    "# сначала получит из исходной таблицы строки с нужным днём,\n",
    "# затем из результата отфильтрует строки с нужным городом,\n",
    "# методом count() посчитает количество значений в колонке user_id. \n",
    "# Это количество функция вернёт в качестве результата\n",
    "\n",
    "def number_tracks(day,city):\n",
    "    track_list = df[df['day'] == day]\n",
    "    track_list = track_list[track_list['city'] == city]\n",
    "    track_list_count = track_list['user_id'].count()\n",
    "    return track_list_count \n",
    "    \n"
   ]
  },
  {
   "cell_type": "markdown",
   "metadata": {
    "id": "ytf7xFrFJQ2r"
   },
   "source": [
    "Вызовем `number_tracks()` шесть раз, меняя значение параметров — так, чтобы получить данные для каждого города в каждый из трёх дней."
   ]
  },
  {
   "cell_type": "code",
   "execution_count": 24,
   "metadata": {
    "id": "rJcRATNQ_Zcu"
   },
   "outputs": [
    {
     "data": {
      "text/plain": [
       "15740"
      ]
     },
     "execution_count": 24,
     "metadata": {},
     "output_type": "execute_result"
    }
   ],
   "source": [
    "# количество прослушиваний в Москве по понедельникам\n",
    "number_tracks('Monday','Moscow')"
   ]
  },
  {
   "cell_type": "code",
   "execution_count": 25,
   "metadata": {
    "id": "hq_ncZ5T_Zcu"
   },
   "outputs": [
    {
     "data": {
      "text/plain": [
       "5614"
      ]
     },
     "execution_count": 25,
     "metadata": {},
     "output_type": "execute_result"
    }
   ],
   "source": [
    "# количество прослушиваний в Санкт-Петербурге по понедельникам\n",
    "number_tracks('Monday','Saint-Petersburg')"
   ]
  },
  {
   "cell_type": "code",
   "execution_count": 26,
   "metadata": {
    "id": "_NTy2VPU_Zcu"
   },
   "outputs": [
    {
     "data": {
      "text/plain": [
       "11056"
      ]
     },
     "execution_count": 26,
     "metadata": {},
     "output_type": "execute_result"
    }
   ],
   "source": [
    "# количество прослушиваний в Москве по средам\n",
    "number_tracks('Wednesday','Moscow')"
   ]
  },
  {
   "cell_type": "code",
   "execution_count": 27,
   "metadata": {
    "id": "j2y3TAwo_Zcu"
   },
   "outputs": [
    {
     "data": {
      "text/plain": [
       "7003"
      ]
     },
     "execution_count": 27,
     "metadata": {},
     "output_type": "execute_result"
    }
   ],
   "source": [
    "# количество прослушиваний в Санкт-Петербурге по средам\n",
    "number_tracks('Wednesday','Saint-Petersburg')"
   ]
  },
  {
   "cell_type": "code",
   "execution_count": 28,
   "metadata": {
    "id": "vYDw5u_K_Zcu"
   },
   "outputs": [
    {
     "data": {
      "text/plain": [
       "15945"
      ]
     },
     "execution_count": 28,
     "metadata": {},
     "output_type": "execute_result"
    }
   ],
   "source": [
    "# количество прослушиваний в Москве по пятницам\n",
    "number_tracks('Friday','Moscow')"
   ]
  },
  {
   "cell_type": "code",
   "execution_count": 29,
   "metadata": {
    "id": "8_yzFtW3_Zcu"
   },
   "outputs": [
    {
     "data": {
      "text/plain": [
       "5895"
      ]
     },
     "execution_count": 29,
     "metadata": {},
     "output_type": "execute_result"
    }
   ],
   "source": [
    "# количество прослушиваний в Санкт-Петербурге по пятницам\n",
    "number_tracks('Friday','Saint-Petersburg')"
   ]
  },
  {
   "cell_type": "code",
   "execution_count": 30,
   "metadata": {},
   "outputs": [
    {
     "name": "stdout",
     "output_type": "stream",
     "text": [
      "City:Moscow\n",
      "Day:Monday\n",
      "Number of plays:15740\n",
      "\n",
      "City:Moscow\n",
      "Day:Wednesday\n",
      "Number of plays:11056\n",
      "\n",
      "City:Moscow\n",
      "Day:Friday\n",
      "Number of plays:15945\n",
      "\n",
      "City:Saint-Petersburg\n",
      "Day:Monday\n",
      "Number of plays:5614\n",
      "\n",
      "City:Saint-Petersburg\n",
      "Day:Wednesday\n",
      "Number of plays:7003\n",
      "\n",
      "City:Saint-Petersburg\n",
      "Day:Friday\n",
      "Number of plays:5895\n",
      "\n"
     ]
    }
   ],
   "source": [
    "cities = ['Moscow','Saint-Petersburg']\n",
    "days  = ['Monday','Wednesday','Friday']\n",
    "\n",
    "\n",
    "for city in cities:\n",
    "    for day in days:\n",
    "        number = number_tracks(day,city)\n",
    "        print(f'City:{city}', f'Day:{day}', f'Number of plays:{number}', sep = '\\n')\n",
    "        print()"
   ]
  },
  {
   "cell_type": "markdown",
   "metadata": {
    "id": "7QXffbO-_Zcu"
   },
   "source": [
    "Создаем c помощью конструктора `pd.DataFrame` таблицу, где\n",
    "* названия колонок — `['city', 'monday', 'wednesday', 'friday']`;\n",
    "* данные — результаты, которые вы получили с помощью `number_tracks`."
   ]
  },
  {
   "cell_type": "code",
   "execution_count": 31,
   "metadata": {
    "id": "APAcLpOr_Zcu"
   },
   "outputs": [],
   "source": [
    "# Таблица с результатами\n",
    "columns = ['city','monday','wednesday','friday']\n",
    "data = [\n",
    "    ['Moscow',15740,11056,15945],\n",
    "    ['Saint-Petersburg',5614,7003,5895]\n",
    "]\n",
    "\n",
    "comparison = pd.DataFrame(data = data, columns = columns)"
   ]
  },
  {
   "cell_type": "code",
   "execution_count": 32,
   "metadata": {},
   "outputs": [
    {
     "data": {
      "text/html": [
       "<div>\n",
       "<style scoped>\n",
       "    .dataframe tbody tr th:only-of-type {\n",
       "        vertical-align: middle;\n",
       "    }\n",
       "\n",
       "    .dataframe tbody tr th {\n",
       "        vertical-align: top;\n",
       "    }\n",
       "\n",
       "    .dataframe thead th {\n",
       "        text-align: right;\n",
       "    }\n",
       "</style>\n",
       "<table border=\"1\" class=\"dataframe\">\n",
       "  <thead>\n",
       "    <tr style=\"text-align: right;\">\n",
       "      <th></th>\n",
       "      <th>city</th>\n",
       "      <th>monday</th>\n",
       "      <th>wednesday</th>\n",
       "      <th>friday</th>\n",
       "    </tr>\n",
       "  </thead>\n",
       "  <tbody>\n",
       "    <tr>\n",
       "      <td>0</td>\n",
       "      <td>Moscow</td>\n",
       "      <td>15740</td>\n",
       "      <td>11056</td>\n",
       "      <td>15945</td>\n",
       "    </tr>\n",
       "    <tr>\n",
       "      <td>1</td>\n",
       "      <td>Saint-Petersburg</td>\n",
       "      <td>5614</td>\n",
       "      <td>7003</td>\n",
       "      <td>5895</td>\n",
       "    </tr>\n",
       "  </tbody>\n",
       "</table>\n",
       "</div>"
      ],
      "text/plain": [
       "               city  monday  wednesday  friday\n",
       "0            Moscow   15740      11056   15945\n",
       "1  Saint-Petersburg    5614       7003    5895"
      ]
     },
     "execution_count": 32,
     "metadata": {},
     "output_type": "execute_result"
    }
   ],
   "source": [
    "comparison"
   ]
  },
  {
   "cell_type": "markdown",
   "metadata": {
    "id": "-EgPIHYu_Zcu"
   },
   "source": [
    "**Выводы**\n",
    "\n",
    "Данные показывают разницу поведения пользователей:\n",
    "\n",
    "- В Москве пик прослушиваний приходится на понедельник и пятницу, а в среду заметен спад.\n",
    "- В Петербурге, наоборот, больше слушают музыку по средам. Активность в понедельник и пятницу здесь почти в равной мере уступает среде.\n",
    "\n",
    "Значит, данные говорят в пользу первой гипотезы."
   ]
  },
  {
   "cell_type": "markdown",
   "metadata": {
    "id": "atZAxtq4_Zcu"
   },
   "source": [
    "### Музыка в начале и в конце недели"
   ]
  },
  {
   "cell_type": "markdown",
   "metadata": {
    "id": "eXrQqXFH_Zcu"
   },
   "source": [
    "Согласно второй гипотезе, утром в понедельник в Москве преобладают одни жанры, а в Петербурге — другие. Так же и вечером пятницы преобладают разные жанры — в зависимости от города."
   ]
  },
  {
   "cell_type": "markdown",
   "metadata": {
    "id": "S8UcW6Hw_Zcu"
   },
   "source": [
    "Сохраним таблицы с данными в две переменные:\n",
    "* по Москве — в `moscow_general`;\n",
    "* по Санкт-Петербургу — в `spb_general`."
   ]
  },
  {
   "cell_type": "code",
   "execution_count": 33,
   "metadata": {
    "id": "qeaFfM_P_Zcu"
   },
   "outputs": [],
   "source": [
    "# получение таблицы moscow_general из тех строк таблицы df, \n",
    "# для которых значение в столбце 'city' равно 'Moscow'\n",
    "moscow_general = df[df['city'] == 'Moscow']"
   ]
  },
  {
   "cell_type": "code",
   "execution_count": 34,
   "metadata": {},
   "outputs": [
    {
     "data": {
      "text/html": [
       "<div>\n",
       "<style scoped>\n",
       "    .dataframe tbody tr th:only-of-type {\n",
       "        vertical-align: middle;\n",
       "    }\n",
       "\n",
       "    .dataframe tbody tr th {\n",
       "        vertical-align: top;\n",
       "    }\n",
       "\n",
       "    .dataframe thead th {\n",
       "        text-align: right;\n",
       "    }\n",
       "</style>\n",
       "<table border=\"1\" class=\"dataframe\">\n",
       "  <thead>\n",
       "    <tr style=\"text-align: right;\">\n",
       "      <th></th>\n",
       "      <th>user_id</th>\n",
       "      <th>track</th>\n",
       "      <th>artist</th>\n",
       "      <th>genre</th>\n",
       "      <th>city</th>\n",
       "      <th>time</th>\n",
       "      <th>day</th>\n",
       "    </tr>\n",
       "  </thead>\n",
       "  <tbody>\n",
       "    <tr>\n",
       "      <td>1</td>\n",
       "      <td>55204538</td>\n",
       "      <td>Delayed Because of Accident</td>\n",
       "      <td>Andreas Rönnberg</td>\n",
       "      <td>rock</td>\n",
       "      <td>Moscow</td>\n",
       "      <td>14:07:09</td>\n",
       "      <td>Friday</td>\n",
       "    </tr>\n",
       "    <tr>\n",
       "      <td>4</td>\n",
       "      <td>E2DC1FAE</td>\n",
       "      <td>Soul People</td>\n",
       "      <td>Space Echo</td>\n",
       "      <td>dance</td>\n",
       "      <td>Moscow</td>\n",
       "      <td>08:34:34</td>\n",
       "      <td>Monday</td>\n",
       "    </tr>\n",
       "    <tr>\n",
       "      <td>6</td>\n",
       "      <td>4CB90AA5</td>\n",
       "      <td>True</td>\n",
       "      <td>Roman Messer</td>\n",
       "      <td>dance</td>\n",
       "      <td>Moscow</td>\n",
       "      <td>13:00:07</td>\n",
       "      <td>Wednesday</td>\n",
       "    </tr>\n",
       "    <tr>\n",
       "      <td>7</td>\n",
       "      <td>F03E1C1F</td>\n",
       "      <td>Feeling This Way</td>\n",
       "      <td>Polina Griffith</td>\n",
       "      <td>dance</td>\n",
       "      <td>Moscow</td>\n",
       "      <td>20:47:49</td>\n",
       "      <td>Wednesday</td>\n",
       "    </tr>\n",
       "    <tr>\n",
       "      <td>8</td>\n",
       "      <td>8FA1D3BE</td>\n",
       "      <td>И вновь продолжается бой</td>\n",
       "      <td>unknown</td>\n",
       "      <td>ruspop</td>\n",
       "      <td>Moscow</td>\n",
       "      <td>09:17:40</td>\n",
       "      <td>Friday</td>\n",
       "    </tr>\n",
       "    <tr>\n",
       "      <td>10</td>\n",
       "      <td>BC5A3A29</td>\n",
       "      <td>Gool la Mita</td>\n",
       "      <td>Shireen Abdul Wahab</td>\n",
       "      <td>world</td>\n",
       "      <td>Moscow</td>\n",
       "      <td>14:08:42</td>\n",
       "      <td>Monday</td>\n",
       "    </tr>\n",
       "    <tr>\n",
       "      <td>11</td>\n",
       "      <td>8B5192C0</td>\n",
       "      <td>Is There Anybody Out There? (Panoramic Paralys...</td>\n",
       "      <td>Pink Floyd Floydhead</td>\n",
       "      <td>electronic</td>\n",
       "      <td>Moscow</td>\n",
       "      <td>13:47:49</td>\n",
       "      <td>Monday</td>\n",
       "    </tr>\n",
       "  </tbody>\n",
       "</table>\n",
       "</div>"
      ],
      "text/plain": [
       "     user_id                                              track  \\\n",
       "1   55204538                        Delayed Because of Accident   \n",
       "4   E2DC1FAE                                        Soul People   \n",
       "6   4CB90AA5                                               True   \n",
       "7   F03E1C1F                                   Feeling This Way   \n",
       "8   8FA1D3BE                           И вновь продолжается бой   \n",
       "10  BC5A3A29                                       Gool la Mita   \n",
       "11  8B5192C0  Is There Anybody Out There? (Panoramic Paralys...   \n",
       "\n",
       "                  artist       genre    city      time        day  \n",
       "1       Andreas Rönnberg        rock  Moscow  14:07:09     Friday  \n",
       "4             Space Echo       dance  Moscow  08:34:34     Monday  \n",
       "6           Roman Messer       dance  Moscow  13:00:07  Wednesday  \n",
       "7        Polina Griffith       dance  Moscow  20:47:49  Wednesday  \n",
       "8                unknown      ruspop  Moscow  09:17:40     Friday  \n",
       "10   Shireen Abdul Wahab       world  Moscow  14:08:42     Monday  \n",
       "11  Pink Floyd Floydhead  electronic  Moscow  13:47:49     Monday  "
      ]
     },
     "execution_count": 34,
     "metadata": {},
     "output_type": "execute_result"
    }
   ],
   "source": [
    "moscow_general.head(7)"
   ]
  },
  {
   "cell_type": "code",
   "execution_count": 35,
   "metadata": {
    "id": "ORaVRKto_Zcu"
   },
   "outputs": [],
   "source": [
    "# получение таблицы spb_general из тех строк таблицы df,\n",
    "# для которых значение в столбце 'city' равно 'Saint-Petersburg'\n",
    "spb_general = df[df['city'] == 'Saint-Petersburg']"
   ]
  },
  {
   "cell_type": "code",
   "execution_count": 36,
   "metadata": {},
   "outputs": [
    {
     "data": {
      "text/html": [
       "<div>\n",
       "<style scoped>\n",
       "    .dataframe tbody tr th:only-of-type {\n",
       "        vertical-align: middle;\n",
       "    }\n",
       "\n",
       "    .dataframe tbody tr th {\n",
       "        vertical-align: top;\n",
       "    }\n",
       "\n",
       "    .dataframe thead th {\n",
       "        text-align: right;\n",
       "    }\n",
       "</style>\n",
       "<table border=\"1\" class=\"dataframe\">\n",
       "  <thead>\n",
       "    <tr style=\"text-align: right;\">\n",
       "      <th></th>\n",
       "      <th>user_id</th>\n",
       "      <th>track</th>\n",
       "      <th>artist</th>\n",
       "      <th>genre</th>\n",
       "      <th>city</th>\n",
       "      <th>time</th>\n",
       "      <th>day</th>\n",
       "    </tr>\n",
       "  </thead>\n",
       "  <tbody>\n",
       "    <tr>\n",
       "      <td>0</td>\n",
       "      <td>FFB692EC</td>\n",
       "      <td>Kamigata To Boots</td>\n",
       "      <td>The Mass Missile</td>\n",
       "      <td>rock</td>\n",
       "      <td>Saint-Petersburg</td>\n",
       "      <td>20:28:33</td>\n",
       "      <td>Wednesday</td>\n",
       "    </tr>\n",
       "    <tr>\n",
       "      <td>2</td>\n",
       "      <td>20EC38</td>\n",
       "      <td>Funiculì funiculà</td>\n",
       "      <td>Mario Lanza</td>\n",
       "      <td>pop</td>\n",
       "      <td>Saint-Petersburg</td>\n",
       "      <td>20:58:07</td>\n",
       "      <td>Wednesday</td>\n",
       "    </tr>\n",
       "    <tr>\n",
       "      <td>3</td>\n",
       "      <td>A3DD03C9</td>\n",
       "      <td>Dragons in the Sunset</td>\n",
       "      <td>Fire + Ice</td>\n",
       "      <td>folk</td>\n",
       "      <td>Saint-Petersburg</td>\n",
       "      <td>08:37:09</td>\n",
       "      <td>Monday</td>\n",
       "    </tr>\n",
       "    <tr>\n",
       "      <td>5</td>\n",
       "      <td>842029A1</td>\n",
       "      <td>Преданная</td>\n",
       "      <td>IMPERVTOR</td>\n",
       "      <td>rusrap</td>\n",
       "      <td>Saint-Petersburg</td>\n",
       "      <td>13:09:41</td>\n",
       "      <td>Friday</td>\n",
       "    </tr>\n",
       "    <tr>\n",
       "      <td>9</td>\n",
       "      <td>E772D5C0</td>\n",
       "      <td>Pessimist</td>\n",
       "      <td>unknown</td>\n",
       "      <td>dance</td>\n",
       "      <td>Saint-Petersburg</td>\n",
       "      <td>21:20:49</td>\n",
       "      <td>Wednesday</td>\n",
       "    </tr>\n",
       "    <tr>\n",
       "      <td>14</td>\n",
       "      <td>94EB25C2</td>\n",
       "      <td>Make Love Whenever You Can</td>\n",
       "      <td>Arabesque</td>\n",
       "      <td>pop</td>\n",
       "      <td>Saint-Petersburg</td>\n",
       "      <td>13:22:08</td>\n",
       "      <td>Wednesday</td>\n",
       "    </tr>\n",
       "    <tr>\n",
       "      <td>16</td>\n",
       "      <td>81D05C7D</td>\n",
       "      <td>SLAVES OF FEAR</td>\n",
       "      <td>HEALTH</td>\n",
       "      <td>alternative</td>\n",
       "      <td>Saint-Petersburg</td>\n",
       "      <td>20:54:48</td>\n",
       "      <td>Monday</td>\n",
       "    </tr>\n",
       "  </tbody>\n",
       "</table>\n",
       "</div>"
      ],
      "text/plain": [
       "     user_id                       track            artist        genre  \\\n",
       "0   FFB692EC           Kamigata To Boots  The Mass Missile         rock   \n",
       "2     20EC38           Funiculì funiculà       Mario Lanza          pop   \n",
       "3   A3DD03C9       Dragons in the Sunset        Fire + Ice         folk   \n",
       "5   842029A1                   Преданная         IMPERVTOR       rusrap   \n",
       "9   E772D5C0                   Pessimist           unknown        dance   \n",
       "14  94EB25C2  Make Love Whenever You Can         Arabesque          pop   \n",
       "16  81D05C7D              SLAVES OF FEAR            HEALTH  alternative   \n",
       "\n",
       "                city      time        day  \n",
       "0   Saint-Petersburg  20:28:33  Wednesday  \n",
       "2   Saint-Petersburg  20:58:07  Wednesday  \n",
       "3   Saint-Petersburg  08:37:09     Monday  \n",
       "5   Saint-Petersburg  13:09:41     Friday  \n",
       "9   Saint-Petersburg  21:20:49  Wednesday  \n",
       "14  Saint-Petersburg  13:22:08  Wednesday  \n",
       "16  Saint-Petersburg  20:54:48     Monday  "
      ]
     },
     "execution_count": 36,
     "metadata": {},
     "output_type": "execute_result"
    }
   ],
   "source": [
    "spb_general.head(7)"
   ]
  },
  {
   "cell_type": "markdown",
   "metadata": {
    "id": "MEJV-CX2_Zcu"
   },
   "source": [
    "Создаем функцию `genre_weekday()` с четырьмя параметрами:\n",
    "* таблица (датафрейм) с данными,\n",
    "* день недели,\n",
    "* начальная временная метка в формате 'hh:mm', \n",
    "* последняя временная метка в формате 'hh:mm'.\n",
    "\n",
    "Функция должна вернуть информацию о топ-10 жанров тех треков, которые прослушивали в указанный день, в промежутке между двумя отметками времени."
   ]
  },
  {
   "cell_type": "code",
   "execution_count": 37,
   "metadata": {
    "id": "laJT9BYl_Zcu"
   },
   "outputs": [],
   "source": [
    "# Объявление функции genre_weekday() с параметрами table, day, time1, time2,\n",
    "# которая возвращает информацию о самых популярных жанрах в указанный день в\n",
    "# заданное время:\n",
    "# 1) в переменную genre_df сохраняются те строки переданного датафрейма table, для\n",
    "#    которых одновременно:\n",
    "#    - значение в столбце day равно значению аргумента day\n",
    "#    - значение в столбце time больше значения аргумента time1\n",
    "#    - значение в столбце time меньше значения аргумента time2\n",
    "#    Используйте последовательную фильтрацию с помощью логической индексации.\n",
    "# 2) сгруппировать датафрейм genre_df по столбцу genre, взять один из его\n",
    "#    столбцов и посчитать методом count() количество записей для каждого из\n",
    "#    присутствующих жанров, получившийся Series записать в переменную\n",
    "#    genre_df_count\n",
    "# 3) отсортировать genre_df_count по убыванию встречаемости и сохранить\n",
    "#    в переменную genre_df_sorted\n",
    "# 4) вернуть Series из 10 первых значений genre_df_sorted, это будут топ-10\n",
    "#    популярных жанров (в указанный день, в заданное время)\n",
    "\n",
    "def genre_weekday(table, day, time1, time2):\n",
    "    genre_df = table[table['day'] == day]\n",
    "    genre_df = genre_df[genre_df['time'] > time1]\n",
    "    genre_df = genre_df[genre_df['time'] < time2]\n",
    "    \n",
    "    genre_df_count = genre_df.groupby('genre')['genre'].count()\n",
    "    genre_df_sorted = genre_df_count.sort_values(ascending = False)\n",
    "    \n",
    "    return genre_df_sorted[:10]\n",
    "    \n"
   ]
  },
  {
   "cell_type": "markdown",
   "metadata": {
    "id": "la2s2_PF_Zcu"
   },
   "source": [
    "Cравним результаты функции `genre_weekday()` для Москвы и Санкт-Петербурга в понедельник утром (с 7:00 до 11:00) и в пятницу вечером (с 17:00 до 23:00):"
   ]
  },
  {
   "cell_type": "code",
   "execution_count": 38,
   "metadata": {
    "id": "yz7itPUQ_Zcu"
   },
   "outputs": [
    {
     "data": {
      "text/plain": [
       "genre\n",
       "pop            781\n",
       "dance          549\n",
       "electronic     480\n",
       "rock           474\n",
       "hiphop         286\n",
       "ruspop         186\n",
       "world          181\n",
       "rusrap         175\n",
       "alternative    164\n",
       "unknown        161\n",
       "Name: genre, dtype: int64"
      ]
     },
     "execution_count": 38,
     "metadata": {},
     "output_type": "execute_result"
    }
   ],
   "source": [
    "# вызов функции для утра понедельника в Москве (вместо df — таблица moscow_general)\n",
    "# объекты, хранящие время, являются строками и сравниваются как строки\n",
    "# пример вызова: genre_weekday(moscow_general, 'Monday', '07:00', '11:00')\n",
    "genre_weekday(moscow_general,'Monday','07:00', '11:00')"
   ]
  },
  {
   "cell_type": "code",
   "execution_count": 39,
   "metadata": {
    "id": "kwUcHPdy_Zcu"
   },
   "outputs": [
    {
     "data": {
      "text/plain": [
       "genre\n",
       "pop            218\n",
       "dance          182\n",
       "rock           162\n",
       "electronic     147\n",
       "hiphop          80\n",
       "ruspop          64\n",
       "alternative     58\n",
       "rusrap          55\n",
       "jazz            44\n",
       "classical       40\n",
       "Name: genre, dtype: int64"
      ]
     },
     "execution_count": 39,
     "metadata": {},
     "output_type": "execute_result"
    }
   ],
   "source": [
    "# вызов функции для утра понедельника в Петербурге (вместо df — таблица spb_general)\n",
    "genre_weekday(spb_general,'Monday','07:00', '11:00')"
   ]
  },
  {
   "cell_type": "code",
   "execution_count": 40,
   "metadata": {
    "id": "EzXVRE1o_Zcu"
   },
   "outputs": [
    {
     "data": {
      "text/plain": [
       "genre\n",
       "pop            713\n",
       "rock           517\n",
       "dance          495\n",
       "electronic     482\n",
       "hiphop         273\n",
       "world          208\n",
       "ruspop         170\n",
       "alternative    163\n",
       "classical      163\n",
       "rusrap         142\n",
       "Name: genre, dtype: int64"
      ]
     },
     "execution_count": 40,
     "metadata": {},
     "output_type": "execute_result"
    }
   ],
   "source": [
    "# вызов функции для вечера пятницы в Москве\n",
    "genre_weekday(moscow_general,'Friday','17:00', '23:00')"
   ]
  },
  {
   "cell_type": "code",
   "execution_count": 41,
   "metadata": {
    "id": "JZaEKu5v_Zcu"
   },
   "outputs": [
    {
     "data": {
      "text/plain": [
       "genre\n",
       "pop            256\n",
       "rock           216\n",
       "electronic     216\n",
       "dance          210\n",
       "hiphop          97\n",
       "alternative     63\n",
       "jazz            61\n",
       "classical       60\n",
       "rusrap          59\n",
       "world           54\n",
       "Name: genre, dtype: int64"
      ]
     },
     "execution_count": 41,
     "metadata": {},
     "output_type": "execute_result"
    }
   ],
   "source": [
    "# вызов функции для вечера пятницы в Петербурге\n",
    "genre_weekday(spb_general,'Friday','17:00', '23:00')"
   ]
  },
  {
   "cell_type": "markdown",
   "metadata": {
    "id": "wrCe4MNX_Zcu"
   },
   "source": [
    "**Выводы**\n",
    "\n",
    "Если сравнить топ-10 жанров в понедельник утром, можно сделать такие выводы:\n",
    "\n",
    "1. В Москве и Петербурге слушают похожую музыку. Единственное отличие — в московский рейтинг вошёл жанр “world”, а в петербургский — джаз и классика.\n",
    "\n",
    "2. В Москве пропущенных значений оказалось так много, что значение `'unknown'` заняло десятое место среди самых популярных жанров. Значит, пропущенные значения занимают существенную долю в данных и угрожают достоверности исследования.\n",
    "\n",
    "Вечер пятницы не меняет эту картину. Некоторые жанры поднимаются немного выше, другие спускаются, но в целом топ-10 остаётся тем же самым.\n",
    "\n",
    "Таким образом, вторая гипотеза подтвердилась лишь частично:\n",
    "* Пользователи слушают похожую музыку в начале недели и в конце.\n",
    "* Разница между Москвой и Петербургом не слишком выражена. В Москве чаще слушают русскую популярную музыку, в Петербурге — джаз.\n",
    "\n",
    "Однако пропуски в данных ставят под сомнение этот результат. В Москве их так много, что рейтинг топ-10 мог бы выглядеть иначе, если бы не утерянные  данные о жанрах."
   ]
  },
  {
   "cell_type": "markdown",
   "metadata": {
    "id": "JolODAqr_Zcu"
   },
   "source": [
    "### Жанровые предпочтения в Москве и Петербурге\n",
    "\n",
    "Гипотеза: Петербург — столица рэпа, музыку этого жанра там слушают чаще, чем в Москве.  А Москва — город контрастов, в котором, тем не менее, преобладает поп-музыка."
   ]
  },
  {
   "cell_type": "markdown",
   "metadata": {
    "id": "DlegSvaT_Zcu"
   },
   "source": [
    "Сгруппируем таблицу `moscow_general` по жанру и посчитаем прослушивания треков каждого жанра методом `count()`. Затем отсортируем результат в порядке убывания и сохраните его в таблице `moscow_genres`."
   ]
  },
  {
   "cell_type": "code",
   "execution_count": 42,
   "metadata": {
    "id": "r19lIPke_Zcu"
   },
   "outputs": [],
   "source": [
    "# одной строкой: группировка таблицы moscow_general по столбцу 'genre', \n",
    "# подсчёт числа значений 'genre' в этой группировке методом count(), \n",
    "# сортировка получившегося Series в порядке убывания и сохранение в moscow_genres\n",
    "moscow_genres = moscow_general.groupby('genre')['genre'].count().sort_values(ascending = False)"
   ]
  },
  {
   "cell_type": "code",
   "execution_count": 43,
   "metadata": {
    "id": "WhCSooF8_Zcv"
   },
   "outputs": [
    {
     "data": {
      "text/plain": [
       "genre\n",
       "pop            5892\n",
       "dance          4435\n",
       "rock           3965\n",
       "electronic     3786\n",
       "hiphop         2096\n",
       "classical      1616\n",
       "world          1432\n",
       "alternative    1379\n",
       "ruspop         1372\n",
       "rusrap         1161\n",
       "Name: genre, dtype: int64"
      ]
     },
     "execution_count": 43,
     "metadata": {},
     "output_type": "execute_result"
    }
   ],
   "source": [
    "# просмотр первых 10 строк moscow_genres\n",
    "moscow_genres.head(10)"
   ]
  },
  {
   "cell_type": "markdown",
   "metadata": {
    "id": "cnPG2vnN_Zcv"
   },
   "source": [
    "Теперь повторим то же и для Петербурга.\n",
    "\n"
   ]
  },
  {
   "cell_type": "code",
   "execution_count": 44,
   "metadata": {
    "id": "gluLIpE7_Zcv"
   },
   "outputs": [],
   "source": [
    "# одной строкой: группировка таблицы spb_general по столбцу 'genre', \n",
    "# подсчёт числа значений 'genre' в этой группировке методом count(), \n",
    "# сортировка получившегося Series в порядке убывания и сохранение в spb_genres\n",
    "spb_genres = spb_general.groupby('genre')['genre'].count().sort_values(ascending = False)"
   ]
  },
  {
   "cell_type": "code",
   "execution_count": 45,
   "metadata": {
    "id": "uaGJHjVU_Zcv"
   },
   "outputs": [
    {
     "data": {
      "text/plain": [
       "genre\n",
       "pop            2431\n",
       "dance          1932\n",
       "rock           1879\n",
       "electronic     1736\n",
       "hiphop          960\n",
       "alternative     649\n",
       "classical       646\n",
       "rusrap          564\n",
       "ruspop          538\n",
       "world           515\n",
       "Name: genre, dtype: int64"
      ]
     },
     "execution_count": 45,
     "metadata": {},
     "output_type": "execute_result"
    }
   ],
   "source": [
    "# просмотр первых 10 строк spb_genres\n",
    "spb_genres.head(10)"
   ]
  },
  {
   "cell_type": "markdown",
   "metadata": {
    "id": "RY51YJYu_Zcv"
   },
   "source": [
    "**Выводы**"
   ]
  },
  {
   "cell_type": "markdown",
   "metadata": {
    "id": "nVhnJEm__Zcv"
   },
   "source": [
    "Гипотеза частично подтвердилась:\n",
    "* Поп-музыка — самый популярный жанр в Москве, как и предполагала гипотеза. Более того, в топ-10 жанров встречается близкий жанр — русская популярная музыка.\n",
    "* Вопреки ожиданиям, рэп одинаково популярен в Москве и Петербурге. \n"
   ]
  },
  {
   "cell_type": "markdown",
   "metadata": {
    "id": "ykKQ0N65_Zcv"
   },
   "source": [
    "## Итоги исследования"
   ]
  },
  {
   "cell_type": "markdown",
   "metadata": {
    "id": "tjUwbHb3_Zcv"
   },
   "source": [
    "Мы проверили три гипотезы и установили:\n",
    "\n",
    "1. День недели по-разному влияет на активность пользователей в Москве и Петербурге. \n",
    "\n",
    "Первая гипотеза полностью подтвердилась.\n",
    "\n",
    "2. Музыкальные предпочтения не сильно меняются в течение недели — будь то Москва или Петербург. Небольшие различия заметны в начале недели, по понедельникам:\n",
    "* в Москве слушают музыку жанра “world”,\n",
    "* в Петербурге — джаз и классику.\n",
    "\n",
    "Таким образом, вторая гипотеза подтвердилась лишь отчасти. Этот результат мог оказаться иным, если бы не пропуски в данных.\n",
    "\n",
    "3. Во вкусах пользователей Москвы и Петербурга больше общего чем различий. Вопреки ожиданиям, предпочтения жанров в Петербурге напоминают московские.\n",
    "\n",
    "Третья гипотеза не подтвердилась. Если различия в предпочтениях и существуют, на основной массе пользователей они незаметны.\n",
    "\n",
    "**На практике исследования содержат проверки статистических гипотез.**\n",
    "Из данных одного сервиса не всегда можно сделать вывод о всех жителях города.\n",
    "Проверки статистических гипотез покажут, насколько они достоверны, исходя из имеющихся данных. \n",
    "С методами проверок гипотез вы ещё познакомитесь в следующих темах."
   ]
  }
 ],
 "metadata": {
  "ExecuteTimeLog": [
   {
    "duration": 595,
    "start_time": "2022-02-03T18:16:47.581Z"
   },
   {
    "duration": 66,
    "start_time": "2022-02-03T18:16:54.461Z"
   },
   {
    "duration": 2,
    "start_time": "2022-02-03T18:16:58.088Z"
   },
   {
    "duration": 140,
    "start_time": "2022-02-03T18:17:42.499Z"
   },
   {
    "duration": 1579,
    "start_time": "2022-02-03T18:17:48.476Z"
   },
   {
    "duration": 133,
    "start_time": "2022-02-03T18:17:54.018Z"
   },
   {
    "duration": 17,
    "start_time": "2022-02-03T18:18:13.336Z"
   },
   {
    "duration": 7,
    "start_time": "2022-02-03T18:18:27.825Z"
   },
   {
    "duration": 11,
    "start_time": "2022-02-03T18:18:34.589Z"
   },
   {
    "duration": 12,
    "start_time": "2022-02-03T18:18:48.030Z"
   },
   {
    "duration": 10,
    "start_time": "2022-02-03T18:18:58.674Z"
   },
   {
    "duration": 24,
    "start_time": "2022-02-03T18:19:44.940Z"
   },
   {
    "duration": 3,
    "start_time": "2022-02-03T18:21:28.113Z"
   },
   {
    "duration": 21,
    "start_time": "2022-02-03T18:23:31.876Z"
   },
   {
    "duration": 5,
    "start_time": "2022-02-03T18:23:41.330Z"
   },
   {
    "duration": 4,
    "start_time": "2022-02-03T18:24:10.459Z"
   },
   {
    "duration": 17,
    "start_time": "2022-02-03T18:24:12.610Z"
   },
   {
    "duration": 4,
    "start_time": "2022-02-03T18:24:15.639Z"
   },
   {
    "duration": 15,
    "start_time": "2022-02-03T18:24:28.678Z"
   },
   {
    "duration": 4,
    "start_time": "2022-02-03T18:24:29.530Z"
   },
   {
    "duration": 23,
    "start_time": "2022-02-03T18:26:54.093Z"
   },
   {
    "duration": 23,
    "start_time": "2022-02-03T18:27:19.132Z"
   },
   {
    "duration": 25,
    "start_time": "2022-02-03T18:27:25.190Z"
   },
   {
    "duration": 24,
    "start_time": "2022-02-03T18:27:31.671Z"
   },
   {
    "duration": 6,
    "start_time": "2022-02-03T18:31:33.472Z"
   },
   {
    "duration": 239,
    "start_time": "2022-02-03T18:33:08.251Z"
   },
   {
    "duration": 18,
    "start_time": "2022-02-03T18:33:21.752Z"
   },
   {
    "duration": 23,
    "start_time": "2022-02-03T18:33:23.260Z"
   },
   {
    "duration": 82,
    "start_time": "2022-02-03T18:34:49.045Z"
   },
   {
    "duration": 222,
    "start_time": "2022-02-03T18:34:53.964Z"
   },
   {
    "duration": 56,
    "start_time": "2022-02-03T18:35:11.291Z"
   },
   {
    "duration": 62,
    "start_time": "2022-02-03T18:38:08.501Z"
   },
   {
    "duration": 198,
    "start_time": "2022-02-03T18:38:29.410Z"
   },
   {
    "duration": 51,
    "start_time": "2022-02-03T18:38:37.680Z"
   },
   {
    "duration": 8,
    "start_time": "2022-02-03T18:44:44.565Z"
   },
   {
    "duration": 42,
    "start_time": "2022-02-03T18:52:03.661Z"
   },
   {
    "duration": 4,
    "start_time": "2022-02-03T19:00:33.319Z"
   },
   {
    "duration": 763,
    "start_time": "2022-02-03T19:02:25.913Z"
   },
   {
    "duration": 10,
    "start_time": "2022-02-03T19:02:33.531Z"
   },
   {
    "duration": 41,
    "start_time": "2022-02-03T19:02:57.350Z"
   },
   {
    "duration": 106,
    "start_time": "2022-02-03T19:12:25.892Z"
   },
   {
    "duration": 35,
    "start_time": "2022-02-03T19:12:35.558Z"
   },
   {
    "duration": 12,
    "start_time": "2022-02-03T19:12:58.597Z"
   },
   {
    "duration": 13,
    "start_time": "2022-02-03T19:13:19.032Z"
   },
   {
    "duration": 68,
    "start_time": "2022-02-03T19:13:24.246Z"
   },
   {
    "duration": 13,
    "start_time": "2022-02-03T19:13:26.743Z"
   },
   {
    "duration": 33,
    "start_time": "2022-02-03T19:16:43.560Z"
   },
   {
    "duration": 19,
    "start_time": "2022-02-03T19:17:03.827Z"
   },
   {
    "duration": 4,
    "start_time": "2022-02-03T19:26:21.636Z"
   },
   {
    "duration": 37,
    "start_time": "2022-02-03T19:27:59.752Z"
   },
   {
    "duration": 40,
    "start_time": "2022-02-03T19:28:12.831Z"
   },
   {
    "duration": 415,
    "start_time": "2022-02-03T19:28:44.979Z"
   },
   {
    "duration": 4,
    "start_time": "2022-02-03T19:29:05.680Z"
   },
   {
    "duration": 35,
    "start_time": "2022-02-03T19:29:06.591Z"
   },
   {
    "duration": 37,
    "start_time": "2022-02-03T19:29:06.903Z"
   },
   {
    "duration": 13,
    "start_time": "2022-02-03T19:29:08.211Z"
   },
   {
    "duration": 4,
    "start_time": "2022-02-03T19:29:50.973Z"
   },
   {
    "duration": 12,
    "start_time": "2022-02-03T19:29:53.415Z"
   },
   {
    "duration": 13,
    "start_time": "2022-02-03T19:30:06.650Z"
   },
   {
    "duration": 23,
    "start_time": "2022-02-03T19:32:52.509Z"
   },
   {
    "duration": 19,
    "start_time": "2022-02-03T19:33:57.933Z"
   },
   {
    "duration": 25,
    "start_time": "2022-02-03T19:34:41.883Z"
   },
   {
    "duration": 22,
    "start_time": "2022-02-03T19:34:43.108Z"
   },
   {
    "duration": 4,
    "start_time": "2022-02-03T19:34:46.263Z"
   },
   {
    "duration": 35,
    "start_time": "2022-02-03T19:34:47.092Z"
   },
   {
    "duration": 36,
    "start_time": "2022-02-03T19:34:47.128Z"
   },
   {
    "duration": 24,
    "start_time": "2022-02-03T19:34:48.366Z"
   },
   {
    "duration": 22,
    "start_time": "2022-02-03T19:34:49.048Z"
   },
   {
    "duration": 22,
    "start_time": "2022-02-03T19:34:52.517Z"
   },
   {
    "duration": 19,
    "start_time": "2022-02-03T19:35:12.116Z"
   },
   {
    "duration": 3,
    "start_time": "2022-02-03T19:35:55.741Z"
   },
   {
    "duration": 37,
    "start_time": "2022-02-03T19:35:56.079Z"
   },
   {
    "duration": 37,
    "start_time": "2022-02-03T19:35:56.349Z"
   },
   {
    "duration": 23,
    "start_time": "2022-02-03T19:35:57.115Z"
   },
   {
    "duration": 4,
    "start_time": "2022-02-03T19:36:14.540Z"
   },
   {
    "duration": 46,
    "start_time": "2022-02-03T19:36:15.251Z"
   },
   {
    "duration": 36,
    "start_time": "2022-02-03T19:36:15.557Z"
   },
   {
    "duration": 18,
    "start_time": "2022-02-03T19:36:16.376Z"
   },
   {
    "duration": 16,
    "start_time": "2022-02-03T19:36:19.244Z"
   },
   {
    "duration": 17,
    "start_time": "2022-02-03T19:36:19.881Z"
   },
   {
    "duration": 20,
    "start_time": "2022-02-03T19:37:52.482Z"
   },
   {
    "duration": 15,
    "start_time": "2022-02-03T19:37:52.814Z"
   },
   {
    "duration": 6,
    "start_time": "2022-02-03T19:44:47.120Z"
   },
   {
    "duration": 4,
    "start_time": "2022-02-03T19:44:53.570Z"
   },
   {
    "duration": 17,
    "start_time": "2022-02-03T19:44:54.165Z"
   },
   {
    "duration": 16,
    "start_time": "2022-02-03T19:44:54.596Z"
   },
   {
    "duration": 17,
    "start_time": "2022-02-03T19:44:54.933Z"
   },
   {
    "duration": 14,
    "start_time": "2022-02-03T19:44:55.589Z"
   },
   {
    "duration": 19,
    "start_time": "2022-02-03T19:44:57.012Z"
   },
   {
    "duration": 18,
    "start_time": "2022-02-03T19:44:57.943Z"
   },
   {
    "duration": 63,
    "start_time": "2022-02-03T19:46:19.733Z"
   },
   {
    "duration": 87,
    "start_time": "2022-02-03T19:46:33.861Z"
   },
   {
    "duration": 69,
    "start_time": "2022-02-03T19:46:39.620Z"
   },
   {
    "duration": 78,
    "start_time": "2022-02-03T19:46:43.357Z"
   },
   {
    "duration": 72,
    "start_time": "2022-02-03T19:46:49.255Z"
   },
   {
    "duration": 9,
    "start_time": "2022-02-03T19:49:05.482Z"
   },
   {
    "duration": 11,
    "start_time": "2022-02-03T19:49:28.799Z"
   },
   {
    "duration": 11,
    "start_time": "2022-02-03T19:51:07.468Z"
   },
   {
    "duration": 9,
    "start_time": "2022-02-03T19:51:57.051Z"
   },
   {
    "duration": 11,
    "start_time": "2022-02-03T19:52:09.363Z"
   },
   {
    "duration": 4,
    "start_time": "2022-02-03T20:04:17.906Z"
   },
   {
    "duration": 20,
    "start_time": "2022-02-03T20:05:34.924Z"
   },
   {
    "duration": 14,
    "start_time": "2022-02-03T20:06:00.684Z"
   },
   {
    "duration": 19,
    "start_time": "2022-02-03T20:08:30.983Z"
   },
   {
    "duration": 13,
    "start_time": "2022-02-03T20:08:31.359Z"
   },
   {
    "duration": 225,
    "start_time": "2022-02-03T20:13:16.432Z"
   },
   {
    "duration": 11,
    "start_time": "2022-02-03T20:14:25.328Z"
   },
   {
    "duration": 5,
    "start_time": "2022-02-03T20:14:43.070Z"
   },
   {
    "duration": 7,
    "start_time": "2022-02-03T20:15:28.819Z"
   },
   {
    "duration": 5,
    "start_time": "2022-02-03T20:15:44.351Z"
   },
   {
    "duration": 815,
    "start_time": "2022-02-12T11:32:48.254Z"
   },
   {
    "duration": 189,
    "start_time": "2022-02-12T11:32:49.072Z"
   },
   {
    "duration": 26,
    "start_time": "2022-02-12T11:32:49.269Z"
   },
   {
    "duration": 34,
    "start_time": "2022-02-12T11:32:49.298Z"
   },
   {
    "duration": 36,
    "start_time": "2022-02-12T11:32:49.335Z"
   },
   {
    "duration": 29,
    "start_time": "2022-02-12T11:32:49.374Z"
   },
   {
    "duration": 5,
    "start_time": "2022-02-12T11:32:49.406Z"
   },
   {
    "duration": 65,
    "start_time": "2022-02-12T11:32:49.414Z"
   },
   {
    "duration": 23,
    "start_time": "2022-02-12T11:32:49.482Z"
   },
   {
    "duration": 32,
    "start_time": "2022-02-12T11:32:49.507Z"
   },
   {
    "duration": 157,
    "start_time": "2022-02-12T11:32:49.542Z"
   },
   {
    "duration": 153,
    "start_time": "2022-02-12T11:32:49.702Z"
   },
   {
    "duration": 86,
    "start_time": "2022-02-12T11:32:49.858Z"
   },
   {
    "duration": 71,
    "start_time": "2022-02-12T11:32:49.946Z"
   },
   {
    "duration": 4,
    "start_time": "2022-02-12T11:32:50.020Z"
   },
   {
    "duration": 42,
    "start_time": "2022-02-12T11:32:50.027Z"
   },
   {
    "duration": 61,
    "start_time": "2022-02-12T11:32:50.072Z"
   },
   {
    "duration": 52,
    "start_time": "2022-02-12T11:32:50.135Z"
   },
   {
    "duration": 15,
    "start_time": "2022-02-12T11:32:50.189Z"
   },
   {
    "duration": 5,
    "start_time": "2022-02-12T11:32:50.207Z"
   },
   {
    "duration": 44,
    "start_time": "2022-02-12T11:32:50.214Z"
   },
   {
    "duration": 26,
    "start_time": "2022-02-12T11:32:50.261Z"
   },
   {
    "duration": 19,
    "start_time": "2022-02-12T11:32:50.292Z"
   },
   {
    "duration": 20,
    "start_time": "2022-02-12T11:32:50.314Z"
   },
   {
    "duration": 52,
    "start_time": "2022-02-12T11:32:50.337Z"
   },
   {
    "duration": 22,
    "start_time": "2022-02-12T11:32:50.392Z"
   },
   {
    "duration": 16,
    "start_time": "2022-02-12T11:32:50.417Z"
   },
   {
    "duration": 17,
    "start_time": "2022-02-12T11:32:50.471Z"
   },
   {
    "duration": 15,
    "start_time": "2022-02-12T11:32:50.491Z"
   },
   {
    "duration": 14,
    "start_time": "2022-02-12T11:32:50.509Z"
   },
   {
    "duration": 57,
    "start_time": "2022-02-12T11:32:50.525Z"
   },
   {
    "duration": 22,
    "start_time": "2022-02-12T11:32:50.584Z"
   },
   {
    "duration": 31,
    "start_time": "2022-02-12T11:32:50.609Z"
   },
   {
    "duration": 42,
    "start_time": "2022-02-12T11:32:50.642Z"
   },
   {
    "duration": 19,
    "start_time": "2022-02-12T11:32:50.686Z"
   },
   {
    "duration": 11,
    "start_time": "2022-02-12T11:32:50.707Z"
   },
   {
    "duration": 20,
    "start_time": "2022-02-12T11:32:50.720Z"
   },
   {
    "duration": 25,
    "start_time": "2022-02-12T11:32:50.743Z"
   },
   {
    "duration": 14,
    "start_time": "2022-02-12T11:35:54.692Z"
   },
   {
    "duration": 584,
    "start_time": "2022-02-12T16:44:56.518Z"
   },
   {
    "duration": 136,
    "start_time": "2022-02-12T16:44:57.901Z"
   },
   {
    "duration": 18,
    "start_time": "2022-02-12T16:44:59.083Z"
   },
   {
    "duration": 11,
    "start_time": "2022-02-12T16:45:00.017Z"
   },
   {
    "duration": 28,
    "start_time": "2022-02-12T16:45:03.141Z"
   },
   {
    "duration": 4,
    "start_time": "2022-02-12T16:45:05.751Z"
   },
   {
    "duration": 5,
    "start_time": "2022-02-12T16:45:22.051Z"
   },
   {
    "duration": 4,
    "start_time": "2022-02-12T16:45:29.966Z"
   },
   {
    "duration": 3,
    "start_time": "2022-02-12T16:45:46.534Z"
   },
   {
    "duration": 5,
    "start_time": "2022-02-12T16:46:04.808Z"
   },
   {
    "duration": 4,
    "start_time": "2022-02-12T16:46:07.874Z"
   },
   {
    "duration": 4,
    "start_time": "2022-02-12T16:46:12.888Z"
   },
   {
    "duration": 4,
    "start_time": "2022-02-12T16:46:27.387Z"
   },
   {
    "duration": 4,
    "start_time": "2022-02-12T16:46:32.121Z"
   },
   {
    "duration": 6,
    "start_time": "2022-02-12T16:46:35.703Z"
   },
   {
    "duration": 4,
    "start_time": "2022-02-12T16:46:47.384Z"
   },
   {
    "duration": 4,
    "start_time": "2022-02-12T16:47:00.837Z"
   },
   {
    "duration": 3,
    "start_time": "2022-02-12T16:47:03.662Z"
   },
   {
    "duration": 4,
    "start_time": "2022-02-12T16:47:08.910Z"
   },
   {
    "duration": 4,
    "start_time": "2022-02-12T16:47:12.892Z"
   },
   {
    "duration": 4,
    "start_time": "2022-02-12T16:47:15.030Z"
   },
   {
    "duration": 4,
    "start_time": "2022-02-12T16:50:51.806Z"
   },
   {
    "duration": 4,
    "start_time": "2022-02-12T16:51:00.911Z"
   },
   {
    "duration": 4,
    "start_time": "2022-02-12T16:51:02.403Z"
   },
   {
    "duration": 4,
    "start_time": "2022-02-12T16:51:21.850Z"
   },
   {
    "duration": 4,
    "start_time": "2022-02-12T16:51:35.941Z"
   },
   {
    "duration": 4,
    "start_time": "2022-02-12T16:51:41.763Z"
   },
   {
    "duration": 4,
    "start_time": "2022-02-12T16:55:03.567Z"
   },
   {
    "duration": 4,
    "start_time": "2022-02-12T16:56:15.012Z"
   },
   {
    "duration": 5,
    "start_time": "2022-02-12T16:56:17.385Z"
   },
   {
    "duration": 4,
    "start_time": "2022-02-12T16:56:19.247Z"
   },
   {
    "duration": 4,
    "start_time": "2022-02-12T16:56:21.179Z"
   },
   {
    "duration": 4,
    "start_time": "2022-02-12T16:56:23.097Z"
   },
   {
    "duration": 4,
    "start_time": "2022-02-12T16:56:25.026Z"
   },
   {
    "duration": 4,
    "start_time": "2022-02-12T16:56:27.082Z"
   },
   {
    "duration": 278,
    "start_time": "2022-02-12T16:56:28.933Z"
   },
   {
    "duration": 2,
    "start_time": "2022-02-12T16:57:40.259Z"
   },
   {
    "duration": 144,
    "start_time": "2022-02-12T16:57:41.332Z"
   },
   {
    "duration": 11,
    "start_time": "2022-02-12T16:57:42.370Z"
   },
   {
    "duration": 10,
    "start_time": "2022-02-12T16:57:43.760Z"
   },
   {
    "duration": 27,
    "start_time": "2022-02-12T16:57:46.441Z"
   },
   {
    "duration": 626,
    "start_time": "2022-02-12T17:20:04.136Z"
   },
   {
    "duration": 4,
    "start_time": "2022-02-12T17:20:11.317Z"
   },
   {
    "duration": 8110,
    "start_time": "2022-02-12T17:20:14.690Z"
   },
   {
    "duration": 2,
    "start_time": "2022-02-12T17:21:27.561Z"
   },
   {
    "duration": 142,
    "start_time": "2022-02-12T17:21:28.337Z"
   },
   {
    "duration": 11,
    "start_time": "2022-02-12T17:21:29.038Z"
   },
   {
    "duration": 10,
    "start_time": "2022-02-12T17:21:29.398Z"
   },
   {
    "duration": 24,
    "start_time": "2022-02-12T17:21:29.735Z"
   },
   {
    "duration": 4,
    "start_time": "2022-02-12T17:21:30.697Z"
   },
   {
    "duration": 4,
    "start_time": "2022-02-12T17:21:32.897Z"
   },
   {
    "duration": 21,
    "start_time": "2022-02-12T17:21:34.959Z"
   },
   {
    "duration": 5,
    "start_time": "2022-02-12T17:21:35.917Z"
   },
   {
    "duration": 24,
    "start_time": "2022-02-12T17:21:37.417Z"
   },
   {
    "duration": 18,
    "start_time": "2022-02-12T17:21:38.961Z"
   },
   {
    "duration": 23,
    "start_time": "2022-02-12T17:21:40.084Z"
   },
   {
    "duration": 63,
    "start_time": "2022-02-12T17:21:41.151Z"
   },
   {
    "duration": 77,
    "start_time": "2022-02-12T17:21:42.416Z"
   },
   {
    "duration": 53,
    "start_time": "2022-02-12T17:21:42.838Z"
   },
   {
    "duration": 45,
    "start_time": "2022-02-12T17:21:45.445Z"
   },
   {
    "duration": 4,
    "start_time": "2022-02-12T17:21:47.634Z"
   },
   {
    "duration": 13,
    "start_time": "2022-02-12T17:21:49.102Z"
   },
   {
    "duration": 45,
    "start_time": "2022-02-12T17:21:50.197Z"
   },
   {
    "duration": 3,
    "start_time": "2022-02-12T17:21:53.253Z"
   },
   {
    "duration": 13,
    "start_time": "2022-02-12T17:21:56.962Z"
   },
   {
    "duration": 12,
    "start_time": "2022-02-12T17:21:59.872Z"
   },
   {
    "duration": 4,
    "start_time": "2022-02-12T17:22:02.494Z"
   },
   {
    "duration": 19,
    "start_time": "2022-02-12T17:22:08.238Z"
   },
   {
    "duration": 17,
    "start_time": "2022-02-12T17:22:08.428Z"
   },
   {
    "duration": 16,
    "start_time": "2022-02-12T17:22:08.561Z"
   },
   {
    "duration": 15,
    "start_time": "2022-02-12T17:22:08.798Z"
   },
   {
    "duration": 18,
    "start_time": "2022-02-12T17:22:08.956Z"
   },
   {
    "duration": 16,
    "start_time": "2022-02-12T17:22:09.258Z"
   },
   {
    "duration": 70,
    "start_time": "2022-02-12T17:22:18.336Z"
   },
   {
    "duration": 70,
    "start_time": "2022-02-12T17:22:34.523Z"
   },
   {
    "duration": 72,
    "start_time": "2022-02-12T17:23:11.254Z"
   },
   {
    "duration": 72,
    "start_time": "2022-02-12T17:24:52.004Z"
   },
   {
    "duration": 7,
    "start_time": "2022-02-12T17:26:13.074Z"
   },
   {
    "duration": 9,
    "start_time": "2022-02-12T17:26:55.743Z"
   },
   {
    "duration": 4,
    "start_time": "2022-02-12T17:28:00.389Z"
   },
   {
    "duration": 7,
    "start_time": "2022-02-12T17:28:47.511Z"
   },
   {
    "duration": 11,
    "start_time": "2022-02-12T17:29:08.385Z"
   },
   {
    "duration": 13,
    "start_time": "2022-02-12T17:29:17.514Z"
   },
   {
    "duration": 11,
    "start_time": "2022-02-12T17:29:28.541Z"
   },
   {
    "duration": 224,
    "start_time": "2022-02-12T17:30:00.126Z"
   },
   {
    "duration": 11,
    "start_time": "2022-02-12T17:30:03.366Z"
   },
   {
    "duration": 10,
    "start_time": "2022-02-12T17:30:03.779Z"
   },
   {
    "duration": 11,
    "start_time": "2022-02-12T17:30:13.328Z"
   },
   {
    "duration": 12,
    "start_time": "2022-02-12T17:30:18.340Z"
   },
   {
    "duration": 12,
    "start_time": "2022-02-12T17:39:50.608Z"
   },
   {
    "duration": 11,
    "start_time": "2022-02-12T17:39:51.808Z"
   },
   {
    "duration": 11,
    "start_time": "2022-02-12T17:39:53.819Z"
   },
   {
    "duration": 4,
    "start_time": "2022-02-12T17:40:45.725Z"
   },
   {
    "duration": 4,
    "start_time": "2022-02-12T17:43:48.604Z"
   },
   {
    "duration": 20,
    "start_time": "2022-02-12T17:43:51.565Z"
   },
   {
    "duration": 14,
    "start_time": "2022-02-12T17:44:03.173Z"
   },
   {
    "duration": 4,
    "start_time": "2022-02-12T17:44:46.255Z"
   },
   {
    "duration": 21,
    "start_time": "2022-02-12T17:44:48.531Z"
   },
   {
    "duration": 4,
    "start_time": "2022-02-12T17:45:10.250Z"
   },
   {
    "duration": 26,
    "start_time": "2022-02-12T17:45:10.256Z"
   },
   {
    "duration": 5,
    "start_time": "2022-02-12T17:45:28.083Z"
   },
   {
    "duration": 21,
    "start_time": "2022-02-12T17:45:29.408Z"
   },
   {
    "duration": 16,
    "start_time": "2022-02-12T17:45:30.301Z"
   },
   {
    "duration": 20,
    "start_time": "2022-02-12T18:03:36.443Z"
   },
   {
    "duration": 14,
    "start_time": "2022-02-12T18:03:37.241Z"
   },
   {
    "duration": 18,
    "start_time": "2022-02-12T18:03:37.595Z"
   },
   {
    "duration": 13,
    "start_time": "2022-02-12T18:03:38.391Z"
   },
   {
    "duration": 8,
    "start_time": "2022-02-12T18:03:40.252Z"
   },
   {
    "duration": 5,
    "start_time": "2022-02-12T18:03:40.876Z"
   },
   {
    "duration": 6,
    "start_time": "2022-02-12T18:03:41.434Z"
   },
   {
    "duration": 5,
    "start_time": "2022-02-12T18:03:41.839Z"
   },
   {
    "duration": 742,
    "start_time": "2022-02-12T22:11:41.206Z"
   },
   {
    "duration": 194,
    "start_time": "2022-02-12T22:11:41.950Z"
   },
   {
    "duration": 30,
    "start_time": "2022-02-12T22:11:42.147Z"
   },
   {
    "duration": 17,
    "start_time": "2022-02-12T22:11:42.179Z"
   },
   {
    "duration": 34,
    "start_time": "2022-02-12T22:11:42.198Z"
   },
   {
    "duration": 6,
    "start_time": "2022-02-12T22:11:42.235Z"
   },
   {
    "duration": 5,
    "start_time": "2022-02-12T22:11:42.270Z"
   },
   {
    "duration": 28,
    "start_time": "2022-02-12T22:11:42.279Z"
   },
   {
    "duration": 8,
    "start_time": "2022-02-12T22:11:42.310Z"
   },
   {
    "duration": 71,
    "start_time": "2022-02-12T22:11:42.320Z"
   },
   {
    "duration": 32,
    "start_time": "2022-02-12T22:11:42.393Z"
   },
   {
    "duration": 45,
    "start_time": "2022-02-12T22:11:42.427Z"
   },
   {
    "duration": 95,
    "start_time": "2022-02-12T22:11:42.474Z"
   },
   {
    "duration": 120,
    "start_time": "2022-02-12T22:11:42.572Z"
   },
   {
    "duration": 103,
    "start_time": "2022-02-12T22:11:42.694Z"
   },
   {
    "duration": 72,
    "start_time": "2022-02-12T22:11:42.802Z"
   },
   {
    "duration": 4,
    "start_time": "2022-02-12T22:11:42.878Z"
   },
   {
    "duration": 17,
    "start_time": "2022-02-12T22:11:42.885Z"
   },
   {
    "duration": 86,
    "start_time": "2022-02-12T22:11:42.905Z"
   },
   {
    "duration": 16,
    "start_time": "2022-02-12T22:11:42.994Z"
   },
   {
    "duration": 43,
    "start_time": "2022-02-12T22:11:43.013Z"
   },
   {
    "duration": 21,
    "start_time": "2022-02-12T22:11:43.059Z"
   },
   {
    "duration": 8,
    "start_time": "2022-02-12T22:11:43.083Z"
   },
   {
    "duration": 47,
    "start_time": "2022-02-12T22:11:43.093Z"
   },
   {
    "duration": 27,
    "start_time": "2022-02-12T22:11:43.143Z"
   },
   {
    "duration": 29,
    "start_time": "2022-02-12T22:11:43.173Z"
   },
   {
    "duration": 33,
    "start_time": "2022-02-12T22:11:43.204Z"
   },
   {
    "duration": 31,
    "start_time": "2022-02-12T22:11:43.239Z"
   },
   {
    "duration": 20,
    "start_time": "2022-02-12T22:11:43.273Z"
   },
   {
    "duration": 113,
    "start_time": "2022-02-12T22:11:43.295Z"
   },
   {
    "duration": 7,
    "start_time": "2022-02-12T22:11:45.619Z"
   },
   {
    "duration": 37,
    "start_time": "2022-02-12T22:11:45.628Z"
   },
   {
    "duration": 27,
    "start_time": "2022-02-12T22:11:45.669Z"
   },
   {
    "duration": 35,
    "start_time": "2022-02-12T22:11:45.699Z"
   },
   {
    "duration": 26,
    "start_time": "2022-02-12T22:11:45.737Z"
   },
   {
    "duration": 17,
    "start_time": "2022-02-12T22:11:45.766Z"
   },
   {
    "duration": 21,
    "start_time": "2022-02-12T22:11:45.786Z"
   },
   {
    "duration": 55,
    "start_time": "2022-02-12T22:11:45.811Z"
   },
   {
    "duration": 27,
    "start_time": "2022-02-12T22:11:45.869Z"
   },
   {
    "duration": 26,
    "start_time": "2022-02-12T22:11:45.898Z"
   },
   {
    "duration": 28,
    "start_time": "2022-02-12T22:11:45.927Z"
   },
   {
    "duration": 17,
    "start_time": "2022-02-12T22:11:45.969Z"
   },
   {
    "duration": 7,
    "start_time": "2022-02-12T22:11:47.963Z"
   },
   {
    "duration": 12,
    "start_time": "2022-02-12T22:11:47.973Z"
   },
   {
    "duration": 6,
    "start_time": "2022-02-12T22:11:47.988Z"
   }
  ],
  "colab": {
   "collapsed_sections": [
    "E0vqbgi9ay0H",
    "VUC88oWjTJw2"
   ],
   "name": "yandex_music_project_2021.2.ipynb",
   "provenance": []
  },
  "kernelspec": {
   "display_name": "Python 3 (ipykernel)",
   "language": "python",
   "name": "python3"
  },
  "language_info": {
   "codemirror_mode": {
    "name": "ipython",
    "version": 3
   },
   "file_extension": ".py",
   "mimetype": "text/x-python",
   "name": "python",
   "nbconvert_exporter": "python",
   "pygments_lexer": "ipython3",
   "version": "3.9.13"
  },
  "toc": {
   "base_numbering": 1,
   "nav_menu": {},
   "number_sections": true,
   "sideBar": true,
   "skip_h1_title": true,
   "title_cell": "Table of Contents",
   "title_sidebar": "Contents",
   "toc_cell": false,
   "toc_position": {
    "height": "calc(100% - 180px)",
    "left": "10px",
    "top": "150px",
    "width": "306.4px"
   },
   "toc_section_display": true,
   "toc_window_display": true
  }
 },
 "nbformat": 4,
 "nbformat_minor": 1
}
