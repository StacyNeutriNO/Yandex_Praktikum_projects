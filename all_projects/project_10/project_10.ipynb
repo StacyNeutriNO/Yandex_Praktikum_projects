{
 "cells": [
  {
   "cell_type": "markdown",
   "id": "f2ba1c66",
   "metadata": {},
   "source": [
    "# Проект: Защита персональных данных клиентов\n",
    "\n",
    "**Описание исседования** <br>\n",
    "\n",
    "Нужно защитить данные клиентов страховой компании «Хоть потоп» и разработать такой метод преобразования данных, чтобы по ним было сложно восстановить персональную информацию. При этом качество моделей машинного обучения не должно ухудшиться. \n",
    "\n",
    "**Содержание**\n",
    "\n",
    " [Шаг 1. Загрузка и подготовка данныx](#step1)\n",
    " \n",
    " [Шаг 2. Изменится ли качество линейной регрессии, если признаки умножить на обратимую матрицу](#step2)\n",
    " \n",
    " [Шаг 3. Алгоритм преобразования данных](#step3)\n",
    " \n",
    " [Шаг 4. Проверка алгоритма](#step4)\n",
    " \n",
    " [Общий вывод](#step5)"
   ]
  },
  {
   "cell_type": "markdown",
   "id": "60bfc42d",
   "metadata": {},
   "source": [
    "<a id = 'step1'></a>\n",
    "# Шаг 1. Загрузка и подготовка данных"
   ]
  },
  {
   "cell_type": "code",
   "execution_count": 1,
   "id": "77285ba3",
   "metadata": {},
   "outputs": [],
   "source": [
    "#импортируем библиотеки\n",
    "import pandas as pd\n",
    "import numpy as np\n",
    "import os\n",
    "\n",
    "from sklearn.linear_model import LinearRegression"
   ]
  },
  {
   "cell_type": "code",
   "execution_count": 2,
   "id": "4b75318e",
   "metadata": {},
   "outputs": [],
   "source": [
    "#считываем файл\n",
    "if os.path.exists('insurance.csv'):\n",
    "    data = pd.read_csv('insurance.csv') #локальный путь\n",
    "else:\n",
    "    data = pd.read_csv('/datasets/insurance.csv') #путь, указанный в проекте       "
   ]
  },
  {
   "cell_type": "code",
   "execution_count": 3,
   "id": "db50fd3d",
   "metadata": {},
   "outputs": [
    {
     "data": {
      "text/html": [
       "<div>\n",
       "<style scoped>\n",
       "    .dataframe tbody tr th:only-of-type {\n",
       "        vertical-align: middle;\n",
       "    }\n",
       "\n",
       "    .dataframe tbody tr th {\n",
       "        vertical-align: top;\n",
       "    }\n",
       "\n",
       "    .dataframe thead th {\n",
       "        text-align: right;\n",
       "    }\n",
       "</style>\n",
       "<table border=\"1\" class=\"dataframe\">\n",
       "  <thead>\n",
       "    <tr style=\"text-align: right;\">\n",
       "      <th></th>\n",
       "      <th>Пол</th>\n",
       "      <th>Возраст</th>\n",
       "      <th>Зарплата</th>\n",
       "      <th>Члены семьи</th>\n",
       "      <th>Страховые выплаты</th>\n",
       "    </tr>\n",
       "  </thead>\n",
       "  <tbody>\n",
       "    <tr>\n",
       "      <th>0</th>\n",
       "      <td>1</td>\n",
       "      <td>41.0</td>\n",
       "      <td>49600.0</td>\n",
       "      <td>1</td>\n",
       "      <td>0</td>\n",
       "    </tr>\n",
       "    <tr>\n",
       "      <th>1</th>\n",
       "      <td>0</td>\n",
       "      <td>46.0</td>\n",
       "      <td>38000.0</td>\n",
       "      <td>1</td>\n",
       "      <td>1</td>\n",
       "    </tr>\n",
       "    <tr>\n",
       "      <th>2</th>\n",
       "      <td>0</td>\n",
       "      <td>29.0</td>\n",
       "      <td>21000.0</td>\n",
       "      <td>0</td>\n",
       "      <td>0</td>\n",
       "    </tr>\n",
       "    <tr>\n",
       "      <th>3</th>\n",
       "      <td>0</td>\n",
       "      <td>21.0</td>\n",
       "      <td>41700.0</td>\n",
       "      <td>2</td>\n",
       "      <td>0</td>\n",
       "    </tr>\n",
       "    <tr>\n",
       "      <th>4</th>\n",
       "      <td>1</td>\n",
       "      <td>28.0</td>\n",
       "      <td>26100.0</td>\n",
       "      <td>0</td>\n",
       "      <td>0</td>\n",
       "    </tr>\n",
       "  </tbody>\n",
       "</table>\n",
       "</div>"
      ],
      "text/plain": [
       "   Пол  Возраст  Зарплата  Члены семьи  Страховые выплаты\n",
       "0    1     41.0   49600.0            1                  0\n",
       "1    0     46.0   38000.0            1                  1\n",
       "2    0     29.0   21000.0            0                  0\n",
       "3    0     21.0   41700.0            2                  0\n",
       "4    1     28.0   26100.0            0                  0"
      ]
     },
     "execution_count": 3,
     "metadata": {},
     "output_type": "execute_result"
    }
   ],
   "source": [
    "data.head()"
   ]
  },
  {
   "cell_type": "code",
   "execution_count": 4,
   "id": "b9504d4e",
   "metadata": {},
   "outputs": [
    {
     "name": "stdout",
     "output_type": "stream",
     "text": [
      "<class 'pandas.core.frame.DataFrame'>\n",
      "RangeIndex: 5000 entries, 0 to 4999\n",
      "Data columns (total 5 columns):\n",
      " #   Column             Non-Null Count  Dtype  \n",
      "---  ------             --------------  -----  \n",
      " 0   Пол                5000 non-null   int64  \n",
      " 1   Возраст            5000 non-null   float64\n",
      " 2   Зарплата           5000 non-null   float64\n",
      " 3   Члены семьи        5000 non-null   int64  \n",
      " 4   Страховые выплаты  5000 non-null   int64  \n",
      "dtypes: float64(2), int64(3)\n",
      "memory usage: 195.4 KB\n"
     ]
    }
   ],
   "source": [
    "data.info()"
   ]
  },
  {
   "cell_type": "code",
   "execution_count": 5,
   "id": "7020f266",
   "metadata": {},
   "outputs": [],
   "source": [
    "#фичи и таргет\n",
    "X = data.drop('Страховые выплаты', axis=1)\n",
    "y = data['Страховые выплаты']"
   ]
  },
  {
   "cell_type": "markdown",
   "id": "d8790d52",
   "metadata": {},
   "source": [
    "<a id = 'step2'></a>\n",
    "# Шаг 2. Изменится ли качество линейной регрессии, если признаки умножить на обратимую матрицу?"
   ]
  },
  {
   "cell_type": "code",
   "execution_count": 6,
   "id": "a272b626",
   "metadata": {},
   "outputs": [],
   "source": [
    "#класс с двумя методами:\n",
    "#    1.линейная регрессия с обычными признакми\n",
    "#    2.линейная регрессия с признаками, умноженными на обратимую матрицу\n",
    "\n",
    "class LinearRegressionTest:\n",
    "    \n",
    "    def fit_predict(self, X, y):\n",
    "            \n",
    "        model = LinearRegression()\n",
    "        model.fit(X, y)\n",
    "        r2 = model.score(X,y)\n",
    "        return r2\n",
    "       \n",
    "    def fit_predict_inv(self, X, y):\n",
    "        \n",
    "        matrix = np.random.rand(X.shape[1], X.shape[1])\n",
    "        \n",
    "        try:\n",
    "            matrix_inv = np.linalg.inv(matrix)\n",
    "            X = X @ matrix_inv\n",
    "            model = LinearRegression()\n",
    "            model.fit(X, y)\n",
    "            r2 = model.score(X,y)\n",
    "            return r2\n",
    "            \n",
    "        except np.linalg.LinAlgError:\n",
    "            print('You are lucky: singular matrix!','Try again', sep='\\n')\n",
    "            return   "
   ]
  },
  {
   "cell_type": "code",
   "execution_count": 7,
   "id": "a46506da",
   "metadata": {},
   "outputs": [
    {
     "name": "stdout",
     "output_type": "stream",
     "text": [
      "Iter 0\n",
      "R2_score: 0.42494550286668\n",
      "R2_score with matrix inverse multiplication: 0.4249455028666823\n",
      "\n",
      "Iter 1\n",
      "R2_score: 0.42494550286668\n",
      "R2_score with matrix inverse multiplication: 0.4249455028666864\n",
      "\n",
      "Iter 2\n",
      "R2_score: 0.42494550286668\n",
      "R2_score with matrix inverse multiplication: 0.4249455028666912\n",
      "\n",
      "Iter 3\n",
      "R2_score: 0.42494550286668\n",
      "R2_score with matrix inverse multiplication: 0.4249455028666874\n",
      "\n",
      "Iter 4\n",
      "R2_score: 0.42494550286668\n",
      "R2_score with matrix inverse multiplication: 0.424945502866644\n",
      "\n"
     ]
    }
   ],
   "source": [
    "model = LinearRegressionTest()\n",
    "for i in range(5):\n",
    "    print('Iter', i)\n",
    "    print('R2_score:', model.fit_predict(X,y))\n",
    "    print('R2_score with matrix inverse multiplication:', model.fit_predict_inv(X,y))\n",
    "    print()"
   ]
  },
  {
   "cell_type": "markdown",
   "id": "621d7b1e",
   "metadata": {},
   "source": [
    "<div class=\"alert alert-block alert-info\">\n",
    "    \n",
    "**Комментарий студента** \n",
    "    \n",
    "Умножая матрицу признаков размера NxM  на любую обратимую матрицу размера MхМ, мы снова получаем матрицу размера NxM, но с другими значениями признаков. Это значит, что изменится и искомый вектор весов, но суть метода от этого не меняется. В этом случаче также будут найдены оптимальные веса, минимизирующие функцию потери, а значит, метрика качества модели не должна пострадать. Что мы и видим на примере класса LinearRegressionTest.\n",
    "    \n",
    "Забегая вперед, именно поэтому с матрицей признаков можно делать любые элементарные преобразования.\n",
    "В моем предложенном алгоритме :\n",
    "   * исходная матрица умнажается на 10000\n",
    "   * вычитается 1000\n",
    "   * умножим результат на 3\n",
    "   * умножим на случайную обратимую матрицу"
   ]
  },
  {
   "cell_type": "markdown",
   "id": "96527a04",
   "metadata": {},
   "source": [
    "<a id = 'step3'></a>\n",
    "# Шаг 3. Алгоритм преобразования данных"
   ]
  },
  {
   "cell_type": "code",
   "execution_count": 8,
   "id": "8ff2bd48",
   "metadata": {},
   "outputs": [],
   "source": [
    "#преобразование\n",
    "def transformation(X):\n",
    "    matrix = np.random.rand(X.shape[1], X.shape[1])\n",
    "    try:\n",
    "        matrix_inv = np.linalg.inv(matrix)\n",
    "        return (X * 10000 - 1000) * 3 @ matrix_inv\n",
    "        \n",
    "    except np.linalg.LinAlgError:\n",
    "            print('You are lucky: singular matrix!','Try again', sep='\\n')\n",
    "            return "
   ]
  },
  {
   "cell_type": "code",
   "execution_count": 9,
   "id": "a2b1d596",
   "metadata": {},
   "outputs": [
    {
     "data": {
      "text/html": [
       "<div>\n",
       "<style scoped>\n",
       "    .dataframe tbody tr th:only-of-type {\n",
       "        vertical-align: middle;\n",
       "    }\n",
       "\n",
       "    .dataframe tbody tr th {\n",
       "        vertical-align: top;\n",
       "    }\n",
       "\n",
       "    .dataframe thead th {\n",
       "        text-align: right;\n",
       "    }\n",
       "</style>\n",
       "<table border=\"1\" class=\"dataframe\">\n",
       "  <thead>\n",
       "    <tr style=\"text-align: right;\">\n",
       "      <th></th>\n",
       "      <th>0</th>\n",
       "      <th>1</th>\n",
       "      <th>2</th>\n",
       "      <th>3</th>\n",
       "    </tr>\n",
       "  </thead>\n",
       "  <tbody>\n",
       "    <tr>\n",
       "      <th>0</th>\n",
       "      <td>1.480730e+09</td>\n",
       "      <td>-6.790386e+08</td>\n",
       "      <td>1.307190e+09</td>\n",
       "      <td>-4.737716e+08</td>\n",
       "    </tr>\n",
       "    <tr>\n",
       "      <th>1</th>\n",
       "      <td>1.133879e+09</td>\n",
       "      <td>-5.200128e+08</td>\n",
       "      <td>1.002354e+09</td>\n",
       "      <td>-3.629200e+08</td>\n",
       "    </tr>\n",
       "    <tr>\n",
       "      <th>2</th>\n",
       "      <td>6.265154e+08</td>\n",
       "      <td>-2.873038e+08</td>\n",
       "      <td>5.541475e+08</td>\n",
       "      <td>-2.005875e+08</td>\n",
       "    </tr>\n",
       "    <tr>\n",
       "      <th>3</th>\n",
       "      <td>1.245297e+09</td>\n",
       "      <td>-5.711642e+08</td>\n",
       "      <td>1.098224e+09</td>\n",
       "      <td>-3.982644e+08</td>\n",
       "    </tr>\n",
       "    <tr>\n",
       "      <th>4</th>\n",
       "      <td>7.789813e+08</td>\n",
       "      <td>-3.571827e+08</td>\n",
       "      <td>6.882155e+08</td>\n",
       "      <td>-2.493273e+08</td>\n",
       "    </tr>\n",
       "  </tbody>\n",
       "</table>\n",
       "</div>"
      ],
      "text/plain": [
       "              0             1             2             3\n",
       "0  1.480730e+09 -6.790386e+08  1.307190e+09 -4.737716e+08\n",
       "1  1.133879e+09 -5.200128e+08  1.002354e+09 -3.629200e+08\n",
       "2  6.265154e+08 -2.873038e+08  5.541475e+08 -2.005875e+08\n",
       "3  1.245297e+09 -5.711642e+08  1.098224e+09 -3.982644e+08\n",
       "4  7.789813e+08 -3.571827e+08  6.882155e+08 -2.493273e+08"
      ]
     },
     "execution_count": 9,
     "metadata": {},
     "output_type": "execute_result"
    }
   ],
   "source": [
    "transformation(X).head()"
   ]
  },
  {
   "cell_type": "markdown",
   "id": "d9f4c85d",
   "metadata": {},
   "source": [
    "<a id = 'step4'></a>\n",
    "# Шаг 4. Проверка алгоритма"
   ]
  },
  {
   "cell_type": "code",
   "execution_count": 10,
   "id": "1b522775",
   "metadata": {},
   "outputs": [
    {
     "name": "stdout",
     "output_type": "stream",
     "text": [
      "R2_score after transformation: 0.4249455028666611\n"
     ]
    }
   ],
   "source": [
    "X_new = transformation(X)\n",
    "m = LinearRegressionTest()\n",
    "\n",
    "print('R2_score after transformation:', m.fit_predict(X_new,y))"
   ]
  },
  {
   "cell_type": "markdown",
   "id": "bdc292c7",
   "metadata": {},
   "source": [
    "<a id = 'step5'></a>\n",
    "\n",
    "<div class=\"alert alert-block alert-info\">\n",
    "    \n",
    "<h2> Общий вывод <a class=\"tocSkip\"></h2>\n",
    "    \n",
    "В данной работе мы познакомились с данными клиентов страховой компании «Хоть потоп» и на их примере выяснили, что умножение исходной матрицы призаков на случайную обратимую матрицу не влияет на качество линейной регрессии. Более того, на ее качество не влияет любое элементарное преобразование над матрицей с признаками.\n",
    "    \n",
    "Исходя из этого предположения, мы разработали алгоритм шифрования данных, основанный на элементарных преобразованиях над матрицей с признаками, который должен помочь скрыть персональную информацию о клиентах компании.\n",
    "</div>   "
   ]
  },
  {
   "cell_type": "code",
   "execution_count": null,
   "id": "a180d0ae",
   "metadata": {},
   "outputs": [],
   "source": []
  },
  {
   "cell_type": "code",
   "execution_count": null,
   "id": "b24e5090",
   "metadata": {},
   "outputs": [],
   "source": []
  }
 ],
 "metadata": {
  "kernelspec": {
   "display_name": "Python 3 (ipykernel)",
   "language": "python",
   "name": "python3"
  },
  "language_info": {
   "codemirror_mode": {
    "name": "ipython",
    "version": 3
   },
   "file_extension": ".py",
   "mimetype": "text/x-python",
   "name": "python",
   "nbconvert_exporter": "python",
   "pygments_lexer": "ipython3",
   "version": "3.9.13"
  }
 },
 "nbformat": 4,
 "nbformat_minor": 5
}
