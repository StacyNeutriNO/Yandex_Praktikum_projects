{
 "cells": [
  {
   "cell_type": "markdown",
   "id": "fac5f4be",
   "metadata": {},
   "source": [
    "# Проект для «Викишоп» c BERT \n",
    "\n",
    "\n",
    "**Описание исседования** <br>\n",
    "\n",
    "Интернет-магазин «Викишоп» запускает новый сервис. Теперь пользователи могут редактировать и дополнять описания товаров, как в вики-сообществах. То есть клиенты предлагают свои правки и комментируют изменения других. Магазину нужен инструмент, который будет искать токсичные комментарии и отправлять их на модерацию.\n",
    "Обучите модель классифицировать комментарии на позитивные и негативные. В вашем распоряжении набор данных с разметкой о токсичности правок.\n",
    "Постройте модель со значением метрики качества F1 не меньше 0.75.\n",
    "\n",
    "**Описание данных**\n",
    "\n",
    "Столбец text в нём содержит текст комментария, а toxic — целевой признак.\n",
    "\n",
    "**Содержание**\n",
    "\n",
    " [Шаг 1. Загрузка и подготовка данных](#step1)\n",
    " \n",
    " [Шаг 2. Обучение моделей](#step2)\n",
    " \n",
    " [Шаг 3. Тестирование моделей](#step3)\n",
    " \n",
    " [Шаг 4. BERT](#step4)\n",
    " \n",
    " [Шаг 5. Общий вывод](#step5)"
   ]
  },
  {
   "cell_type": "markdown",
   "id": "2ed0da16",
   "metadata": {},
   "source": [
    "<a id = 'step1'></a>\n",
    "# Загрузка и подготовка данных"
   ]
  },
  {
   "cell_type": "code",
   "execution_count": 1,
   "id": "12a8e098",
   "metadata": {},
   "outputs": [
    {
     "name": "stderr",
     "output_type": "stream",
     "text": [
      "[nltk_data] Downloading package punkt to\n",
      "[nltk_data]     /Users/anastasiabukatkina/nltk_data...\n",
      "[nltk_data]   Package punkt is already up-to-date!\n",
      "[nltk_data] Downloading package averaged_perceptron_tagger to\n",
      "[nltk_data]     /Users/anastasiabukatkina/nltk_data...\n",
      "[nltk_data]   Package averaged_perceptron_tagger is already up-to-\n",
      "[nltk_data]       date!\n",
      "[nltk_data] Downloading package omw-1.4 to\n",
      "[nltk_data]     /Users/anastasiabukatkina/nltk_data...\n",
      "[nltk_data]   Package omw-1.4 is already up-to-date!\n"
     ]
    }
   ],
   "source": [
    "import pandas as pd\n",
    "import numpy as np\n",
    "import matplotlib.pyplot as plt\n",
    "\n",
    "import sys\n",
    "import re\n",
    "import os\n",
    "import spacy\n",
    "import warnings\n",
    "from tqdm.notebook import tqdm\n",
    "\n",
    "from sklearn.feature_extraction.text import CountVectorizer, TfidfVectorizer\n",
    "from sklearn.linear_model import LogisticRegression, SGDClassifier\n",
    "from sklearn.model_selection import train_test_split, KFold, GridSearchCV, cross_val_score\n",
    "from sklearn.metrics import f1_score, roc_curve\n",
    "from sklearn.utils import shuffle\n",
    "\n",
    "import nltk\n",
    "from nltk.corpus import stopwords as nltk_stopwords\n",
    "from nltk.corpus import wordnet\n",
    "from nltk.stem import WordNetLemmatizer \n",
    "nltk.download('punkt')\n",
    "nltk.download('averaged_perceptron_tagger')\n",
    "nltk.download('omw-1.4')\n",
    "\n",
    "import torch\n",
    "import transformers as ppb \n",
    "from tqdm import notebook"
   ]
  },
  {
   "cell_type": "code",
   "execution_count": 2,
   "id": "51e2903a",
   "metadata": {},
   "outputs": [],
   "source": [
    "# !{sys.executable} -m pip install spacy\n",
    "# !{sys.executable} -m spacy download en"
   ]
  },
  {
   "cell_type": "code",
   "execution_count": 3,
   "id": "10f97ae5",
   "metadata": {},
   "outputs": [],
   "source": [
    "# !pip3 install --upgrade pip"
   ]
  },
  {
   "cell_type": "code",
   "execution_count": 4,
   "id": "516fcc09",
   "metadata": {},
   "outputs": [],
   "source": [
    "# !pip install -U spacy==2.1.3"
   ]
  },
  {
   "cell_type": "code",
   "execution_count": 5,
   "id": "adca6b97",
   "metadata": {},
   "outputs": [],
   "source": [
    "if os.path.exists('toxic_comments.csv'):\n",
    "    data = pd.read_csv('toxic_comments.csv') #локальный путь\n",
    "else:\n",
    "    data = pd.read_csv('toxic_comments.csv') #путь, указанный в проекте"
   ]
  },
  {
   "cell_type": "code",
   "execution_count": 6,
   "id": "80007791",
   "metadata": {},
   "outputs": [
    {
     "data": {
      "text/html": [
       "<div>\n",
       "<style scoped>\n",
       "    .dataframe tbody tr th:only-of-type {\n",
       "        vertical-align: middle;\n",
       "    }\n",
       "\n",
       "    .dataframe tbody tr th {\n",
       "        vertical-align: top;\n",
       "    }\n",
       "\n",
       "    .dataframe thead th {\n",
       "        text-align: right;\n",
       "    }\n",
       "</style>\n",
       "<table border=\"1\" class=\"dataframe\">\n",
       "  <thead>\n",
       "    <tr style=\"text-align: right;\">\n",
       "      <th></th>\n",
       "      <th>text</th>\n",
       "      <th>toxic</th>\n",
       "    </tr>\n",
       "  </thead>\n",
       "  <tbody>\n",
       "    <tr>\n",
       "      <th>0</th>\n",
       "      <td>Explanation\\nWhy the edits made under my usern...</td>\n",
       "      <td>0</td>\n",
       "    </tr>\n",
       "    <tr>\n",
       "      <th>1</th>\n",
       "      <td>D'aww! He matches this background colour I'm s...</td>\n",
       "      <td>0</td>\n",
       "    </tr>\n",
       "    <tr>\n",
       "      <th>2</th>\n",
       "      <td>Hey man, I'm really not trying to edit war. It...</td>\n",
       "      <td>0</td>\n",
       "    </tr>\n",
       "    <tr>\n",
       "      <th>3</th>\n",
       "      <td>\"\\nMore\\nI can't make any real suggestions on ...</td>\n",
       "      <td>0</td>\n",
       "    </tr>\n",
       "    <tr>\n",
       "      <th>4</th>\n",
       "      <td>You, sir, are my hero. Any chance you remember...</td>\n",
       "      <td>0</td>\n",
       "    </tr>\n",
       "  </tbody>\n",
       "</table>\n",
       "</div>"
      ],
      "text/plain": [
       "                                                text  toxic\n",
       "0  Explanation\\nWhy the edits made under my usern...      0\n",
       "1  D'aww! He matches this background colour I'm s...      0\n",
       "2  Hey man, I'm really not trying to edit war. It...      0\n",
       "3  \"\\nMore\\nI can't make any real suggestions on ...      0\n",
       "4  You, sir, are my hero. Any chance you remember...      0"
      ]
     },
     "execution_count": 6,
     "metadata": {},
     "output_type": "execute_result"
    }
   ],
   "source": [
    "data.head()"
   ]
  },
  {
   "cell_type": "code",
   "execution_count": 7,
   "id": "7b91b3eb",
   "metadata": {},
   "outputs": [
    {
     "data": {
      "text/plain": [
       "(159571, 2)"
      ]
     },
     "execution_count": 7,
     "metadata": {},
     "output_type": "execute_result"
    }
   ],
   "source": [
    "data.shape"
   ]
  },
  {
   "cell_type": "code",
   "execution_count": 8,
   "id": "e54c0a3a",
   "metadata": {},
   "outputs": [
    {
     "name": "stdout",
     "output_type": "stream",
     "text": [
      "20 : \"\n",
      "\n",
      " Regarding your recent edits \n",
      "\n",
      "Once again, please read WP:FILMPLOT before editing any more film articles.  Your edits are simply not good, with entirely too many unnecessary details and very bad writing.  Please stop before you do further damage. -''''''The '45 \"\n",
      "------------------------------\n",
      "\n",
      "100 : However, the Moonlite edit noted by golden daph was me (on optus ...)  Wake up wikkis.  So funny\n",
      "------------------------------\n",
      "\n",
      "1000 : There is no evidence that this block has anything to do with sock accounts. My use of my accounts was completely legitimate. And contrary to what Rodhullandemu is trying to imply, the only accounts that I used in the police talk page are mr3003nights and this one (which is a completely legitimate practice). I was blocked for a discussion in the talk page of the article on the policenot for editing the actual article. Please read that discussion I linked to and see it for yourself that it was pure unjustified retaliation for offering evidence Rodhullandemu could not answer http://en.wikipedia.org/wiki/Talk:Police#Why_reiterate_.22reduce_civil_disorder.22_instead_of_protection_of_property.3F 69.228.251.134\n"
     ]
    }
   ],
   "source": [
    "print(\"20 :\", data.loc[20,'text'])\n",
    "print('------------------------------')\n",
    "print(\"\\n100 :\", data.loc[100,'text'])\n",
    "print('------------------------------')\n",
    "print(\"\\n1000 :\", data.loc[1500,'text'])"
   ]
  },
  {
   "cell_type": "code",
   "execution_count": 9,
   "id": "52aaca41",
   "metadata": {},
   "outputs": [
    {
     "name": "stdout",
     "output_type": "stream",
     "text": [
      "0    0.898321\n",
      "1    0.101679\n",
      "Name: toxic, dtype: float64\n"
     ]
    },
    {
     "data": {
      "image/png": "[encoded data removed]",
      "text/plain": [
       "<Figure size 432x288 with 1 Axes>"
      ]
     },
     "metadata": {
      "needs_background": "light"
     },
     "output_type": "display_data"
    }
   ],
   "source": [
    "class_frequency = data['toxic'].value_counts(normalize = True)\n",
    "print(class_frequency)\n",
    "class_frequency.plot(kind = 'bar')\n",
    "plt.show()"
   ]
  },
  {
   "cell_type": "code",
   "execution_count": 10,
   "id": "51cbb61e",
   "metadata": {},
   "outputs": [
    {
     "data": {
      "text/plain": [
       "0"
      ]
     },
     "execution_count": 10,
     "metadata": {},
     "output_type": "execute_result"
    }
   ],
   "source": [
    "data.duplicated().sum()\n"
   ]
  },
  {
   "cell_type": "code",
   "execution_count": 11,
   "id": "c8148795",
   "metadata": {},
   "outputs": [
    {
     "data": {
      "text/plain": [
       "text     0\n",
       "toxic    0\n",
       "dtype: int64"
      ]
     },
     "execution_count": 11,
     "metadata": {},
     "output_type": "execute_result"
    }
   ],
   "source": [
    "data.isna().sum()"
   ]
  },
  {
   "cell_type": "code",
   "execution_count": 12,
   "id": "5b0f59fa",
   "metadata": {},
   "outputs": [],
   "source": [
    "#работает, но очень долго\n",
    "\n",
    "# nlp = spacy.load('en_core_web_sm', disable=['parser', 'ner'])\n",
    "\n",
    "# # sentence = \"The striped bats are hanging on their feet for best\"\n",
    "# # doc = nlp(sentence)\n",
    "# def clear_and_lemmatize(text):\n",
    "#     text = text.lower()\n",
    "#     clear_text = re.sub(r'[^a-zA-Z]', ' ', text)\n",
    "#     clear_text =  clear_text.split()\n",
    "#     clear_text = \" \".join(clear_text)\n",
    "#     lemm_list = nlp(clear_text)\n",
    "#     lemm_text = \" \".join([token.lemma_ for token in lemm_list])\n",
    "        \n",
    "#     return lemm_text"
   ]
  },
  {
   "cell_type": "code",
   "execution_count": 13,
   "id": "0a63b83e",
   "metadata": {},
   "outputs": [],
   "source": [
    "def get_wordnet_pos(word):\n",
    "    \"\"\"Map POS tag to first character lemmatize() accepts\"\"\"\n",
    "    tag = nltk.pos_tag([word])[0][1][0].upper()\n",
    "    tag_dict = {\"J\": wordnet.ADJ,\n",
    "                \"N\": wordnet.NOUN,\n",
    "                \"V\": wordnet.VERB,\n",
    "                \"R\": wordnet.ADV}\n",
    "    return tag_dict.get(tag, wordnet.NOUN)\n",
    "\n",
    "lemmatizer = WordNetLemmatizer()\n",
    "\n",
    "def lemmatize(text):\n",
    "    text = text.lower()\n",
    "    clear_text = re.sub(r'[^a-zA-Z]', ' ', text)\n",
    "    clear_text =  clear_text.split()\n",
    "    clear_text = \" \".join(clear_text)\n",
    "    lemm_text = \" \".join([lemmatizer.lemmatize(w, get_wordnet_pos(w)) for w in nltk.word_tokenize(clear_text)])\n",
    "    return lemm_text"
   ]
  },
  {
   "cell_type": "code",
   "execution_count": 14,
   "id": "4e95799a",
   "metadata": {},
   "outputs": [
    {
     "name": "stdout",
     "output_type": "stream",
     "text": [
      "CPU times: user 8min 3s, sys: 37.8 s, total: 8min 41s\n",
      "Wall time: 8min 44s\n"
     ]
    }
   ],
   "source": [
    "%%time\n",
    "data['clear_and_lemm'] = data['text'].apply(lemmatize)"
   ]
  },
  {
   "cell_type": "code",
   "execution_count": 15,
   "id": "7234aab2",
   "metadata": {},
   "outputs": [
    {
     "data": {
      "text/html": [
       "<div>\n",
       "<style scoped>\n",
       "    .dataframe tbody tr th:only-of-type {\n",
       "        vertical-align: middle;\n",
       "    }\n",
       "\n",
       "    .dataframe tbody tr th {\n",
       "        vertical-align: top;\n",
       "    }\n",
       "\n",
       "    .dataframe thead th {\n",
       "        text-align: right;\n",
       "    }\n",
       "</style>\n",
       "<table border=\"1\" class=\"dataframe\">\n",
       "  <thead>\n",
       "    <tr style=\"text-align: right;\">\n",
       "      <th></th>\n",
       "      <th>text</th>\n",
       "      <th>toxic</th>\n",
       "      <th>clear_and_lemm</th>\n",
       "    </tr>\n",
       "  </thead>\n",
       "  <tbody>\n",
       "    <tr>\n",
       "      <th>0</th>\n",
       "      <td>Explanation\\nWhy the edits made under my usern...</td>\n",
       "      <td>0</td>\n",
       "      <td>explanation why the edits make under my userna...</td>\n",
       "    </tr>\n",
       "    <tr>\n",
       "      <th>1</th>\n",
       "      <td>D'aww! He matches this background colour I'm s...</td>\n",
       "      <td>0</td>\n",
       "      <td>d aww he match this background colour i m seem...</td>\n",
       "    </tr>\n",
       "    <tr>\n",
       "      <th>2</th>\n",
       "      <td>Hey man, I'm really not trying to edit war. It...</td>\n",
       "      <td>0</td>\n",
       "      <td>hey man i m really not try to edit war it s ju...</td>\n",
       "    </tr>\n",
       "    <tr>\n",
       "      <th>3</th>\n",
       "      <td>\"\\nMore\\nI can't make any real suggestions on ...</td>\n",
       "      <td>0</td>\n",
       "      <td>more i can t make any real suggestion on impro...</td>\n",
       "    </tr>\n",
       "    <tr>\n",
       "      <th>4</th>\n",
       "      <td>You, sir, are my hero. Any chance you remember...</td>\n",
       "      <td>0</td>\n",
       "      <td>you sir be my hero any chance you remember wha...</td>\n",
       "    </tr>\n",
       "  </tbody>\n",
       "</table>\n",
       "</div>"
      ],
      "text/plain": [
       "                                                text  toxic  \\\n",
       "0  Explanation\\nWhy the edits made under my usern...      0   \n",
       "1  D'aww! He matches this background colour I'm s...      0   \n",
       "2  Hey man, I'm really not trying to edit war. It...      0   \n",
       "3  \"\\nMore\\nI can't make any real suggestions on ...      0   \n",
       "4  You, sir, are my hero. Any chance you remember...      0   \n",
       "\n",
       "                                      clear_and_lemm  \n",
       "0  explanation why the edits make under my userna...  \n",
       "1  d aww he match this background colour i m seem...  \n",
       "2  hey man i m really not try to edit war it s ju...  \n",
       "3  more i can t make any real suggestion on impro...  \n",
       "4  you sir be my hero any chance you remember wha...  "
      ]
     },
     "execution_count": 15,
     "metadata": {},
     "output_type": "execute_result"
    }
   ],
   "source": [
    "data.head()"
   ]
  },
  {
   "cell_type": "markdown",
   "id": "024f5c30",
   "metadata": {},
   "source": [
    "<div class=\"alert alert-block alert-info\">\n",
    "    \n",
    "**Комментарий студента** \n",
    "    \n",
    "В данных нет пропусков или дубликатов, но классы несбалансированы. \n",
    "\n",
    "Подготовим признаки и целевой признак перед обучением."
   ]
  },
  {
   "cell_type": "markdown",
   "id": "29e9fcd0",
   "metadata": {},
   "source": [
    "<a id = 'step2'></a>\n",
    "# Обучение"
   ]
  },
  {
   "cell_type": "code",
   "execution_count": 16,
   "id": "3d25f296",
   "metadata": {},
   "outputs": [],
   "source": [
    "X_train, X_temp, y_train, y_temp = train_test_split(data['clear_and_lemm'], data['toxic'], test_size=0.4, random_state=123)\n",
    "\n",
    "X_valid, X_test, y_valid, y_test = train_test_split(X_temp, y_temp, test_size=0.5, random_state=123)\n"
   ]
  },
  {
   "cell_type": "code",
   "execution_count": 17,
   "id": "dbe00ef6",
   "metadata": {},
   "outputs": [],
   "source": [
    "#функция для балансировки классов\n",
    "\n",
    "# def upsample(features, target, repeat):\n",
    "#     features_zeros = features[target == 0]\n",
    "#     features_ones = features[target == 1]\n",
    "#     target_zeros = target[target == 0]\n",
    "#     target_ones = target[target == 1]\n",
    "\n",
    "#     features_upsampled = pd.concat([features_zeros] + [features_ones] * repeat)\n",
    "#     target_upsampled = pd.concat([target_zeros] + [target_ones] * repeat)\n",
    "    \n",
    "#     features_upsampled, target_upsampled = shuffle(\n",
    "#         features_upsampled, target_upsampled, random_state=12345)\n",
    "    \n",
    "#     return features_upsampled, target_upsampled\n"
   ]
  },
  {
   "cell_type": "code",
   "execution_count": 18,
   "id": "55bf45a7",
   "metadata": {},
   "outputs": [],
   "source": [
    "def downsample(features, target, fraction):\n",
    "    features_zeros = features[target == 0]\n",
    "    features_ones = features[target == 1]\n",
    "    target_zeros = target[target == 0]\n",
    "    target_ones = target[target == 1]\n",
    "\n",
    "    features_downsampled = pd.concat(\n",
    "        [features_zeros.sample(frac=fraction, random_state=12345)] + [features_ones])\n",
    "    target_downsampled = pd.concat(\n",
    "        [target_zeros.sample(frac=fraction, random_state=12345)] + [target_ones])\n",
    "    \n",
    "    features_downsampled, target_downsampled = shuffle(\n",
    "        features_downsampled, target_downsampled, random_state=12345)\n",
    "    \n",
    "    return features_downsampled, target_downsampled\n"
   ]
  },
  {
   "cell_type": "markdown",
   "id": "c18734c8",
   "metadata": {},
   "source": [
    "<a id = 'step3_2'></a>\n",
    "<font color='black' size = +1><b> Мешок слов</b></font><br>"
   ]
  },
  {
   "cell_type": "code",
   "execution_count": 19,
   "id": "c043550a",
   "metadata": {},
   "outputs": [
    {
     "name": "stderr",
     "output_type": "stream",
     "text": [
      "[nltk_data] Downloading package stopwords to\n",
      "[nltk_data]     /Users/anastasiabukatkina/nltk_data...\n",
      "[nltk_data]   Package stopwords is already up-to-date!\n"
     ]
    }
   ],
   "source": [
    "nltk.download('stopwords')\n",
    "stopwords = set(nltk_stopwords.words('english'))\n",
    "\n",
    "count_vect = CountVectorizer(stop_words=stopwords)"
   ]
  },
  {
   "cell_type": "code",
   "execution_count": 20,
   "id": "54deb138",
   "metadata": {
    "scrolled": true
   },
   "outputs": [
    {
     "name": "stdout",
     "output_type": "stream",
     "text": [
      "Размер train'a: (95742, 111132)\n",
      "Размер valid'a: (31914, 111132)\n",
      "Размер test'a: (31915, 111132)\n"
     ]
    }
   ],
   "source": [
    "n_gramm_train = count_vect.fit_transform(X_train)\n",
    "n_gramm_valid = count_vect.transform(X_valid)\n",
    "n_gramm_test = count_vect.transform(X_test)\n",
    "print(\"Размер train'a:\", n_gramm_train.shape)\n",
    "print(\"Размер valid'a:\", n_gramm_valid.shape)\n",
    "print(\"Размер test'a:\", n_gramm_test.shape)"
   ]
  },
  {
   "cell_type": "code",
   "execution_count": 21,
   "id": "335340df",
   "metadata": {},
   "outputs": [
    {
     "name": "stdout",
     "output_type": "stream",
     "text": [
      "train: 0.9791523051534332\n",
      "valid: 0.9551294102901547\n",
      "\n",
      "F1 valid: 0.7524\n"
     ]
    }
   ],
   "source": [
    "model_lr = LogisticRegression(max_iter=1000, random_state=123)\n",
    "model_lr.fit(n_gramm_train, y_train)\n",
    "print(\"train:\", model_lr.score(n_gramm_train, y_train))\n",
    "print(\"valid:\", model_lr.score(n_gramm_valid, y_valid))\n",
    "print(\"\\nF1 valid: {:.4f}\".format(f1_score(y_valid, model_lr.predict(n_gramm_valid))))"
   ]
  },
  {
   "cell_type": "code",
   "execution_count": 22,
   "id": "fd8c57f6",
   "metadata": {},
   "outputs": [],
   "source": [
    "fpr, tpr, thresholds = roc_curve(y_valid, model_lr.predict_proba(n_gramm_valid)[:,1])"
   ]
  },
  {
   "cell_type": "markdown",
   "id": "d38c6c7d",
   "metadata": {},
   "source": [
    "**UPsampling**"
   ]
  },
  {
   "cell_type": "code",
   "execution_count": 23,
   "id": "bde706a4",
   "metadata": {},
   "outputs": [],
   "source": [
    "# features_upsampled, target_upsampled = upsample(X_train, y_train, 10)"
   ]
  },
  {
   "cell_type": "code",
   "execution_count": 24,
   "id": "12ca6049",
   "metadata": {},
   "outputs": [],
   "source": [
    "# n_gramm_train_upsampled = count_vect.fit_transform(features_upsampled)\n",
    "# n_gramm_test_upsampled = count_vect.transform(X_test)\n",
    "# print(\"Размер train'a:\", n_gramm_train_upsampled.shape)\n",
    "# print(\"Размер test'a:\", n_gramm_test_upsampled.shape)"
   ]
  },
  {
   "cell_type": "code",
   "execution_count": 25,
   "id": "e71a1ff8",
   "metadata": {
    "scrolled": true
   },
   "outputs": [],
   "source": [
    "# model_up = LogisticRegression(max_iter=2000, random_state=123)\n",
    "# model_up.fit(n_gramm_train_upsampled, target_upsampled)\n",
    "# print(\"train:\", model_up.score(n_gramm_train_upsampled, target_upsampled))\n",
    "# print(\"test:\", model_up.score(n_gramm_test_upsampled, y_test))\n",
    "\n",
    "\n",
    "# print(\"\\nF1: {:.4f}\".format(f1_score(y_test, model_up.predict(n_gramm_test_upsampled))))"
   ]
  },
  {
   "cell_type": "code",
   "execution_count": 26,
   "id": "c6975b32",
   "metadata": {},
   "outputs": [],
   "source": [
    "# fpr_1, tpr_1, thresholds_1 = roc_curve(y_test, model_up.predict_proba(n_gramm_test_upsampled)[:,1])"
   ]
  },
  {
   "cell_type": "markdown",
   "id": "4c74ad94",
   "metadata": {},
   "source": [
    "**Downsampling**"
   ]
  },
  {
   "cell_type": "code",
   "execution_count": 27,
   "id": "742f533b",
   "metadata": {},
   "outputs": [],
   "source": [
    "features_down, target_down = downsample(X_train, y_train, 0.12)"
   ]
  },
  {
   "cell_type": "code",
   "execution_count": 28,
   "id": "4124c6bb",
   "metadata": {},
   "outputs": [
    {
     "name": "stdout",
     "output_type": "stream",
     "text": [
      "Размер train'a: (20150, 39847)\n",
      "Размер valid'a: (31914, 39847)\n"
     ]
    }
   ],
   "source": [
    "n_gramm_train_down = count_vect.fit_transform(features_down)\n",
    "n_gramm_valid_down = count_vect.transform(X_valid)\n",
    "n_gramm_valid_test = count_vect.transform(X_test)\n",
    "print(\"Размер train'a:\", n_gramm_train_down.shape)\n",
    "print(\"Размер valid'a:\", n_gramm_valid_down.shape)"
   ]
  },
  {
   "cell_type": "code",
   "execution_count": 29,
   "id": "fd5029d0",
   "metadata": {},
   "outputs": [
    {
     "name": "stdout",
     "output_type": "stream",
     "text": [
      "train: 0.9806451612903225\n",
      "valid: 0.9160556495581876\n",
      "\n",
      "F1 valid: 0.6729\n"
     ]
    }
   ],
   "source": [
    "model_down = LogisticRegression(max_iter=1000, random_state=123)\n",
    "model_down.fit(n_gramm_train_down, target_down)\n",
    "print(\"train:\", model_down.score(n_gramm_train_down, target_down))\n",
    "print(\"valid:\", model_down.score(n_gramm_valid_down, y_valid))\n",
    "\n",
    "\n",
    "print(\"\\nF1 valid: {:.4f}\".format(f1_score(y_valid, model_down.predict(n_gramm_valid_down))))"
   ]
  },
  {
   "cell_type": "code",
   "execution_count": 30,
   "id": "ee956f1f",
   "metadata": {},
   "outputs": [],
   "source": [
    "fpr_1, tpr_1, thresholds_1 = roc_curve(y_valid, model_down.predict_proba(n_gramm_valid_down)[:,1])"
   ]
  },
  {
   "cell_type": "markdown",
   "id": "b1700dbf",
   "metadata": {},
   "source": [
    "**SGDClassifier**"
   ]
  },
  {
   "cell_type": "code",
   "execution_count": 31,
   "id": "c51e23ac",
   "metadata": {},
   "outputs": [],
   "source": [
    "kf = KFold(n_splits=3, shuffle=True, random_state=123)\n",
    "classificator = SGDClassifier()\n",
    "hyperparams = [{'loss':['log', 'modified_huber'],\n",
    "                'learning_rate':['constant', 'adaptive'],\n",
    "                'eta0':[0.1, 0.2, 0.3],\n",
    "                'random_state':[123]}]\n",
    "\n",
    "\n",
    "clf = GridSearchCV(classificator, hyperparams, scoring='f1', cv=kf, n_jobs=-1)\n",
    "clf.fit(n_gramm_train, y_train)\n",
    "\n",
    "SGDC_best_params = clf.best_params_"
   ]
  },
  {
   "cell_type": "code",
   "execution_count": 32,
   "id": "ad6feb87",
   "metadata": {},
   "outputs": [
    {
     "name": "stdout",
     "output_type": "stream",
     "text": [
      "F1:0.7529 valid\n"
     ]
    }
   ],
   "source": [
    "classificator = SGDClassifier()\n",
    "classificator.set_params(**SGDC_best_params)\n",
    "classificator.fit(n_gramm_train, y_train)\n",
    "predict = classificator.predict(n_gramm_valid)\n",
    "f1_SGDC = f1_score(y_valid, predict)\n",
    "\n",
    "print('F1:{:.4f} valid'.format(f1_SGDC))"
   ]
  },
  {
   "cell_type": "code",
   "execution_count": 33,
   "id": "47d12636",
   "metadata": {},
   "outputs": [],
   "source": [
    "fpr_2, tpr_2, thresholds_2 = roc_curve(y_valid, classificator.predict_proba(n_gramm_valid)[:,1])"
   ]
  },
  {
   "cell_type": "code",
   "execution_count": 34,
   "id": "5b7be8c6",
   "metadata": {},
   "outputs": [
    {
     "data": {
      "image/png": "[encoded data removed]",
      "text/plain": [
       "<Figure size 1080x432 with 1 Axes>"
      ]
     },
     "metadata": {
      "needs_background": "light"
     },
     "output_type": "display_data"
    }
   ],
   "source": [
    "fig, ax = plt.subplots(figsize=(15, 6))\n",
    "ax.plot(fpr, tpr, linewidth=4, color='mediumblue')\n",
    "ax.plot(fpr_1, tpr_1, linewidth=3, color='dodgerblue')\n",
    "ax.plot(fpr_2, tpr_2, linewidth=3, color='orchid')\n",
    "#ax.plot(fpr_3, tpr_3, linewidth=2, color='lawngreen')\n",
    "ax.legend(['LogisticRegression','LogisticRegression_down','SGDClassifier'])\n",
    "\n",
    "ax.plot([0, 1], [0, 1], linestyle='--', linewidth=3, color = 'r')\n",
    "\n",
    "ax.set_xlim([0.0, 1.0])\n",
    "ax.set_ylim([0.0, 1.0])\n",
    "ax.set_xlabel('False Positive Rate',fontsize=14)\n",
    "ax.set_ylabel('True Positive Rate',fontsize=14)\n",
    "ax.set_title('ROC-кривая',fontsize=16)\n",
    "\n",
    "ax.grid(color ='grey',\n",
    "        linestyle ='-.', linewidth = 1,\n",
    "        alpha = 0.4)\n",
    "ax.set_facecolor('ghostwhite')"
   ]
  },
  {
   "cell_type": "markdown",
   "id": "cc856e66",
   "metadata": {},
   "source": [
    "**TF-IDF**"
   ]
  },
  {
   "cell_type": "markdown",
   "id": "05267aae",
   "metadata": {},
   "source": [
    "**Балансируем по весу**"
   ]
  },
  {
   "cell_type": "code",
   "execution_count": 35,
   "id": "7d22b629",
   "metadata": {},
   "outputs": [
    {
     "name": "stdout",
     "output_type": "stream",
     "text": [
      "Размер train'a: (95742, 111132)\n",
      "Размер valid'a: (31914, 111132)\n"
     ]
    }
   ],
   "source": [
    "Tf_Idf_count = TfidfVectorizer(stop_words=stopwords)\n",
    "n_gramm_train_tfidf = Tf_Idf_count.fit_transform(X_train)\n",
    "n_gramm_valid_tfidf = Tf_Idf_count.transform(X_valid)\n",
    "n_gramm_test_tfidf = Tf_Idf_count.transform(X_test)\n",
    "print(\"Размер train'a:\", n_gramm_train_tfidf.shape)\n",
    "print(\"Размер valid'a:\", n_gramm_valid_tfidf.shape)"
   ]
  },
  {
   "cell_type": "code",
   "execution_count": 36,
   "id": "d7f93093",
   "metadata": {},
   "outputs": [
    {
     "name": "stdout",
     "output_type": "stream",
     "text": [
      "train: 0.9592655261013975\n",
      "valid: 0.9396503102086858\n",
      "\n",
      "F1 valid: 0.7374\n"
     ]
    }
   ],
   "source": [
    "model_lr_tfidf = LogisticRegression(max_iter=2000, class_weight = 'balanced', random_state=123)\n",
    "model_lr_tfidf.fit(n_gramm_train_tfidf, y_train)\n",
    "print(\"train:\", model_lr_tfidf.score(n_gramm_train_tfidf, y_train))\n",
    "print(\"valid:\", model_lr_tfidf.score(n_gramm_valid_tfidf, y_valid))\n",
    "\n",
    "print(\"\\nF1 valid: {:.4f}\".format(f1_score(y_valid, model_lr_tfidf.predict(n_gramm_valid_tfidf))))"
   ]
  },
  {
   "cell_type": "code",
   "execution_count": 37,
   "id": "bfab2e23",
   "metadata": {},
   "outputs": [],
   "source": [
    "fpr, tpr, thresholds = roc_curve(y_valid, model_lr_tfidf.predict_proba(n_gramm_valid_tfidf)[:,1])"
   ]
  },
  {
   "cell_type": "markdown",
   "id": "7865188b",
   "metadata": {},
   "source": [
    "**UPsampling**"
   ]
  },
  {
   "cell_type": "code",
   "execution_count": 38,
   "id": "57fb4066",
   "metadata": {},
   "outputs": [],
   "source": [
    "# n_gramm_train_upsampled = Tf_Idf_count.fit_transform(features_upsampled)\n",
    "# n_gramm_test_upsampled = Tf_Idf_count.transform(X_test)\n",
    "\n",
    "# print(\"Размер train'a:\", n_gramm_train_upsampled.shape)\n",
    "# print(\"Размер test'a:\", n_gramm_test_upsampled.shape)"
   ]
  },
  {
   "cell_type": "code",
   "execution_count": 39,
   "id": "d2837cb2",
   "metadata": {},
   "outputs": [],
   "source": [
    "# LR_up = LogisticRegression(max_iter=2000, random_state=123)\n",
    "# LR_up.fit(n_gramm_train_upsampled, target_upsampled)\n",
    "# print(\"train:\", LR_up.score(n_gramm_train_upsampled, target_upsampled))\n",
    "# print(\"test:\", LR_up.score(n_gramm_test_upsampled, y_test))\n",
    "\n",
    "# print(\"\\nF1: {:.4f}\".format(f1_score(y_test, LR_up.predict(n_gramm_test_upsampled))))"
   ]
  },
  {
   "cell_type": "code",
   "execution_count": 40,
   "id": "7ac41f27",
   "metadata": {},
   "outputs": [],
   "source": [
    "# fpr_1, tpr_1, thresholds_1 = roc_curve(y_test, classificator.predict_proba(n_gramm_test_upsampled)[:,1])"
   ]
  },
  {
   "cell_type": "markdown",
   "id": "3b85a04c",
   "metadata": {},
   "source": [
    "**Downsampling**"
   ]
  },
  {
   "cell_type": "code",
   "execution_count": 41,
   "id": "6597d0ec",
   "metadata": {},
   "outputs": [
    {
     "name": "stdout",
     "output_type": "stream",
     "text": [
      "Размер train'a: (20150, 39847)\n",
      "Размер test'a: (31914, 39847)\n"
     ]
    }
   ],
   "source": [
    "n_gramm_train_down_tfidf = Tf_Idf_count.fit_transform(features_down)\n",
    "n_gramm_valid_down_tfidf = Tf_Idf_count.transform(X_valid)\n",
    "n_gramm_test_down_tfidf = Tf_Idf_count.transform(X_test)\n",
    "print(\"Размер train'a:\", n_gramm_train_down_tfidf.shape)\n",
    "print(\"Размер test'a:\", n_gramm_valid_down_tfidf.shape)"
   ]
  },
  {
   "cell_type": "code",
   "execution_count": 42,
   "id": "d1be709b",
   "metadata": {},
   "outputs": [
    {
     "name": "stdout",
     "output_type": "stream",
     "text": [
      "train: 0.8347890818858561\n",
      "valid: 0.953406028702137\n",
      "\n",
      "F1 valid: 0.7355\n"
     ]
    }
   ],
   "source": [
    "model_down_tfidf = LogisticRegression(max_iter=1000, random_state=123, class_weight = 'balanced')\n",
    "model_down_tfidf.fit(n_gramm_train_down_tfidf, target_down)\n",
    "print(\"train:\", model_down.score(n_gramm_train_down_tfidf, target_down))\n",
    "print(\"valid:\", model_down.score(n_gramm_valid_down_tfidf, y_valid))\n",
    "\n",
    "\n",
    "print(\"\\nF1 valid: {:.4f}\".format(f1_score(y_valid, model_down.predict(n_gramm_valid_down_tfidf))))"
   ]
  },
  {
   "cell_type": "markdown",
   "id": "76c23a68",
   "metadata": {},
   "source": [
    "**SGDClassifier**"
   ]
  },
  {
   "cell_type": "code",
   "execution_count": 43,
   "id": "0235d843",
   "metadata": {},
   "outputs": [],
   "source": [
    "kf = KFold(n_splits=3, shuffle=True, random_state=123)\n",
    "classificator_tfidf = SGDClassifier()\n",
    "hyperparams = [{'loss':['log', 'modified_huber'],\n",
    "                'learning_rate':['constant', 'adaptive'],\n",
    "                'eta0':[0.1, 0.2, 0.3],\n",
    "                'random_state':[123],\n",
    "                'class_weight':['balanced']}]\n",
    "\n",
    "\n",
    "clf = GridSearchCV(classificator_tfidf, hyperparams, scoring='f1', cv=kf, n_jobs=-1)\n",
    "clf.fit(n_gramm_train_tfidf, y_train)\n",
    "\n",
    "SGDC_best_params = clf.best_params_"
   ]
  },
  {
   "cell_type": "code",
   "execution_count": 44,
   "id": "46d7c105",
   "metadata": {},
   "outputs": [
    {
     "name": "stdout",
     "output_type": "stream",
     "text": [
      "F1: 0.7417 valid\n"
     ]
    }
   ],
   "source": [
    "classificator_tfidf = SGDClassifier()\n",
    "classificator_tfidf.set_params(**SGDC_best_params)\n",
    "classificator_tfidf.fit(n_gramm_train_tfidf, y_train)\n",
    "predict = classificator_tfidf.predict(n_gramm_valid_tfidf)\n",
    "f1_SGDC = f1_score(y_valid, predict)\n",
    "\n",
    "print('F1: {:.4f} valid'.format(f1_SGDC))"
   ]
  },
  {
   "cell_type": "code",
   "execution_count": 45,
   "id": "4e4b8677",
   "metadata": {},
   "outputs": [],
   "source": [
    "fpr_2, tpr_2, thresholds_2 = roc_curve(y_valid, classificator_tfidf.predict_proba(n_gramm_valid_tfidf)[:,1])"
   ]
  },
  {
   "cell_type": "code",
   "execution_count": 46,
   "id": "b23fca82",
   "metadata": {},
   "outputs": [
    {
     "data": {
      "image/png": "[encoded data removed]",
      "text/plain": [
       "<Figure size 1080x432 with 1 Axes>"
      ]
     },
     "metadata": {
      "needs_background": "light"
     },
     "output_type": "display_data"
    }
   ],
   "source": [
    "fig, ax = plt.subplots(figsize=(15, 6))\n",
    "ax.plot(fpr, tpr, linewidth=4, color='mediumblue')\n",
    "ax.plot(fpr_1, tpr_1, linewidth=3, color='dodgerblue')\n",
    "ax.plot(fpr_2, tpr_2, linewidth=3, color='orchid')\n",
    "#ax.plot(fpr_3, tpr_3, linewidth=2, color='lawngreen')\n",
    "ax.legend(['LogisticRegression','LogisticRegression_up','SGDClassifier'])\n",
    "\n",
    "ax.plot([0, 1], [0, 1], linestyle='--', linewidth=3, color = 'r')\n",
    "\n",
    "ax.set_xlim([0.0, 1.0])\n",
    "ax.set_ylim([0.0, 1.0])\n",
    "ax.set_xlabel('False Positive Rate',fontsize=14)\n",
    "ax.set_ylabel('True Positive Rate',fontsize=14)\n",
    "ax.set_title('ROC-кривая',fontsize=16)\n",
    "\n",
    "ax.grid(color ='grey',\n",
    "        linestyle ='-.', linewidth = 1,\n",
    "        alpha = 0.4)\n",
    "ax.set_facecolor('ghostwhite')"
   ]
  },
  {
   "cell_type": "markdown",
   "id": "a131ff6b",
   "metadata": {},
   "source": [
    "<div class=\"alert alert-block alert-info\">\n",
    "    \n",
    "**Комментарий студента** \n",
    "\n",
    "На валидационной выборке порог по метрике F1 прошли модель логистической регресси и стохастический градиентный спуск с балансировкой классов по весу. В обоих случаях векторизация - \"Bag of words\". Балансировка классов с помошью Downsampling к улучшению результата не приводит. "
   ]
  },
  {
   "cell_type": "markdown",
   "id": "ccac6388",
   "metadata": {},
   "source": [
    "<a id = 'step3'></a>\n",
    "# Тестирование"
   ]
  },
  {
   "cell_type": "code",
   "execution_count": 47,
   "id": "17eeac7d",
   "metadata": {},
   "outputs": [
    {
     "name": "stdout",
     "output_type": "stream",
     "text": [
      "Logistic Regression F1 test: 0.7592\n",
      "\n",
      "SGDClassifier F1 test: 0.7645 \n"
     ]
    }
   ],
   "source": [
    "print(\"Logistic Regression F1 test: {:.4f}\".format(f1_score(y_test, model_lr.predict(n_gramm_test))))\n",
    "print()\n",
    "print('SGDClassifier F1 test: {:.4f} '.format(f1_score(y_test, classificator.predict(n_gramm_test))))"
   ]
  },
  {
   "cell_type": "markdown",
   "id": "c005a738",
   "metadata": {},
   "source": [
    "<a id = 'step4'></a>\n",
    "# BERT"
   ]
  },
  {
   "cell_type": "markdown",
   "id": "5fb6fed9",
   "metadata": {},
   "source": [
    "**Здесь мы просто знакомимся с Bert. Воcпользуемся нашими данными, но создадим хорошиее условия для задачи - сбалансируем классы**"
   ]
  },
  {
   "cell_type": "code",
   "execution_count": 48,
   "id": "ea3473c7",
   "metadata": {},
   "outputs": [],
   "source": [
    "if os.path.exists('toxic_comments.csv'):\n",
    "    df = pd.read_csv('toxic_comments.csv') \n",
    "else:\n",
    "    df = pd.read_csv('toxic_comments.csv')\n",
    "    "
   ]
  },
  {
   "cell_type": "code",
   "execution_count": 49,
   "id": "fb119c61",
   "metadata": {},
   "outputs": [],
   "source": [
    "df_0 = df[df['toxic']==0].sample(400, random_state=123).reset_index(drop=True)"
   ]
  },
  {
   "cell_type": "code",
   "execution_count": 50,
   "id": "cb1636a1",
   "metadata": {},
   "outputs": [],
   "source": [
    "df_1 = df[df['toxic']==1].sample(400, random_state=123).reset_index(drop=True)"
   ]
  },
  {
   "cell_type": "code",
   "execution_count": 51,
   "id": "3651eef1",
   "metadata": {},
   "outputs": [
    {
     "data": {
      "text/html": [
       "<div>\n",
       "<style scoped>\n",
       "    .dataframe tbody tr th:only-of-type {\n",
       "        vertical-align: middle;\n",
       "    }\n",
       "\n",
       "    .dataframe tbody tr th {\n",
       "        vertical-align: top;\n",
       "    }\n",
       "\n",
       "    .dataframe thead th {\n",
       "        text-align: right;\n",
       "    }\n",
       "</style>\n",
       "<table border=\"1\" class=\"dataframe\">\n",
       "  <thead>\n",
       "    <tr style=\"text-align: right;\">\n",
       "      <th></th>\n",
       "      <th>text</th>\n",
       "      <th>toxic</th>\n",
       "    </tr>\n",
       "  </thead>\n",
       "  <tbody>\n",
       "    <tr>\n",
       "      <th>145</th>\n",
       "      <td>\"\\nAgain, Paul Brass is the foremost political...</td>\n",
       "      <td>0</td>\n",
       "    </tr>\n",
       "    <tr>\n",
       "      <th>171</th>\n",
       "      <td>Fuck you \\n\\nYou should be ashamed of yourself...</td>\n",
       "      <td>1</td>\n",
       "    </tr>\n",
       "    <tr>\n",
       "      <th>229</th>\n",
       "      <td>I did not know that...</td>\n",
       "      <td>0</td>\n",
       "    </tr>\n",
       "    <tr>\n",
       "      <th>202</th>\n",
       "      <td>Jungle Fight \\nAbout your comments:\\n01. They ...</td>\n",
       "      <td>0</td>\n",
       "    </tr>\n",
       "    <tr>\n",
       "      <th>185</th>\n",
       "      <td>\"\\n\\n\"\"I resigned because I was the subject of...</td>\n",
       "      <td>0</td>\n",
       "    </tr>\n",
       "    <tr>\n",
       "      <th>...</th>\n",
       "      <td>...</td>\n",
       "      <td>...</td>\n",
       "    </tr>\n",
       "    <tr>\n",
       "      <th>98</th>\n",
       "      <td>\"\\n\\n Hello! \\n\\nPlease, tell me where is my h...</td>\n",
       "      <td>0</td>\n",
       "    </tr>\n",
       "    <tr>\n",
       "      <th>322</th>\n",
       "      <td>\"\\n\\n GA Review II \\n\\nI'm sorry to say this, ...</td>\n",
       "      <td>0</td>\n",
       "    </tr>\n",
       "    <tr>\n",
       "      <th>382</th>\n",
       "      <td>admin \\n\\nok i will search for an admin. you d...</td>\n",
       "      <td>0</td>\n",
       "    </tr>\n",
       "    <tr>\n",
       "      <th>365</th>\n",
       "      <td>Cary Grant\\n\\nWhat are you talking about? cary...</td>\n",
       "      <td>0</td>\n",
       "    </tr>\n",
       "    <tr>\n",
       "      <th>110</th>\n",
       "      <td>Miners Day \\n\\nThanks for deleting it fuck bag...</td>\n",
       "      <td>1</td>\n",
       "    </tr>\n",
       "  </tbody>\n",
       "</table>\n",
       "<p>800 rows × 2 columns</p>\n",
       "</div>"
      ],
      "text/plain": [
       "                                                  text  toxic\n",
       "145  \"\\nAgain, Paul Brass is the foremost political...      0\n",
       "171  Fuck you \\n\\nYou should be ashamed of yourself...      1\n",
       "229                             I did not know that...      0\n",
       "202  Jungle Fight \\nAbout your comments:\\n01. They ...      0\n",
       "185  \"\\n\\n\"\"I resigned because I was the subject of...      0\n",
       "..                                                 ...    ...\n",
       "98   \"\\n\\n Hello! \\n\\nPlease, tell me where is my h...      0\n",
       "322  \"\\n\\n GA Review II \\n\\nI'm sorry to say this, ...      0\n",
       "382  admin \\n\\nok i will search for an admin. you d...      0\n",
       "365  Cary Grant\\n\\nWhat are you talking about? cary...      0\n",
       "110  Miners Day \\n\\nThanks for deleting it fuck bag...      1\n",
       "\n",
       "[800 rows x 2 columns]"
      ]
     },
     "execution_count": 51,
     "metadata": {},
     "output_type": "execute_result"
    }
   ],
   "source": [
    "df = pd.concat([df_0, df_1]).sample(frac=1, random_state=123)\n",
    "df"
   ]
  },
  {
   "cell_type": "code",
   "execution_count": 52,
   "id": "c0d86038",
   "metadata": {},
   "outputs": [
    {
     "name": "stderr",
     "output_type": "stream",
     "text": [
      "Some weights of the model checkpoint at bert-base-uncased were not used when initializing BertModel: ['cls.predictions.transform.LayerNorm.bias', 'cls.predictions.transform.LayerNorm.weight', 'cls.predictions.transform.dense.bias', 'cls.seq_relationship.weight', 'cls.seq_relationship.bias', 'cls.predictions.bias', 'cls.predictions.transform.dense.weight', 'cls.predictions.decoder.weight']\n",
      "- This IS expected if you are initializing BertModel from the checkpoint of a model trained on another task or with another architecture (e.g. initializing a BertForSequenceClassification model from a BertForPreTraining model).\n",
      "- This IS NOT expected if you are initializing BertModel from the checkpoint of a model that you expect to be exactly identical (initializing a BertForSequenceClassification model from a BertForSequenceClassification model).\n"
     ]
    },
    {
     "data": {
      "text/plain": [
       "BertModel(\n",
       "  (embeddings): BertEmbeddings(\n",
       "    (word_embeddings): Embedding(30522, 768, padding_idx=0)\n",
       "    (position_embeddings): Embedding(512, 768)\n",
       "    (token_type_embeddings): Embedding(2, 768)\n",
       "    (LayerNorm): LayerNorm((768,), eps=1e-12, elementwise_affine=True)\n",
       "    (dropout): Dropout(p=0.1, inplace=False)\n",
       "  )\n",
       "  (encoder): BertEncoder(\n",
       "    (layer): ModuleList(\n",
       "      (0): BertLayer(\n",
       "        (attention): BertAttention(\n",
       "          (self): BertSelfAttention(\n",
       "            (query): Linear(in_features=768, out_features=768, bias=True)\n",
       "            (key): Linear(in_features=768, out_features=768, bias=True)\n",
       "            (value): Linear(in_features=768, out_features=768, bias=True)\n",
       "            (dropout): Dropout(p=0.1, inplace=False)\n",
       "          )\n",
       "          (output): BertSelfOutput(\n",
       "            (dense): Linear(in_features=768, out_features=768, bias=True)\n",
       "            (LayerNorm): LayerNorm((768,), eps=1e-12, elementwise_affine=True)\n",
       "            (dropout): Dropout(p=0.1, inplace=False)\n",
       "          )\n",
       "        )\n",
       "        (intermediate): BertIntermediate(\n",
       "          (dense): Linear(in_features=768, out_features=3072, bias=True)\n",
       "          (intermediate_act_fn): GELUActivation()\n",
       "        )\n",
       "        (output): BertOutput(\n",
       "          (dense): Linear(in_features=3072, out_features=768, bias=True)\n",
       "          (LayerNorm): LayerNorm((768,), eps=1e-12, elementwise_affine=True)\n",
       "          (dropout): Dropout(p=0.1, inplace=False)\n",
       "        )\n",
       "      )\n",
       "      (1): BertLayer(\n",
       "        (attention): BertAttention(\n",
       "          (self): BertSelfAttention(\n",
       "            (query): Linear(in_features=768, out_features=768, bias=True)\n",
       "            (key): Linear(in_features=768, out_features=768, bias=True)\n",
       "            (value): Linear(in_features=768, out_features=768, bias=True)\n",
       "            (dropout): Dropout(p=0.1, inplace=False)\n",
       "          )\n",
       "          (output): BertSelfOutput(\n",
       "            (dense): Linear(in_features=768, out_features=768, bias=True)\n",
       "            (LayerNorm): LayerNorm((768,), eps=1e-12, elementwise_affine=True)\n",
       "            (dropout): Dropout(p=0.1, inplace=False)\n",
       "          )\n",
       "        )\n",
       "        (intermediate): BertIntermediate(\n",
       "          (dense): Linear(in_features=768, out_features=3072, bias=True)\n",
       "          (intermediate_act_fn): GELUActivation()\n",
       "        )\n",
       "        (output): BertOutput(\n",
       "          (dense): Linear(in_features=3072, out_features=768, bias=True)\n",
       "          (LayerNorm): LayerNorm((768,), eps=1e-12, elementwise_affine=True)\n",
       "          (dropout): Dropout(p=0.1, inplace=False)\n",
       "        )\n",
       "      )\n",
       "      (2): BertLayer(\n",
       "        (attention): BertAttention(\n",
       "          (self): BertSelfAttention(\n",
       "            (query): Linear(in_features=768, out_features=768, bias=True)\n",
       "            (key): Linear(in_features=768, out_features=768, bias=True)\n",
       "            (value): Linear(in_features=768, out_features=768, bias=True)\n",
       "            (dropout): Dropout(p=0.1, inplace=False)\n",
       "          )\n",
       "          (output): BertSelfOutput(\n",
       "            (dense): Linear(in_features=768, out_features=768, bias=True)\n",
       "            (LayerNorm): LayerNorm((768,), eps=1e-12, elementwise_affine=True)\n",
       "            (dropout): Dropout(p=0.1, inplace=False)\n",
       "          )\n",
       "        )\n",
       "        (intermediate): BertIntermediate(\n",
       "          (dense): Linear(in_features=768, out_features=3072, bias=True)\n",
       "          (intermediate_act_fn): GELUActivation()\n",
       "        )\n",
       "        (output): BertOutput(\n",
       "          (dense): Linear(in_features=3072, out_features=768, bias=True)\n",
       "          (LayerNorm): LayerNorm((768,), eps=1e-12, elementwise_affine=True)\n",
       "          (dropout): Dropout(p=0.1, inplace=False)\n",
       "        )\n",
       "      )\n",
       "      (3): BertLayer(\n",
       "        (attention): BertAttention(\n",
       "          (self): BertSelfAttention(\n",
       "            (query): Linear(in_features=768, out_features=768, bias=True)\n",
       "            (key): Linear(in_features=768, out_features=768, bias=True)\n",
       "            (value): Linear(in_features=768, out_features=768, bias=True)\n",
       "            (dropout): Dropout(p=0.1, inplace=False)\n",
       "          )\n",
       "          (output): BertSelfOutput(\n",
       "            (dense): Linear(in_features=768, out_features=768, bias=True)\n",
       "            (LayerNorm): LayerNorm((768,), eps=1e-12, elementwise_affine=True)\n",
       "            (dropout): Dropout(p=0.1, inplace=False)\n",
       "          )\n",
       "        )\n",
       "        (intermediate): BertIntermediate(\n",
       "          (dense): Linear(in_features=768, out_features=3072, bias=True)\n",
       "          (intermediate_act_fn): GELUActivation()\n",
       "        )\n",
       "        (output): BertOutput(\n",
       "          (dense): Linear(in_features=3072, out_features=768, bias=True)\n",
       "          (LayerNorm): LayerNorm((768,), eps=1e-12, elementwise_affine=True)\n",
       "          (dropout): Dropout(p=0.1, inplace=False)\n",
       "        )\n",
       "      )\n",
       "      (4): BertLayer(\n",
       "        (attention): BertAttention(\n",
       "          (self): BertSelfAttention(\n",
       "            (query): Linear(in_features=768, out_features=768, bias=True)\n",
       "            (key): Linear(in_features=768, out_features=768, bias=True)\n",
       "            (value): Linear(in_features=768, out_features=768, bias=True)\n",
       "            (dropout): Dropout(p=0.1, inplace=False)\n",
       "          )\n",
       "          (output): BertSelfOutput(\n",
       "            (dense): Linear(in_features=768, out_features=768, bias=True)\n",
       "            (LayerNorm): LayerNorm((768,), eps=1e-12, elementwise_affine=True)\n",
       "            (dropout): Dropout(p=0.1, inplace=False)\n",
       "          )\n",
       "        )\n",
       "        (intermediate): BertIntermediate(\n",
       "          (dense): Linear(in_features=768, out_features=3072, bias=True)\n",
       "          (intermediate_act_fn): GELUActivation()\n",
       "        )\n",
       "        (output): BertOutput(\n",
       "          (dense): Linear(in_features=3072, out_features=768, bias=True)\n",
       "          (LayerNorm): LayerNorm((768,), eps=1e-12, elementwise_affine=True)\n",
       "          (dropout): Dropout(p=0.1, inplace=False)\n",
       "        )\n",
       "      )\n",
       "      (5): BertLayer(\n",
       "        (attention): BertAttention(\n",
       "          (self): BertSelfAttention(\n",
       "            (query): Linear(in_features=768, out_features=768, bias=True)\n",
       "            (key): Linear(in_features=768, out_features=768, bias=True)\n",
       "            (value): Linear(in_features=768, out_features=768, bias=True)\n",
       "            (dropout): Dropout(p=0.1, inplace=False)\n",
       "          )\n",
       "          (output): BertSelfOutput(\n",
       "            (dense): Linear(in_features=768, out_features=768, bias=True)\n",
       "            (LayerNorm): LayerNorm((768,), eps=1e-12, elementwise_affine=True)\n",
       "            (dropout): Dropout(p=0.1, inplace=False)\n",
       "          )\n",
       "        )\n",
       "        (intermediate): BertIntermediate(\n",
       "          (dense): Linear(in_features=768, out_features=3072, bias=True)\n",
       "          (intermediate_act_fn): GELUActivation()\n",
       "        )\n",
       "        (output): BertOutput(\n",
       "          (dense): Linear(in_features=3072, out_features=768, bias=True)\n",
       "          (LayerNorm): LayerNorm((768,), eps=1e-12, elementwise_affine=True)\n",
       "          (dropout): Dropout(p=0.1, inplace=False)\n",
       "        )\n",
       "      )\n",
       "      (6): BertLayer(\n",
       "        (attention): BertAttention(\n",
       "          (self): BertSelfAttention(\n",
       "            (query): Linear(in_features=768, out_features=768, bias=True)\n",
       "            (key): Linear(in_features=768, out_features=768, bias=True)\n",
       "            (value): Linear(in_features=768, out_features=768, bias=True)\n",
       "            (dropout): Dropout(p=0.1, inplace=False)\n",
       "          )\n",
       "          (output): BertSelfOutput(\n",
       "            (dense): Linear(in_features=768, out_features=768, bias=True)\n",
       "            (LayerNorm): LayerNorm((768,), eps=1e-12, elementwise_affine=True)\n",
       "            (dropout): Dropout(p=0.1, inplace=False)\n",
       "          )\n",
       "        )\n",
       "        (intermediate): BertIntermediate(\n",
       "          (dense): Linear(in_features=768, out_features=3072, bias=True)\n",
       "          (intermediate_act_fn): GELUActivation()\n",
       "        )\n",
       "        (output): BertOutput(\n",
       "          (dense): Linear(in_features=3072, out_features=768, bias=True)\n",
       "          (LayerNorm): LayerNorm((768,), eps=1e-12, elementwise_affine=True)\n",
       "          (dropout): Dropout(p=0.1, inplace=False)\n",
       "        )\n",
       "      )\n",
       "      (7): BertLayer(\n",
       "        (attention): BertAttention(\n",
       "          (self): BertSelfAttention(\n",
       "            (query): Linear(in_features=768, out_features=768, bias=True)\n",
       "            (key): Linear(in_features=768, out_features=768, bias=True)\n",
       "            (value): Linear(in_features=768, out_features=768, bias=True)\n",
       "            (dropout): Dropout(p=0.1, inplace=False)\n",
       "          )\n",
       "          (output): BertSelfOutput(\n",
       "            (dense): Linear(in_features=768, out_features=768, bias=True)\n",
       "            (LayerNorm): LayerNorm((768,), eps=1e-12, elementwise_affine=True)\n",
       "            (dropout): Dropout(p=0.1, inplace=False)\n",
       "          )\n",
       "        )\n",
       "        (intermediate): BertIntermediate(\n",
       "          (dense): Linear(in_features=768, out_features=3072, bias=True)\n",
       "          (intermediate_act_fn): GELUActivation()\n",
       "        )\n",
       "        (output): BertOutput(\n",
       "          (dense): Linear(in_features=3072, out_features=768, bias=True)\n",
       "          (LayerNorm): LayerNorm((768,), eps=1e-12, elementwise_affine=True)\n",
       "          (dropout): Dropout(p=0.1, inplace=False)\n",
       "        )\n",
       "      )\n",
       "      (8): BertLayer(\n",
       "        (attention): BertAttention(\n",
       "          (self): BertSelfAttention(\n",
       "            (query): Linear(in_features=768, out_features=768, bias=True)\n",
       "            (key): Linear(in_features=768, out_features=768, bias=True)\n",
       "            (value): Linear(in_features=768, out_features=768, bias=True)\n",
       "            (dropout): Dropout(p=0.1, inplace=False)\n",
       "          )\n",
       "          (output): BertSelfOutput(\n",
       "            (dense): Linear(in_features=768, out_features=768, bias=True)\n",
       "            (LayerNorm): LayerNorm((768,), eps=1e-12, elementwise_affine=True)\n",
       "            (dropout): Dropout(p=0.1, inplace=False)\n",
       "          )\n",
       "        )\n",
       "        (intermediate): BertIntermediate(\n",
       "          (dense): Linear(in_features=768, out_features=3072, bias=True)\n",
       "          (intermediate_act_fn): GELUActivation()\n",
       "        )\n",
       "        (output): BertOutput(\n",
       "          (dense): Linear(in_features=3072, out_features=768, bias=True)\n",
       "          (LayerNorm): LayerNorm((768,), eps=1e-12, elementwise_affine=True)\n",
       "          (dropout): Dropout(p=0.1, inplace=False)\n",
       "        )\n",
       "      )\n",
       "      (9): BertLayer(\n",
       "        (attention): BertAttention(\n",
       "          (self): BertSelfAttention(\n",
       "            (query): Linear(in_features=768, out_features=768, bias=True)\n",
       "            (key): Linear(in_features=768, out_features=768, bias=True)\n",
       "            (value): Linear(in_features=768, out_features=768, bias=True)\n",
       "            (dropout): Dropout(p=0.1, inplace=False)\n",
       "          )\n",
       "          (output): BertSelfOutput(\n",
       "            (dense): Linear(in_features=768, out_features=768, bias=True)\n",
       "            (LayerNorm): LayerNorm((768,), eps=1e-12, elementwise_affine=True)\n",
       "            (dropout): Dropout(p=0.1, inplace=False)\n",
       "          )\n",
       "        )\n",
       "        (intermediate): BertIntermediate(\n",
       "          (dense): Linear(in_features=768, out_features=3072, bias=True)\n",
       "          (intermediate_act_fn): GELUActivation()\n",
       "        )\n",
       "        (output): BertOutput(\n",
       "          (dense): Linear(in_features=3072, out_features=768, bias=True)\n",
       "          (LayerNorm): LayerNorm((768,), eps=1e-12, elementwise_affine=True)\n",
       "          (dropout): Dropout(p=0.1, inplace=False)\n",
       "        )\n",
       "      )\n",
       "      (10): BertLayer(\n",
       "        (attention): BertAttention(\n",
       "          (self): BertSelfAttention(\n",
       "            (query): Linear(in_features=768, out_features=768, bias=True)\n",
       "            (key): Linear(in_features=768, out_features=768, bias=True)\n",
       "            (value): Linear(in_features=768, out_features=768, bias=True)\n",
       "            (dropout): Dropout(p=0.1, inplace=False)\n",
       "          )\n",
       "          (output): BertSelfOutput(\n",
       "            (dense): Linear(in_features=768, out_features=768, bias=True)\n",
       "            (LayerNorm): LayerNorm((768,), eps=1e-12, elementwise_affine=True)\n",
       "            (dropout): Dropout(p=0.1, inplace=False)\n",
       "          )\n",
       "        )\n",
       "        (intermediate): BertIntermediate(\n",
       "          (dense): Linear(in_features=768, out_features=3072, bias=True)\n",
       "          (intermediate_act_fn): GELUActivation()\n",
       "        )\n",
       "        (output): BertOutput(\n",
       "          (dense): Linear(in_features=3072, out_features=768, bias=True)\n",
       "          (LayerNorm): LayerNorm((768,), eps=1e-12, elementwise_affine=True)\n",
       "          (dropout): Dropout(p=0.1, inplace=False)\n",
       "        )\n",
       "      )\n",
       "      (11): BertLayer(\n",
       "        (attention): BertAttention(\n",
       "          (self): BertSelfAttention(\n",
       "            (query): Linear(in_features=768, out_features=768, bias=True)\n",
       "            (key): Linear(in_features=768, out_features=768, bias=True)\n",
       "            (value): Linear(in_features=768, out_features=768, bias=True)\n",
       "            (dropout): Dropout(p=0.1, inplace=False)\n",
       "          )\n",
       "          (output): BertSelfOutput(\n",
       "            (dense): Linear(in_features=768, out_features=768, bias=True)\n",
       "            (LayerNorm): LayerNorm((768,), eps=1e-12, elementwise_affine=True)\n",
       "            (dropout): Dropout(p=0.1, inplace=False)\n",
       "          )\n",
       "        )\n",
       "        (intermediate): BertIntermediate(\n",
       "          (dense): Linear(in_features=768, out_features=3072, bias=True)\n",
       "          (intermediate_act_fn): GELUActivation()\n",
       "        )\n",
       "        (output): BertOutput(\n",
       "          (dense): Linear(in_features=3072, out_features=768, bias=True)\n",
       "          (LayerNorm): LayerNorm((768,), eps=1e-12, elementwise_affine=True)\n",
       "          (dropout): Dropout(p=0.1, inplace=False)\n",
       "        )\n",
       "      )\n",
       "    )\n",
       "  )\n",
       "  (pooler): BertPooler(\n",
       "    (dense): Linear(in_features=768, out_features=768, bias=True)\n",
       "    (activation): Tanh()\n",
       "  )\n",
       ")"
      ]
     },
     "execution_count": 52,
     "metadata": {},
     "output_type": "execute_result"
    }
   ],
   "source": [
    "model_class, tokenizer_class, pretrained_weights = (ppb.BertModel, ppb.BertTokenizer, 'bert-base-uncased')\n",
    "\n",
    "# Загрузка предобученной модели/токенизатора \n",
    "tokenizer = tokenizer_class.from_pretrained(pretrained_weights)\n",
    "model = model_class.from_pretrained(pretrained_weights)\n",
    "model.eval()"
   ]
  },
  {
   "cell_type": "code",
   "execution_count": 53,
   "id": "1141ea29",
   "metadata": {},
   "outputs": [],
   "source": [
    "#токенизируем текст\n",
    "tokenized = df['text'].apply((lambda x: tokenizer.encode(x, add_special_tokens=True, truncation=True)))"
   ]
  },
  {
   "cell_type": "code",
   "execution_count": 54,
   "id": "b9fbf9f6",
   "metadata": {},
   "outputs": [],
   "source": [
    "max_len = 0\n",
    "for i in tokenized.values:\n",
    "    if len(i) > max_len:\n",
    "        max_len = len(i)\n",
    "\n",
    "padded = np.array([i + [0]*(max_len - len(i)) for i in tokenized.values])\n",
    "\n",
    "attention_mask = np.where(padded != 0, 1, 0)"
   ]
  },
  {
   "cell_type": "code",
   "execution_count": 55,
   "id": "7ae31010",
   "metadata": {},
   "outputs": [
    {
     "data": {
      "application/vnd.jupyter.widget-view+json": {
       "model_id": "54a6492de6614d3fa743dde8b51e2c04",
       "version_major": 2,
       "version_minor": 0
      },
      "text/plain": [
       "  0%|          | 0/8 [00:00<?, ?it/s]"
      ]
     },
     "metadata": {},
     "output_type": "display_data"
    }
   ],
   "source": [
    "batch_size = 100\n",
    "embeddings = []\n",
    "for i in tqdm(range(padded.shape[0] // batch_size)):\n",
    "    batch = torch.LongTensor(padded[batch_size*i:batch_size*(i+1)]) \n",
    "    attention_mask_batch = torch.LongTensor(attention_mask[batch_size*i:batch_size*(i+1)])\n",
    "\n",
    "    with torch.no_grad():\n",
    "        batch_embeddings = model(batch, attention_mask=attention_mask_batch)\n",
    "\n",
    "    embeddings.append(batch_embeddings[0][:,0,:].numpy())"
   ]
  },
  {
   "cell_type": "code",
   "execution_count": 56,
   "id": "61b48a2a",
   "metadata": {},
   "outputs": [],
   "source": [
    "features = np.concatenate(embeddings)"
   ]
  },
  {
   "cell_type": "code",
   "execution_count": 57,
   "id": "472ffc2d",
   "metadata": {},
   "outputs": [
    {
     "name": "stdout",
     "output_type": "stream",
     "text": [
      "F1 score BERT+LogisticRegression: 0.8410\n"
     ]
    }
   ],
   "source": [
    "warnings.filterwarnings(\"ignore\")\n",
    "\n",
    "target = df['toxic']\n",
    "X_train, X_test, y_train, y_test = train_test_split(features, target,\n",
    "                                    test_size=0.5, random_state=123)\n",
    "\n",
    "model = LogisticRegression(random_state=123)\n",
    "model.fit(X_train,y_train)\n",
    "print('F1 score BERT+LogisticRegression: {:.4f}'.format(cross_val_score(model, X_train, y_train, scoring=\"f1\").mean()))\n"
   ]
  },
  {
   "cell_type": "markdown",
   "id": "9e6ed4e5",
   "metadata": {},
   "source": [
    "<a id = 'step5'></a>\n",
    "\n",
    "    \n",
    "<h2> Общий вывод <a class=\"tocSkip\"></h2>\n",
    "    \n",
    "В данной работе мы должны были проанализироать комментарии, предоставленные интернет-магазином «Викишоп», и построить модель, которая должна классифицировать эти комментарий как позитивные и негативные. \n",
    "    \n",
    "Данные не требовали дополнительной предобработки, кроме лемматизации и о очистки от символов, отличных от латиницы. \n",
    "На этапе анализа мы обнаружили, что классы не сбалансированы. Поэтому пробовали обучать различные модели на исходных данных и на уменьшенной выборке, применив метод downsampling. При переводе текстов в векторный формат мы использовали два метода - \"Мешок слов\" и \"TF-IDF\"\n",
    "   \n",
    "Среди моделей, которые мы обучали были логистическая регрессия и стохастический градиентный спуск. Лучше всего на валидационной выборке себя показала модель стохастического градиентного спуска, с применением векторизации \"Мешок слов\" - F1 = 0.7529. В целом, логистическая регрессия показала почти такой же результат - F1 = 0.7524. \n",
    "   \n",
    "На тестовой выборке разница заметна уже чуть больше: \n",
    "* Logistic Regression - F1 = 0.7592\n",
    "* SGDClassifier - F1 = 0.7645\n",
    "    \n",
    "    \n",
    "При использовании векторизации \"TF-IDF\" снова лучше всего отработала модель SGDClassifier - F1 = 0.7417, но это не удовлетворяет условиям задачи. \n",
    "   \n",
    "    \n",
    "Лучше всего, ожидаемо, отработала модель логистической регрессии, на вход которой подаются предложения, обработанные спомошью BERT: F1 = 0.8410. Однако, это результат на выборке, которую пришлось уменьшить в 150 раз, чтобы дождаться результата, к тому же мы сбалансировали классы. \n",
    "</div> "
   ]
  },
  {
   "cell_type": "code",
   "execution_count": null,
   "id": "c772e417",
   "metadata": {},
   "outputs": [],
   "source": []
  }
 ],
 "metadata": {
  "ExecuteTimeLog": [
   {
    "duration": 47,
    "start_time": "2022-07-16T16:47:17.955Z"
   }
  ],
  "kernelspec": {
   "display_name": "Python 3 (ipykernel)",
   "language": "python",
   "name": "python3"
  },
  "language_info": {
   "codemirror_mode": {
    "name": "ipython",
    "version": 3
   },
   "file_extension": ".py",
   "mimetype": "text/x-python",
   "name": "python",
   "nbconvert_exporter": "python",
   "pygments_lexer": "ipython3",
   "version": "3.9.13"
  },
  "toc": {
   "base_numbering": 1,
   "nav_menu": {},
   "number_sections": true,
   "sideBar": true,
   "skip_h1_title": true,
   "title_cell": "Table of Contents",
   "title_sidebar": "Contents",
   "toc_cell": false,
   "toc_position": {},
   "toc_section_display": true,
   "toc_window_display": false
  }
 },
 "nbformat": 4,
 "nbformat_minor": 5
}
