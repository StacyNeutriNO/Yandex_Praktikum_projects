{
 "cells": [
  {
   "cell_type": "markdown",
   "id": "e7f3c471",
   "metadata": {},
   "source": [
    "# Проект:  Определение стоимости автомобилей\n",
    "**Описание исседования** <br>\n",
    "\n",
    "Сервис по продаже автомобилей с пробегом «Не бит, не крашен» разрабатывает приложение для привлечения новых клиентов. В нём можно быстро узнать рыночную стоимость своего автомобиля. В нашем распоряжении исторические данные: технические характеристики, комплектации и цены автомобилей. Нужно построить модель для определения стоимости.\n",
    "\n",
    "**Признаки**\n",
    "\n",
    "* DateCrawled — дата скачивания анкеты из базы\n",
    "* VehicleType — тип автомобильного кузова\n",
    "* RegistrationYear — год регистрации автомобиля\n",
    "* Gearbox — тип коробки передач\n",
    "* Power — мощность (л. с.)\n",
    "* Model — модель автомобиля\n",
    "* Kilometer — пробег (км)\n",
    "* RegistrationMonth — месяц регистрации автомобиля\n",
    "* FuelType — тип топлива\n",
    "* Brand — марка автомобиля\n",
    "* NotRepaired — была машина в ремонте или нет\n",
    "* DateCreated — дата создания анкеты\n",
    "* NumberOfPictures — количество фотографий автомобиля\n",
    "* PostalCode — почтовый индекс владельца анкеты (пользователя)\n",
    "* LastSeen — дата последней активности пользователя\n",
    "\n",
    "**Целевой признак**\n",
    "\n",
    "* Price — цена (евро)\n",
    "\n",
    "**Содержание**\n",
    "\n",
    " [Шаг 1. Загрузка и подготовка данныx](#step1)\n",
    " \n",
    " [Шаг 2. Обучение моделей](#step2)\n",
    " \n",
    " [Шаг 3. Общий вывод](#step3)\n",
    " "
   ]
  },
  {
   "cell_type": "markdown",
   "id": "738c7007",
   "metadata": {},
   "source": [
    "<a id = 'step1'></a>\n",
    "# Шаг 1. Загрузка и подготовка данных"
   ]
  },
  {
   "cell_type": "code",
   "execution_count": 42,
   "id": "b910dfcf",
   "metadata": {},
   "outputs": [],
   "source": [
    "#импортируем библиотеки\n",
    "import pandas as pd\n",
    "import numpy as np\n",
    "import os\n",
    "\n",
    "from catboost import CatBoostRegressor, Pool\n",
    "from xgboost import XGBRegressor\n",
    "from sklearn.metrics import mean_squared_error\n",
    "from sklearn.model_selection import GridSearchCV, train_test_split, KFold\n",
    "from sklearn.preprocessing import OneHotEncoder, LabelEncoder, StandardScaler\n",
    "from sklearn.linear_model import LinearRegression, Lasso, Ridge\n",
    "from lightgbm import LGBMRegressor\n",
    "\n",
    "\n",
    "\n",
    "import matplotlib.pyplot as plt\n",
    "import seaborn as sns"
   ]
  },
  {
   "cell_type": "code",
   "execution_count": 43,
   "id": "a8565570",
   "metadata": {},
   "outputs": [],
   "source": [
    "if os.path.exists('autos.csv'):\n",
    "    data = pd.read_csv('autos.csv') #локальный путь\n",
    "else:\n",
    "    data = pd.read_csv('/datasets/autos.csv') #путь, указанный в проекте"
   ]
  },
  {
   "cell_type": "code",
   "execution_count": 44,
   "id": "6b45ed9a",
   "metadata": {},
   "outputs": [
    {
     "data": {
      "text/html": [
       "<div>\n",
       "<style scoped>\n",
       "    .dataframe tbody tr th:only-of-type {\n",
       "        vertical-align: middle;\n",
       "    }\n",
       "\n",
       "    .dataframe tbody tr th {\n",
       "        vertical-align: top;\n",
       "    }\n",
       "\n",
       "    .dataframe thead th {\n",
       "        text-align: right;\n",
       "    }\n",
       "</style>\n",
       "<table border=\"1\" class=\"dataframe\">\n",
       "  <thead>\n",
       "    <tr style=\"text-align: right;\">\n",
       "      <th></th>\n",
       "      <th>DateCrawled</th>\n",
       "      <th>Price</th>\n",
       "      <th>VehicleType</th>\n",
       "      <th>RegistrationYear</th>\n",
       "      <th>Gearbox</th>\n",
       "      <th>Power</th>\n",
       "      <th>Model</th>\n",
       "      <th>Kilometer</th>\n",
       "      <th>RegistrationMonth</th>\n",
       "      <th>FuelType</th>\n",
       "      <th>Brand</th>\n",
       "      <th>NotRepaired</th>\n",
       "      <th>DateCreated</th>\n",
       "      <th>NumberOfPictures</th>\n",
       "      <th>PostalCode</th>\n",
       "      <th>LastSeen</th>\n",
       "    </tr>\n",
       "  </thead>\n",
       "  <tbody>\n",
       "    <tr>\n",
       "      <th>0</th>\n",
       "      <td>2016-03-24 11:52:17</td>\n",
       "      <td>480</td>\n",
       "      <td>NaN</td>\n",
       "      <td>1993</td>\n",
       "      <td>manual</td>\n",
       "      <td>0</td>\n",
       "      <td>golf</td>\n",
       "      <td>150000</td>\n",
       "      <td>0</td>\n",
       "      <td>petrol</td>\n",
       "      <td>volkswagen</td>\n",
       "      <td>NaN</td>\n",
       "      <td>2016-03-24 00:00:00</td>\n",
       "      <td>0</td>\n",
       "      <td>70435</td>\n",
       "      <td>2016-04-07 03:16:57</td>\n",
       "    </tr>\n",
       "    <tr>\n",
       "      <th>1</th>\n",
       "      <td>2016-03-24 10:58:45</td>\n",
       "      <td>18300</td>\n",
       "      <td>coupe</td>\n",
       "      <td>2011</td>\n",
       "      <td>manual</td>\n",
       "      <td>190</td>\n",
       "      <td>NaN</td>\n",
       "      <td>125000</td>\n",
       "      <td>5</td>\n",
       "      <td>gasoline</td>\n",
       "      <td>audi</td>\n",
       "      <td>yes</td>\n",
       "      <td>2016-03-24 00:00:00</td>\n",
       "      <td>0</td>\n",
       "      <td>66954</td>\n",
       "      <td>2016-04-07 01:46:50</td>\n",
       "    </tr>\n",
       "    <tr>\n",
       "      <th>2</th>\n",
       "      <td>2016-03-14 12:52:21</td>\n",
       "      <td>9800</td>\n",
       "      <td>suv</td>\n",
       "      <td>2004</td>\n",
       "      <td>auto</td>\n",
       "      <td>163</td>\n",
       "      <td>grand</td>\n",
       "      <td>125000</td>\n",
       "      <td>8</td>\n",
       "      <td>gasoline</td>\n",
       "      <td>jeep</td>\n",
       "      <td>NaN</td>\n",
       "      <td>2016-03-14 00:00:00</td>\n",
       "      <td>0</td>\n",
       "      <td>90480</td>\n",
       "      <td>2016-04-05 12:47:46</td>\n",
       "    </tr>\n",
       "    <tr>\n",
       "      <th>3</th>\n",
       "      <td>2016-03-17 16:54:04</td>\n",
       "      <td>1500</td>\n",
       "      <td>small</td>\n",
       "      <td>2001</td>\n",
       "      <td>manual</td>\n",
       "      <td>75</td>\n",
       "      <td>golf</td>\n",
       "      <td>150000</td>\n",
       "      <td>6</td>\n",
       "      <td>petrol</td>\n",
       "      <td>volkswagen</td>\n",
       "      <td>no</td>\n",
       "      <td>2016-03-17 00:00:00</td>\n",
       "      <td>0</td>\n",
       "      <td>91074</td>\n",
       "      <td>2016-03-17 17:40:17</td>\n",
       "    </tr>\n",
       "    <tr>\n",
       "      <th>4</th>\n",
       "      <td>2016-03-31 17:25:20</td>\n",
       "      <td>3600</td>\n",
       "      <td>small</td>\n",
       "      <td>2008</td>\n",
       "      <td>manual</td>\n",
       "      <td>69</td>\n",
       "      <td>fabia</td>\n",
       "      <td>90000</td>\n",
       "      <td>7</td>\n",
       "      <td>gasoline</td>\n",
       "      <td>skoda</td>\n",
       "      <td>no</td>\n",
       "      <td>2016-03-31 00:00:00</td>\n",
       "      <td>0</td>\n",
       "      <td>60437</td>\n",
       "      <td>2016-04-06 10:17:21</td>\n",
       "    </tr>\n",
       "  </tbody>\n",
       "</table>\n",
       "</div>"
      ],
      "text/plain": [
       "           DateCrawled  Price VehicleType  RegistrationYear Gearbox  Power  \\\n",
       "0  2016-03-24 11:52:17    480         NaN              1993  manual      0   \n",
       "1  2016-03-24 10:58:45  18300       coupe              2011  manual    190   \n",
       "2  2016-03-14 12:52:21   9800         suv              2004    auto    163   \n",
       "3  2016-03-17 16:54:04   1500       small              2001  manual     75   \n",
       "4  2016-03-31 17:25:20   3600       small              2008  manual     69   \n",
       "\n",
       "   Model  Kilometer  RegistrationMonth  FuelType       Brand NotRepaired  \\\n",
       "0   golf     150000                  0    petrol  volkswagen         NaN   \n",
       "1    NaN     125000                  5  gasoline        audi         yes   \n",
       "2  grand     125000                  8  gasoline        jeep         NaN   \n",
       "3   golf     150000                  6    petrol  volkswagen          no   \n",
       "4  fabia      90000                  7  gasoline       skoda          no   \n",
       "\n",
       "           DateCreated  NumberOfPictures  PostalCode             LastSeen  \n",
       "0  2016-03-24 00:00:00                 0       70435  2016-04-07 03:16:57  \n",
       "1  2016-03-24 00:00:00                 0       66954  2016-04-07 01:46:50  \n",
       "2  2016-03-14 00:00:00                 0       90480  2016-04-05 12:47:46  \n",
       "3  2016-03-17 00:00:00                 0       91074  2016-03-17 17:40:17  \n",
       "4  2016-03-31 00:00:00                 0       60437  2016-04-06 10:17:21  "
      ]
     },
     "execution_count": 44,
     "metadata": {},
     "output_type": "execute_result"
    }
   ],
   "source": [
    "data.head()"
   ]
  },
  {
   "cell_type": "code",
   "execution_count": 45,
   "id": "0aa720a2",
   "metadata": {},
   "outputs": [
    {
     "name": "stdout",
     "output_type": "stream",
     "text": [
      "<class 'pandas.core.frame.DataFrame'>\n",
      "RangeIndex: 354369 entries, 0 to 354368\n",
      "Data columns (total 16 columns):\n",
      " #   Column             Non-Null Count   Dtype \n",
      "---  ------             --------------   ----- \n",
      " 0   DateCrawled        354369 non-null  object\n",
      " 1   Price              354369 non-null  int64 \n",
      " 2   VehicleType        316879 non-null  object\n",
      " 3   RegistrationYear   354369 non-null  int64 \n",
      " 4   Gearbox            334536 non-null  object\n",
      " 5   Power              354369 non-null  int64 \n",
      " 6   Model              334664 non-null  object\n",
      " 7   Kilometer          354369 non-null  int64 \n",
      " 8   RegistrationMonth  354369 non-null  int64 \n",
      " 9   FuelType           321474 non-null  object\n",
      " 10  Brand              354369 non-null  object\n",
      " 11  NotRepaired        283215 non-null  object\n",
      " 12  DateCreated        354369 non-null  object\n",
      " 13  NumberOfPictures   354369 non-null  int64 \n",
      " 14  PostalCode         354369 non-null  int64 \n",
      " 15  LastSeen           354369 non-null  object\n",
      "dtypes: int64(7), object(9)\n",
      "memory usage: 43.3+ MB\n"
     ]
    }
   ],
   "source": [
    "data.info()"
   ]
  },
  {
   "cell_type": "code",
   "execution_count": 46,
   "id": "91ada804",
   "metadata": {},
   "outputs": [
    {
     "data": {
      "text/plain": [
       "count    354369.0\n",
       "mean          0.0\n",
       "std           0.0\n",
       "min           0.0\n",
       "25%           0.0\n",
       "50%           0.0\n",
       "75%           0.0\n",
       "max           0.0\n",
       "Name: NumberOfPictures, dtype: float64"
      ]
     },
     "execution_count": 46,
     "metadata": {},
     "output_type": "execute_result"
    }
   ],
   "source": [
    "data['NumberOfPictures'].describe()"
   ]
  },
  {
   "cell_type": "code",
   "execution_count": 47,
   "id": "793f1b4e",
   "metadata": {},
   "outputs": [
    {
     "data": {
      "text/plain": [
       "4"
      ]
     },
     "execution_count": 47,
     "metadata": {},
     "output_type": "execute_result"
    }
   ],
   "source": [
    "data.duplicated().sum()"
   ]
  },
  {
   "cell_type": "code",
   "execution_count": 48,
   "id": "eec447ea",
   "metadata": {},
   "outputs": [],
   "source": [
    "data.drop_duplicates(inplace = True) "
   ]
  },
  {
   "cell_type": "code",
   "execution_count": 49,
   "id": "8f85d00b",
   "metadata": {},
   "outputs": [],
   "source": [
    "#удалим ненужные столбцы \n",
    "data = data.drop(['DateCrawled', 'DateCreated', 'RegistrationMonth', 'PostalCode', 'LastSeen', 'NumberOfPictures'], axis = 1)"
   ]
  },
  {
   "cell_type": "code",
   "execution_count": 50,
   "id": "67ce7fb9",
   "metadata": {},
   "outputs": [
    {
     "data": {
      "text/plain": [
       "Price                0.00%\n",
       "VehicleType         10.58%\n",
       "RegistrationYear     0.00%\n",
       "Gearbox              5.60%\n",
       "Power                0.00%\n",
       "Model                5.56%\n",
       "Kilometer            0.00%\n",
       "FuelType             9.28%\n",
       "Brand                0.00%\n",
       "NotRepaired         20.08%\n",
       "dtype: object"
      ]
     },
     "execution_count": 50,
     "metadata": {},
     "output_type": "execute_result"
    }
   ],
   "source": [
    "#пропуски\n",
    "(data.isna().sum()/data.shape[0]).map('{:.2%}'.format)"
   ]
  },
  {
   "cell_type": "code",
   "execution_count": 51,
   "id": "ec29ef29",
   "metadata": {},
   "outputs": [],
   "source": [
    "#data.isna().mean() * 100"
   ]
  },
  {
   "cell_type": "markdown",
   "id": "22ebe0d2",
   "metadata": {},
   "source": [
    "**Комментарий студента**\n",
    "\n",
    " Тип кузова(VehicleType) можно попробовать восстановить по модели(Model) автомобиля"
   ]
  },
  {
   "cell_type": "code",
   "execution_count": 52,
   "id": "e26772f6",
   "metadata": {},
   "outputs": [
    {
     "data": {
      "text/plain": [
       "{'100': 'sedan',\n",
       " '145': 'small',\n",
       " '147': 'sedan',\n",
       " '156': 'wagon',\n",
       " '159': 'wagon',\n",
       " '1_reihe': 'small',\n",
       " '1er': 'sedan',\n",
       " '200': 'sedan',\n",
       " '2_reihe': 'small',\n",
       " '300c': 'wagon',\n",
       " '3_reihe': 'sedan',\n",
       " '3er': 'sedan',\n",
       " '4_reihe': 'wagon',\n",
       " '500': 'small',\n",
       " '5_reihe': 'bus',\n",
       " '5er': 'sedan',\n",
       " '601': 'sedan',\n",
       " '6_reihe': 'wagon',\n",
       " '6er': 'coupe',\n",
       " '7er': 'sedan',\n",
       " '80': 'sedan',\n",
       " '850': 'wagon',\n",
       " '90': 'sedan',\n",
       " '900': 'convertible',\n",
       " '9000': 'sedan',\n",
       " '911': 'coupe',\n",
       " 'a1': 'small',\n",
       " 'a2': 'small',\n",
       " 'a3': 'sedan',\n",
       " 'a4': 'wagon',\n",
       " 'a5': 'coupe',\n",
       " 'a6': 'wagon',\n",
       " 'a8': 'sedan',\n",
       " 'a_klasse': 'sedan',\n",
       " 'accord': 'sedan',\n",
       " 'agila': 'small',\n",
       " 'alhambra': 'bus',\n",
       " 'almera': 'sedan',\n",
       " 'altea': 'bus',\n",
       " 'amarok': 'suv',\n",
       " 'antara': 'suv',\n",
       " 'arosa': 'small',\n",
       " 'astra': 'sedan',\n",
       " 'auris': 'sedan',\n",
       " 'avensis': 'wagon',\n",
       " 'aveo': 'small',\n",
       " 'aygo': 'small',\n",
       " 'b_klasse': 'bus',\n",
       " 'b_max': 'bus',\n",
       " 'beetle': 'sedan',\n",
       " 'berlingo': 'bus',\n",
       " 'bora': 'sedan',\n",
       " 'boxster': 'convertible',\n",
       " 'bravo': 'sedan',\n",
       " 'c1': 'small',\n",
       " 'c2': 'small',\n",
       " 'c3': 'small',\n",
       " 'c4': 'sedan',\n",
       " 'c5': 'wagon',\n",
       " 'c_klasse': 'sedan',\n",
       " 'c_max': 'bus',\n",
       " 'c_reihe': 'convertible',\n",
       " 'caddy': 'wagon',\n",
       " 'calibra': 'coupe',\n",
       " 'captiva': 'suv',\n",
       " 'carisma': 'sedan',\n",
       " 'carnival': 'bus',\n",
       " 'cayenne': 'suv',\n",
       " 'cc': 'coupe',\n",
       " 'ceed': 'sedan',\n",
       " 'charade': 'small',\n",
       " 'cherokee': 'suv',\n",
       " 'citigo': 'small',\n",
       " 'civic': 'sedan',\n",
       " 'cl': 'coupe',\n",
       " 'clio': 'small',\n",
       " 'clk': 'coupe',\n",
       " 'clubman': 'wagon',\n",
       " 'colt': 'sedan',\n",
       " 'combo': 'bus',\n",
       " 'cooper': 'small',\n",
       " 'cordoba': 'wagon',\n",
       " 'corolla': 'sedan',\n",
       " 'corsa': 'small',\n",
       " 'cr_reihe': 'suv',\n",
       " 'croma': 'wagon',\n",
       " 'crossfire': 'coupe',\n",
       " 'cuore': 'small',\n",
       " 'cx_reihe': 'suv',\n",
       " 'defender': 'suv',\n",
       " 'delta': 'sedan',\n",
       " 'discovery': 'suv',\n",
       " 'doblo': 'bus',\n",
       " 'ducato': 'bus',\n",
       " 'duster': 'suv',\n",
       " 'e_klasse': 'sedan',\n",
       " 'elefantino': 'small',\n",
       " 'eos': 'convertible',\n",
       " 'escort': 'sedan',\n",
       " 'espace': 'bus',\n",
       " 'exeo': 'wagon',\n",
       " 'fabia': 'small',\n",
       " 'fiesta': 'small',\n",
       " 'focus': 'wagon',\n",
       " 'forester': 'wagon',\n",
       " 'forfour': 'small',\n",
       " 'fortwo': 'small',\n",
       " 'fox': 'small',\n",
       " 'freelander': 'suv',\n",
       " 'fusion': 'small',\n",
       " 'g_klasse': 'suv',\n",
       " 'galant': 'sedan',\n",
       " 'galaxy': 'bus',\n",
       " 'getz': 'small',\n",
       " 'gl': 'suv',\n",
       " 'glk': 'suv',\n",
       " 'golf': 'sedan',\n",
       " 'grand': 'suv',\n",
       " 'i3': 'sedan',\n",
       " 'i_reihe': 'small',\n",
       " 'ibiza': 'small',\n",
       " 'impreza': 'sedan',\n",
       " 'insignia': 'wagon',\n",
       " 'jazz': 'small',\n",
       " 'jetta': 'sedan',\n",
       " 'jimny': 'suv',\n",
       " 'juke': 'small',\n",
       " 'justy': 'small',\n",
       " 'ka': 'small',\n",
       " 'kadett': 'sedan',\n",
       " 'kaefer': 'sedan',\n",
       " 'kalina': 'sedan',\n",
       " 'kalos': 'small',\n",
       " 'kangoo': 'bus',\n",
       " 'kappa': 'sedan',\n",
       " 'kuga': 'suv',\n",
       " 'laguna': 'wagon',\n",
       " 'lancer': 'sedan',\n",
       " 'lanos': 'small',\n",
       " 'legacy': 'wagon',\n",
       " 'leon': 'sedan',\n",
       " 'lodgy': 'bus',\n",
       " 'logan': 'wagon',\n",
       " 'lupo': 'small',\n",
       " 'lybra': 'wagon',\n",
       " 'm_klasse': 'suv',\n",
       " 'm_reihe': 'coupe',\n",
       " 'materia': 'wagon',\n",
       " 'matiz': 'small',\n",
       " 'megane': 'sedan',\n",
       " 'meriva': 'bus',\n",
       " 'micra': 'small',\n",
       " 'mii': 'small',\n",
       " 'modus': 'bus',\n",
       " 'mondeo': 'wagon',\n",
       " 'move': 'small',\n",
       " 'musa': 'bus',\n",
       " 'mustang': 'coupe',\n",
       " 'mx_reihe': 'convertible',\n",
       " 'navara': 'suv',\n",
       " 'niva': 'suv',\n",
       " 'note': 'bus',\n",
       " 'nubira': 'wagon',\n",
       " 'octavia': 'wagon',\n",
       " 'omega': 'wagon',\n",
       " 'one': 'small',\n",
       " 'other': 'sedan',\n",
       " 'outlander': 'suv',\n",
       " 'pajero': 'suv',\n",
       " 'panda': 'small',\n",
       " 'passat': 'wagon',\n",
       " 'phaeton': 'sedan',\n",
       " 'picanto': 'small',\n",
       " 'polo': 'small',\n",
       " 'primera': 'sedan',\n",
       " 'ptcruiser': 'wagon',\n",
       " 'punto': 'small',\n",
       " 'q3': 'sedan',\n",
       " 'q5': 'suv',\n",
       " 'q7': 'suv',\n",
       " 'qashqai': 'sedan',\n",
       " 'r19': 'sedan',\n",
       " 'range_rover': 'suv',\n",
       " 'range_rover_evoque': 'suv',\n",
       " 'range_rover_sport': 'suv',\n",
       " 'rangerover': 'small',\n",
       " 'rav': 'suv',\n",
       " 'rio': 'small',\n",
       " 'roadster': 'convertible',\n",
       " 'roomster': 'bus',\n",
       " 'rx_reihe': 'coupe',\n",
       " 's60': 'sedan',\n",
       " 's_klasse': 'sedan',\n",
       " 's_max': 'bus',\n",
       " 's_type': 'sedan',\n",
       " 'samara': 'sedan',\n",
       " 'sandero': 'small',\n",
       " 'santa': 'suv',\n",
       " 'scenic': 'bus',\n",
       " 'scirocco': 'coupe',\n",
       " 'seicento': 'small',\n",
       " 'serie_1': 'wagon',\n",
       " 'serie_2': 'other',\n",
       " 'serie_3': 'suv',\n",
       " 'sharan': 'bus',\n",
       " 'signum': 'wagon',\n",
       " 'sirion': 'small',\n",
       " 'sl': 'convertible',\n",
       " 'slk': 'convertible',\n",
       " 'sorento': 'suv',\n",
       " 'spark': 'small',\n",
       " 'spider': 'convertible',\n",
       " 'sportage': 'suv',\n",
       " 'sprinter': 'bus',\n",
       " 'stilo': 'sedan',\n",
       " 'superb': 'sedan',\n",
       " 'swift': 'small',\n",
       " 'terios': 'sedan',\n",
       " 'tigra': 'convertible',\n",
       " 'tiguan': 'suv',\n",
       " 'toledo': 'sedan',\n",
       " 'touareg': 'suv',\n",
       " 'touran': 'bus',\n",
       " 'transit': 'bus',\n",
       " 'transporter': 'bus',\n",
       " 'tt': 'coupe',\n",
       " 'tucson': 'suv',\n",
       " 'twingo': 'small',\n",
       " 'up': 'small',\n",
       " 'v40': 'wagon',\n",
       " 'v50': 'wagon',\n",
       " 'v60': 'wagon',\n",
       " 'v70': 'wagon',\n",
       " 'v_klasse': 'bus',\n",
       " 'vectra': 'sedan',\n",
       " 'verso': 'bus',\n",
       " 'viano': 'bus',\n",
       " 'vito': 'bus',\n",
       " 'vivaro': 'bus',\n",
       " 'voyager': 'bus',\n",
       " 'wrangler': 'suv',\n",
       " 'x_reihe': 'suv',\n",
       " 'x_trail': 'suv',\n",
       " 'x_type': 'sedan',\n",
       " 'xc_reihe': 'suv',\n",
       " 'yaris': 'small',\n",
       " 'yeti': 'suv',\n",
       " 'ypsilon': 'small',\n",
       " 'z_reihe': 'convertible',\n",
       " 'zafira': 'bus'}"
      ]
     },
     "execution_count": 52,
     "metadata": {},
     "output_type": "execute_result"
    }
   ],
   "source": [
    "#группируем данные по модели и берем наиболее часто встречающийся тип кузова\n",
    "\n",
    "model_vehicle = data.groupby(\"Model\")['VehicleType'].agg(lambda x:x.value_counts().sort_values(ascending = False).index[0]).to_dict()\n",
    "model_vehicle"
   ]
  },
  {
   "cell_type": "code",
   "execution_count": 53,
   "id": "ed9b9724",
   "metadata": {},
   "outputs": [],
   "source": [
    "#временно\n",
    "data.Model.fillna(0, inplace=True)\n",
    "data.VehicleType.fillna(0, inplace=True)"
   ]
  },
  {
   "cell_type": "code",
   "execution_count": 54,
   "id": "f0e72557",
   "metadata": {},
   "outputs": [
    {
     "data": {
      "text/plain": [
       "37490"
      ]
     },
     "execution_count": 54,
     "metadata": {},
     "output_type": "execute_result"
    }
   ],
   "source": [
    "len(data[data['VehicleType'] == 0])"
   ]
  },
  {
   "cell_type": "code",
   "execution_count": 55,
   "id": "3c0a9478",
   "metadata": {},
   "outputs": [],
   "source": [
    "#функция, которая принимает на вход строку\n",
    "#и возвращает тип кузова, который зависит от модели\n",
    "\n",
    "def define_vehicle(row):\n",
    "    if row['Model'] != 0 and row['VehicleType'] == 0:\n",
    "        row['VehicleType'] = model_vehicle[row['Model']]\n",
    "        return row['VehicleType']\n",
    "    else: \n",
    "        return row['VehicleType']\n",
    "    \n",
    "data['VehicleType'] = data.apply(define_vehicle, axis=1)"
   ]
  },
  {
   "cell_type": "code",
   "execution_count": 56,
   "id": "5dfda525",
   "metadata": {},
   "outputs": [
    {
     "data": {
      "text/plain": [
       "6828"
      ]
     },
     "execution_count": 56,
     "metadata": {},
     "output_type": "execute_result"
    }
   ],
   "source": [
    "len(data[data['VehicleType'] == 0])"
   ]
  },
  {
   "cell_type": "code",
   "execution_count": 57,
   "id": "44ea33bf",
   "metadata": {},
   "outputs": [],
   "source": [
    "data['VehicleType'].replace(0, np.nan, inplace=True)\n",
    "data['Model'].replace(0, np.nan, inplace=True)"
   ]
  },
  {
   "cell_type": "code",
   "execution_count": 58,
   "id": "fdf0c3f6",
   "metadata": {},
   "outputs": [
    {
     "data": {
      "text/plain": [
       "no     247158\n",
       "yes     36053\n",
       "Name: NotRepaired, dtype: int64"
      ]
     },
     "execution_count": 58,
     "metadata": {},
     "output_type": "execute_result"
    }
   ],
   "source": [
    "data['NotRepaired'].value_counts()"
   ]
  },
  {
   "cell_type": "code",
   "execution_count": 59,
   "id": "a0619d3c",
   "metadata": {},
   "outputs": [],
   "source": [
    "# Если NotRepaired пропущено, считаем, что продавец имеет в виду наличие ремонта ремонта\n",
    "data['NotRepaired'].fillna('no', inplace=True)\n",
    "\n",
    "data['FuelType'].fillna(data[\"FuelType\"].mode().values[0], inplace=True)"
   ]
  },
  {
   "cell_type": "code",
   "execution_count": 60,
   "id": "3d6b2060",
   "metadata": {},
   "outputs": [
    {
     "data": {
      "text/plain": [
       "Price               0.00%\n",
       "VehicleType         1.93%\n",
       "RegistrationYear    0.00%\n",
       "Gearbox             5.60%\n",
       "Power               0.00%\n",
       "Model               5.56%\n",
       "Kilometer           0.00%\n",
       "FuelType            0.00%\n",
       "Brand               0.00%\n",
       "NotRepaired         0.00%\n",
       "dtype: object"
      ]
     },
     "execution_count": 60,
     "metadata": {},
     "output_type": "execute_result"
    }
   ],
   "source": [
    "(data.isna().sum()/data.shape[0]).map('{:.2%}'.format)"
   ]
  },
  {
   "cell_type": "code",
   "execution_count": 61,
   "id": "05dbd38e",
   "metadata": {},
   "outputs": [],
   "source": [
    "#удалим остальные пропуски \n",
    "#оставили 10% данных\n",
    "data.dropna(inplace=True)\n",
    "data.reset_index(drop=True, inplace=True)"
   ]
  },
  {
   "cell_type": "code",
   "execution_count": 62,
   "id": "30b6552b",
   "metadata": {},
   "outputs": [
    {
     "data": {
      "text/html": [
       "<div>\n",
       "<style scoped>\n",
       "    .dataframe tbody tr th:only-of-type {\n",
       "        vertical-align: middle;\n",
       "    }\n",
       "\n",
       "    .dataframe tbody tr th {\n",
       "        vertical-align: top;\n",
       "    }\n",
       "\n",
       "    .dataframe thead th {\n",
       "        text-align: right;\n",
       "    }\n",
       "</style>\n",
       "<table border=\"1\" class=\"dataframe\">\n",
       "  <thead>\n",
       "    <tr style=\"text-align: right;\">\n",
       "      <th></th>\n",
       "      <th>Price</th>\n",
       "      <th>RegistrationYear</th>\n",
       "      <th>Power</th>\n",
       "      <th>Kilometer</th>\n",
       "    </tr>\n",
       "  </thead>\n",
       "  <tbody>\n",
       "    <tr>\n",
       "      <th>count</th>\n",
       "      <td>318958.000000</td>\n",
       "      <td>318958.000000</td>\n",
       "      <td>318958.000000</td>\n",
       "      <td>318958.000000</td>\n",
       "    </tr>\n",
       "    <tr>\n",
       "      <th>mean</th>\n",
       "      <td>4608.905502</td>\n",
       "      <td>2003.427031</td>\n",
       "      <td>114.965265</td>\n",
       "      <td>128844.738179</td>\n",
       "    </tr>\n",
       "    <tr>\n",
       "      <th>std</th>\n",
       "      <td>4564.241216</td>\n",
       "      <td>30.517461</td>\n",
       "      <td>185.627579</td>\n",
       "      <td>36620.680186</td>\n",
       "    </tr>\n",
       "    <tr>\n",
       "      <th>min</th>\n",
       "      <td>0.000000</td>\n",
       "      <td>1000.000000</td>\n",
       "      <td>0.000000</td>\n",
       "      <td>5000.000000</td>\n",
       "    </tr>\n",
       "    <tr>\n",
       "      <th>25%</th>\n",
       "      <td>1200.000000</td>\n",
       "      <td>1999.000000</td>\n",
       "      <td>75.000000</td>\n",
       "      <td>125000.000000</td>\n",
       "    </tr>\n",
       "    <tr>\n",
       "      <th>50%</th>\n",
       "      <td>2900.000000</td>\n",
       "      <td>2003.000000</td>\n",
       "      <td>105.000000</td>\n",
       "      <td>150000.000000</td>\n",
       "    </tr>\n",
       "    <tr>\n",
       "      <th>75%</th>\n",
       "      <td>6700.000000</td>\n",
       "      <td>2008.000000</td>\n",
       "      <td>143.000000</td>\n",
       "      <td>150000.000000</td>\n",
       "    </tr>\n",
       "    <tr>\n",
       "      <th>max</th>\n",
       "      <td>20000.000000</td>\n",
       "      <td>9000.000000</td>\n",
       "      <td>20000.000000</td>\n",
       "      <td>150000.000000</td>\n",
       "    </tr>\n",
       "  </tbody>\n",
       "</table>\n",
       "</div>"
      ],
      "text/plain": [
       "               Price  RegistrationYear          Power      Kilometer\n",
       "count  318958.000000     318958.000000  318958.000000  318958.000000\n",
       "mean     4608.905502       2003.427031     114.965265  128844.738179\n",
       "std      4564.241216         30.517461     185.627579   36620.680186\n",
       "min         0.000000       1000.000000       0.000000    5000.000000\n",
       "25%      1200.000000       1999.000000      75.000000  125000.000000\n",
       "50%      2900.000000       2003.000000     105.000000  150000.000000\n",
       "75%      6700.000000       2008.000000     143.000000  150000.000000\n",
       "max     20000.000000       9000.000000   20000.000000  150000.000000"
      ]
     },
     "execution_count": 62,
     "metadata": {},
     "output_type": "execute_result"
    }
   ],
   "source": [
    "data.select_dtypes(include='number').describe()"
   ]
  },
  {
   "cell_type": "code",
   "execution_count": 63,
   "id": "5918d58e",
   "metadata": {
    "scrolled": false
   },
   "outputs": [
    {
     "data": {
      "image/png": "[encoded data removed]",
      "text/plain": [
       "<Figure size 432x288 with 1 Axes>"
      ]
     },
     "metadata": {
      "needs_background": "light"
     },
     "output_type": "display_data"
    },
    {
     "data": {
      "image/png": "[encoded data removed]",
      "text/plain": [
       "<Figure size 432x288 with 1 Axes>"
      ]
     },
     "metadata": {
      "needs_background": "light"
     },
     "output_type": "display_data"
    },
    {
     "data": {
      "image/png": "[encoded data removed]",
      "text/plain": [
       "<Figure size 432x288 with 1 Axes>"
      ]
     },
     "metadata": {
      "needs_background": "light"
     },
     "output_type": "display_data"
    },
    {
     "data": {
      "image/png": "[encoded data removed]",
      "text/plain": [
       "<Figure size 432x288 with 1 Axes>"
      ]
     },
     "metadata": {
      "needs_background": "light"
     },
     "output_type": "display_data"
    }
   ],
   "source": [
    "for column in data.select_dtypes(include='number'):\n",
    "    plt.boxplot(data[column])\n",
    "    plt.title(column)\n",
    "    plt.show()"
   ]
  },
  {
   "cell_type": "code",
   "execution_count": 64,
   "id": "1a175274",
   "metadata": {},
   "outputs": [
    {
     "data": {
      "text/plain": [
       "<function matplotlib.pyplot.show(close=None, block=None)>"
      ]
     },
     "execution_count": 64,
     "metadata": {},
     "output_type": "execute_result"
    },
    {
     "data": {
      "image/png": "[encoded data removed]",
      "text/plain": [
       "<Figure size 432x288 with 1 Axes>"
      ]
     },
     "metadata": {
      "needs_background": "light"
     },
     "output_type": "display_data"
    }
   ],
   "source": [
    "plt.hist(data['RegistrationYear'], bins = 12, range = (1985,2020)) \n",
    "plt.show"
   ]
  },
  {
   "cell_type": "code",
   "execution_count": 65,
   "id": "0b250f19",
   "metadata": {},
   "outputs": [
    {
     "data": {
      "text/plain": [
       "<function matplotlib.pyplot.show(close=None, block=None)>"
      ]
     },
     "execution_count": 65,
     "metadata": {},
     "output_type": "execute_result"
    },
    {
     "data": {
      "image/png": "[encoded data removed]",
      "text/plain": [
       "<Figure size 432x288 with 1 Axes>"
      ]
     },
     "metadata": {
      "needs_background": "light"
     },
     "output_type": "display_data"
    }
   ],
   "source": [
    "plt.hist(data['Power'], bins = 15, range = (0,500)) \n",
    "plt.show"
   ]
  },
  {
   "cell_type": "markdown",
   "id": "52522ac9",
   "metadata": {},
   "source": [
    "**Комментарий студента**\n",
    "\n",
    " 1. Значения из столбца Price обладают высоким стандартным отклонениям, что пагубно будет влиять на работу алгоритма (признак нуждается в поиске выбросов)\n",
    " 2. В столбце RegistrationYear присутствуют аномальные значения. Можно установить диапазон, в котором может находится значение этого столбца. А именно, год регистрации не может быть больше 2016, и не может быть меньше 1985. Все показания выше или ниже этих значений приведем к максимальной или минимальной границе.\n",
    " 3. В Power присутствуют аномальные значения (20 000 лошадиных сил) при том, что средняя мощность двигателя легкового автомобиля ~ 137.1 л.с. \n",
    " 4. В столбце Kilometer достаточно реалистичные значения"
   ]
  },
  {
   "cell_type": "code",
   "execution_count": 66,
   "id": "32058ff6",
   "metadata": {},
   "outputs": [],
   "source": [
    "#корректируем год регистрации\n",
    "def correct_year(year):\n",
    "    if year > 2016:\n",
    "        return 2016\n",
    "    elif year < 1985:\n",
    "        return 1985\n",
    "    else:\n",
    "        return year\n",
    "    \n",
    "data['RegistrationYear'] = data['RegistrationYear'].apply(correct_year)"
   ]
  },
  {
   "cell_type": "code",
   "execution_count": 67,
   "id": "ea312499",
   "metadata": {},
   "outputs": [
    {
     "data": {
      "text/plain": [
       "<function matplotlib.pyplot.show(close=None, block=None)>"
      ]
     },
     "execution_count": 67,
     "metadata": {},
     "output_type": "execute_result"
    },
    {
     "data": {
      "image/png": "[encoded data removed]",
      "text/plain": [
       "<Figure size 432x288 with 1 Axes>"
      ]
     },
     "metadata": {
      "needs_background": "light"
     },
     "output_type": "display_data"
    }
   ],
   "source": [
    "plt.hist(data['RegistrationYear'], bins = 15) \n",
    "plt.show"
   ]
  },
  {
   "cell_type": "code",
   "execution_count": 68,
   "id": "82afd359",
   "metadata": {},
   "outputs": [],
   "source": [
    "#корректируем мощность \n",
    "data.loc[data['Power']>500, 'Power'] = 137"
   ]
  },
  {
   "cell_type": "code",
   "execution_count": 69,
   "id": "b140e7e6",
   "metadata": {},
   "outputs": [
    {
     "data": {
      "image/png": "[encoded data removed]",
      "text/plain": [
       "<Figure size 432x288 with 1 Axes>"
      ]
     },
     "metadata": {
      "needs_background": "light"
     },
     "output_type": "display_data"
    }
   ],
   "source": [
    "plt.boxplot(data['Power'])\n",
    "plt.show()"
   ]
  },
  {
   "cell_type": "code",
   "execution_count": 70,
   "id": "794a820a",
   "metadata": {},
   "outputs": [
    {
     "data": {
      "image/png": "[encoded data removed]",
      "text/plain": [
       "<Figure size 432x288 with 1 Axes>"
      ]
     },
     "metadata": {
      "needs_background": "light"
     },
     "output_type": "display_data"
    }
   ],
   "source": [
    "plt.boxplot(data['Price'])\n",
    "plt.show()"
   ]
  },
  {
   "cell_type": "code",
   "execution_count": 71,
   "id": "09cb2709",
   "metadata": {},
   "outputs": [],
   "source": [
    "q1 = data.Power.quantile(0.25)\n",
    "q3 = data.Power.quantile(0.75)\n",
    "#first_power = q1 - 1.5*(q3 - q1)\n",
    "second_power = q3 + 1.5*(q3 - q1)\n",
    "\n",
    "q1 = data.Price.quantile(0.25)\n",
    "q3 = data.Price.quantile(0.75)\n",
    "#first_price = q1 - 1.5*(q3 - q1)\n",
    "second_price = q3 + 1.5*(q3 - q1)"
   ]
  },
  {
   "cell_type": "code",
   "execution_count": 72,
   "id": "adb265f1",
   "metadata": {},
   "outputs": [],
   "source": [
    "data = data.query('Power < @second_power')\n",
    "data = data.query('Price < @second_price')"
   ]
  },
  {
   "cell_type": "code",
   "execution_count": 73,
   "id": "ad6e9a94",
   "metadata": {},
   "outputs": [
    {
     "data": {
      "image/png": "[encoded data removed]",
      "text/plain": [
       "<Figure size 432x288 with 1 Axes>"
      ]
     },
     "metadata": {
      "needs_background": "light"
     },
     "output_type": "display_data"
    }
   ],
   "source": [
    "plt.boxplot(data['Power'])\n",
    "plt.show()"
   ]
  },
  {
   "cell_type": "code",
   "execution_count": 74,
   "id": "bc2962f6",
   "metadata": {},
   "outputs": [],
   "source": [
    "#корректируем цену и мощность \n",
    "\n",
    "def correct_column(value, median_value):\n",
    "    if value < median_value:\n",
    "        return median_value\n",
    "    else:\n",
    "        return value\n",
    "    \n",
    "data['Price'] = data['Price'].apply(correct_column, median_value=data['Price'].median())\n",
    "data['Power'] = data['Power'].apply(correct_column, median_value=data['Power'].median())"
   ]
  },
  {
   "cell_type": "code",
   "execution_count": 75,
   "id": "e09b5054",
   "metadata": {},
   "outputs": [
    {
     "data": {
      "text/html": [
       "<div>\n",
       "<style scoped>\n",
       "    .dataframe tbody tr th:only-of-type {\n",
       "        vertical-align: middle;\n",
       "    }\n",
       "\n",
       "    .dataframe tbody tr th {\n",
       "        vertical-align: top;\n",
       "    }\n",
       "\n",
       "    .dataframe thead th {\n",
       "        text-align: right;\n",
       "    }\n",
       "</style>\n",
       "<table border=\"1\" class=\"dataframe\">\n",
       "  <thead>\n",
       "    <tr style=\"text-align: right;\">\n",
       "      <th></th>\n",
       "      <th>Price</th>\n",
       "      <th>RegistrationYear</th>\n",
       "      <th>Power</th>\n",
       "      <th>Kilometer</th>\n",
       "    </tr>\n",
       "  </thead>\n",
       "  <tbody>\n",
       "    <tr>\n",
       "      <th>count</th>\n",
       "      <td>297933.000000</td>\n",
       "      <td>297933.000000</td>\n",
       "      <td>297933.000000</td>\n",
       "      <td>297933.000000</td>\n",
       "    </tr>\n",
       "    <tr>\n",
       "      <th>mean</th>\n",
       "      <td>4587.856699</td>\n",
       "      <td>2002.987652</td>\n",
       "      <td>124.222067</td>\n",
       "      <td>130600.520922</td>\n",
       "    </tr>\n",
       "    <tr>\n",
       "      <th>std</th>\n",
       "      <td>3026.640656</td>\n",
       "      <td>6.335268</td>\n",
       "      <td>31.303819</td>\n",
       "      <td>35105.714594</td>\n",
       "    </tr>\n",
       "    <tr>\n",
       "      <th>min</th>\n",
       "      <td>2600.000000</td>\n",
       "      <td>1985.000000</td>\n",
       "      <td>103.000000</td>\n",
       "      <td>5000.000000</td>\n",
       "    </tr>\n",
       "    <tr>\n",
       "      <th>25%</th>\n",
       "      <td>2600.000000</td>\n",
       "      <td>1999.000000</td>\n",
       "      <td>103.000000</td>\n",
       "      <td>125000.000000</td>\n",
       "    </tr>\n",
       "    <tr>\n",
       "      <th>50%</th>\n",
       "      <td>2600.000000</td>\n",
       "      <td>2003.000000</td>\n",
       "      <td>103.000000</td>\n",
       "      <td>150000.000000</td>\n",
       "    </tr>\n",
       "    <tr>\n",
       "      <th>75%</th>\n",
       "      <td>5800.000000</td>\n",
       "      <td>2007.000000</td>\n",
       "      <td>140.000000</td>\n",
       "      <td>150000.000000</td>\n",
       "    </tr>\n",
       "    <tr>\n",
       "      <th>max</th>\n",
       "      <td>14949.000000</td>\n",
       "      <td>2016.000000</td>\n",
       "      <td>244.000000</td>\n",
       "      <td>150000.000000</td>\n",
       "    </tr>\n",
       "  </tbody>\n",
       "</table>\n",
       "</div>"
      ],
      "text/plain": [
       "               Price  RegistrationYear          Power      Kilometer\n",
       "count  297933.000000     297933.000000  297933.000000  297933.000000\n",
       "mean     4587.856699       2002.987652     124.222067  130600.520922\n",
       "std      3026.640656          6.335268      31.303819   35105.714594\n",
       "min      2600.000000       1985.000000     103.000000    5000.000000\n",
       "25%      2600.000000       1999.000000     103.000000  125000.000000\n",
       "50%      2600.000000       2003.000000     103.000000  150000.000000\n",
       "75%      5800.000000       2007.000000     140.000000  150000.000000\n",
       "max     14949.000000       2016.000000     244.000000  150000.000000"
      ]
     },
     "execution_count": 75,
     "metadata": {},
     "output_type": "execute_result"
    }
   ],
   "source": [
    "data.describe()"
   ]
  },
  {
   "cell_type": "markdown",
   "id": "5ac4820f",
   "metadata": {},
   "source": [
    "<div class=\"alert alert-block alert-info\">\n",
    "    \n",
    "**Выводы** \n",
    "    \n",
    "На этом шаге мы сразу удалили неинформативные на мой взгляд столбцы. Пропуски были только в категориальных признаках. В столбце VehicleType - тип кузова -  пропуски восстановливали по модели автомобиля (Model), там где она была известна. В столбцах NotRepaired и FuelType пропуски заполняли модой. Далее мы избавились от выбросов и аномальных значений в признаках Price и Power и дубликатов во всем датафрейме.\n",
    "    \n",
    "Всего на данном этапе мы сократили число строк на ~15%, что на самом деле не мало. "
   ]
  },
  {
   "cell_type": "markdown",
   "id": "7e21a292",
   "metadata": {},
   "source": [
    "<a id = 'step2'></a>\n",
    "# Шаг 2. Обучение моделей"
   ]
  },
  {
   "cell_type": "markdown",
   "id": "10347157",
   "metadata": {},
   "source": [
    "**CatBoost**"
   ]
  },
  {
   "cell_type": "code",
   "execution_count": 39,
   "id": "81b11134",
   "metadata": {},
   "outputs": [
    {
     "data": {
      "text/plain": [
       "['VehicleType', 'Gearbox', 'Model', 'FuelType', 'Brand', 'NotRepaired']"
      ]
     },
     "execution_count": 39,
     "metadata": {},
     "output_type": "execute_result"
    }
   ],
   "source": [
    "#выберем категориальные переменные\n",
    "categorical = data.select_dtypes(include='object').columns.to_list()\n",
    "categorical"
   ]
  },
  {
   "cell_type": "code",
   "execution_count": 40,
   "id": "753c34ee",
   "metadata": {},
   "outputs": [],
   "source": [
    "#разделим выборку\n",
    "X_cat = data.drop('Price', axis=1)\n",
    "y = data['Price']\n",
    "\n",
    "X_train_cat, X_test_cat, y_train_cat, y_test_cat = train_test_split(X_cat, y, test_size=0.2, random_state=123)"
   ]
  },
  {
   "cell_type": "code",
   "execution_count": 41,
   "id": "6a8fd65b",
   "metadata": {},
   "outputs": [
    {
     "name": "stdout",
     "output_type": "stream",
     "text": [
      "Learning rate set to 0.170811\n",
      "0:\tlearn: 2692.2540029\ttotal: 139ms\tremaining: 1m 9s\n",
      "100:\tlearn: 1211.0758609\ttotal: 7.23s\tremaining: 28.6s\n",
      "200:\tlearn: 1159.4393202\ttotal: 14.5s\tremaining: 21.6s\n",
      "300:\tlearn: 1127.5672322\ttotal: 21.9s\tremaining: 14.5s\n",
      "400:\tlearn: 1106.0009225\ttotal: 29.4s\tremaining: 7.25s\n",
      "499:\tlearn: 1085.6456649\ttotal: 36.9s\tremaining: 0us\n",
      "\n",
      "RMSE на обучающей выборке: 1116.48\n"
     ]
    }
   ],
   "source": [
    "#%%time\n",
    "\n",
    "kf = KFold(n_splits=3, shuffle=True, random_state=123)\n",
    "params_cat = {\n",
    "              \"depth\" : [i for i in range(10, 16, 5)]\n",
    "             }\n",
    "\n",
    "model = CatBoostRegressor(iterations=500, cat_features=categorical, verbose=100)\n",
    "grid_cat = GridSearchCV(estimator=model, param_grid=params_cat, cv=kf, n_jobs=-1)\n",
    "grid_cat.fit(X_train_cat, y_train_cat)\n",
    "print()\n",
    "print('RMSE на обучающей выборке: {:.2f}'.format(mean_squared_error(y_train_cat, grid_cat.best_estimator_.predict(X_train_cat))**(.5)))"
   ]
  },
  {
   "cell_type": "code",
   "execution_count": 42,
   "id": "f17a73a6",
   "metadata": {},
   "outputs": [
    {
     "data": {
      "text/plain": [
       "{'depth': 10}"
      ]
     },
     "execution_count": 42,
     "metadata": {},
     "output_type": "execute_result"
    }
   ],
   "source": [
    "grid_cat.best_params_"
   ]
  },
  {
   "cell_type": "code",
   "execution_count": 43,
   "id": "34463a64",
   "metadata": {},
   "outputs": [
    {
     "name": "stdout",
     "output_type": "stream",
     "text": [
      "Learning rate set to 0.170811\n",
      "0:\tlearn: 2692.2540029\ttotal: 70.6ms\tremaining: 35.2s\n",
      "100:\tlearn: 1211.0758609\ttotal: 6.94s\tremaining: 27.4s\n",
      "200:\tlearn: 1159.4393202\ttotal: 14s\tremaining: 20.9s\n",
      "300:\tlearn: 1127.5672322\ttotal: 21.4s\tremaining: 14.1s\n",
      "400:\tlearn: 1106.0009225\ttotal: 28.9s\tremaining: 7.14s\n",
      "499:\tlearn: 1085.6456649\ttotal: 36.4s\tremaining: 0us\n",
      "CPU times: user 3min 54s, sys: 6.21 s, total: 4min 1s\n",
      "Wall time: 36.9 s\n"
     ]
    },
    {
     "data": {
      "text/plain": [
       "<catboost.core.CatBoostRegressor at 0x17cdf1370>"
      ]
     },
     "execution_count": 43,
     "metadata": {},
     "output_type": "execute_result"
    }
   ],
   "source": [
    "%%time\n",
    "cat = CatBoostRegressor(iterations=500, depth=10, cat_features=categorical, verbose=100)\n",
    "cat.fit(X_train_cat, y_train_cat)"
   ]
  },
  {
   "cell_type": "code",
   "execution_count": 44,
   "id": "ba1f373e",
   "metadata": {},
   "outputs": [
    {
     "name": "stdout",
     "output_type": "stream",
     "text": [
      "RMSE на тесте: 1213.65\n",
      "CPU times: user 419 ms, sys: 14.5 ms, total: 434 ms\n",
      "Wall time: 110 ms\n"
     ]
    }
   ],
   "source": [
    "%%time\n",
    "cat_pred = cat.predict(X_test_cat)\n",
    "print(\"RMSE на тесте: {:.2f}\".format(mean_squared_error(y_test_cat, cat_pred)**(.5)))"
   ]
  },
  {
   "cell_type": "markdown",
   "id": "7cfb9593",
   "metadata": {},
   "source": [
    "**XGBoost**"
   ]
  },
  {
   "cell_type": "code",
   "execution_count": 45,
   "id": "566a8f3d",
   "metadata": {},
   "outputs": [],
   "source": [
    "data_xgb = data.copy()"
   ]
  },
  {
   "cell_type": "code",
   "execution_count": 47,
   "id": "49144b31",
   "metadata": {},
   "outputs": [],
   "source": [
    "#разделим выборку\n",
    "X = data_xgb.drop('Price', axis=1)\n",
    "y = data_xgb['Price']\n",
    "\n",
    "X_train, X_test, y_train, y_test = train_test_split(X, y, test_size=0.2, random_state=123)"
   ]
  },
  {
   "cell_type": "code",
   "execution_count": 48,
   "id": "42b4374b",
   "metadata": {},
   "outputs": [],
   "source": [
    "label_encoder = LabelEncoder()\n",
    "\n",
    "for col in categorical:\n",
    "    X_train[col] = label_encoder.fit_transform(X_train[col])\n",
    "    X_test[col] = label_encoder.fit_transform(X_test[col])"
   ]
  },
  {
   "cell_type": "code",
   "execution_count": 49,
   "id": "1527594e",
   "metadata": {},
   "outputs": [],
   "source": [
    "numeric = ['RegistrationYear', 'Power', 'Kilometer']\n",
    "\n",
    "#cоздадим объект структуры StandardScaler() и настроим его на обучающих данных\n",
    "scaler = StandardScaler()\n",
    "scaler.fit(X_train[numeric])\n",
    "\n",
    "pd.options.mode.chained_assignment = None\n",
    "\n",
    "#преобразуем выборки\n",
    "X_train[numeric] = scaler.transform(X_train[numeric])\n",
    "X_test[numeric] = scaler.transform(X_test[numeric])"
   ]
  },
  {
   "cell_type": "code",
   "execution_count": 50,
   "id": "f1328f3d",
   "metadata": {},
   "outputs": [
    {
     "name": "stdout",
     "output_type": "stream",
     "text": [
      "Learning rate set to 0.160211\n",
      "0:\tlearn: 2719.4657668\ttotal: 369ms\tremaining: 3m 4s\n",
      "100:\tlearn: 1211.0930134\ttotal: 32.4s\tremaining: 2m 8s\n",
      "200:\tlearn: 1153.3444199\ttotal: 1m 10s\tremaining: 1m 44s\n",
      "300:\tlearn: 1118.2318162\ttotal: 1m 49s\tremaining: 1m 12s\n",
      "400:\tlearn: 1087.8654975\ttotal: 2m 31s\tremaining: 37.3s\n",
      "499:\tlearn: 1063.9416599\ttotal: 3m 12s\tremaining: 0us\n",
      "Learning rate set to 0.160211\n",
      "0:\tlearn: 2702.8999403\ttotal: 434ms\tremaining: 3m 36s\n",
      "100:\tlearn: 1213.4367068\ttotal: 33.3s\tremaining: 2m 11s\n",
      "200:\tlearn: 1157.6150122\ttotal: 1m 11s\tremaining: 1m 45s\n",
      "300:\tlearn: 1121.3787685\ttotal: 1m 51s\tremaining: 1m 13s\n",
      "400:\tlearn: 1090.0441020\ttotal: 2m 31s\tremaining: 37.5s\n",
      "499:\tlearn: 1066.3188333\ttotal: 3m 12s\tremaining: 0us\n",
      "Learning rate set to 0.160211\n",
      "0:\tlearn: 2717.1688034\ttotal: 347ms\tremaining: 2m 53s\n",
      "100:\tlearn: 1210.7623787\ttotal: 34s\tremaining: 2m 14s\n",
      "200:\tlearn: 1151.4557817\ttotal: 1m 12s\tremaining: 1m 47s\n",
      "300:\tlearn: 1117.6575692\ttotal: 1m 53s\tremaining: 1m 14s\n",
      "400:\tlearn: 1090.3403705\ttotal: 2m 34s\tremaining: 38.2s\n",
      "499:\tlearn: 1065.0482043\ttotal: 3m 16s\tremaining: 0us\n",
      "\n",
      "RMSE на обучающей выборке: 1151.74\n"
     ]
    }
   ],
   "source": [
    "#%%time\n",
    "\n",
    "model = XGBRegressor(random_state=123, n_jobs=-1)\n",
    "\n",
    "parametrs = { 'n_estimators': range (10, 60, 10),\n",
    "              'max_depth': range (2,10, 2)\n",
    "            }\n",
    "\n",
    "grid_xgb = GridSearchCV(model, parametrs, cv=5)\n",
    "grid_xgb.fit(X_train, y_train)\n",
    "grid_xgb.best_params_\n",
    "print()\n",
    "print('RMSE на обучающей выборке: {:.2f}'.format(mean_squared_error(y_train, grid_xgb.best_estimator_.predict(X_train))**(.5)))"
   ]
  },
  {
   "cell_type": "code",
   "execution_count": 51,
   "id": "aa30efc0",
   "metadata": {},
   "outputs": [
    {
     "name": "stdout",
     "output_type": "stream",
     "text": [
      "CPU times: user 21.5 s, sys: 4.29 s, total: 25.8 s\n",
      "Wall time: 3.45 s\n"
     ]
    },
    {
     "data": {
      "text/plain": [
       "XGBRegressor(base_score=0.5, booster='gbtree', callbacks=None,\n",
       "             colsample_bylevel=1, colsample_bynode=1, colsample_bytree=1,\n",
       "             early_stopping_rounds=None, enable_categorical=False,\n",
       "             eval_metric=None, gamma=0, gpu_id=-1, grow_policy='depthwise',\n",
       "             importance_type=None, interaction_constraints='',\n",
       "             learning_rate=0.300000012, max_bin=256, max_cat_to_onehot=4,\n",
       "             max_delta_step=0, max_depth=8, max_leaves=0, min_child_weight=1,\n",
       "             missing=nan, monotone_constraints='()', n_estimators=50, n_jobs=-1,\n",
       "             num_parallel_tree=1, predictor='auto', random_state=123,\n",
       "             reg_alpha=0, reg_lambda=1, ...)"
      ]
     },
     "execution_count": 51,
     "metadata": {},
     "output_type": "execute_result"
    }
   ],
   "source": [
    "%%time\n",
    "xgb = XGBRegressor(random_state=123, max_depth=8, n_estimators=50, n_jobs=-1)\n",
    "xgb.fit(X_train, y_train) "
   ]
  },
  {
   "cell_type": "code",
   "execution_count": 52,
   "id": "27a61d2b",
   "metadata": {},
   "outputs": [
    {
     "name": "stdout",
     "output_type": "stream",
     "text": [
      "RMSE на тесте: 1321.06\n",
      "\n",
      "CPU times: user 140 ms, sys: 18.4 ms, total: 158 ms\n",
      "Wall time: 23 ms\n"
     ]
    }
   ],
   "source": [
    "%%time\n",
    "xgb_pred = xgb.predict(X_test)\n",
    "print(\"RMSE на тесте: {:.2f}\".format(mean_squared_error(y_test, xgb_pred)**(.5)))\n",
    "print()"
   ]
  },
  {
   "cell_type": "markdown",
   "id": "8c48fdca",
   "metadata": {},
   "source": [
    "**LightGBM**"
   ]
  },
  {
   "cell_type": "code",
   "execution_count": 53,
   "id": "11b731b1",
   "metadata": {},
   "outputs": [],
   "source": [
    "X_train_cat[categorical] = X_train_cat[categorical].astype('category')\n",
    "X_test_cat[categorical] = X_test_cat[categorical].astype('category')"
   ]
  },
  {
   "cell_type": "code",
   "execution_count": 54,
   "id": "08776bfc",
   "metadata": {},
   "outputs": [
    {
     "name": "stdout",
     "output_type": "stream",
     "text": [
      "RMSE на обучающей выборке: 1233.44\n"
     ]
    }
   ],
   "source": [
    "#%%time\n",
    "params_lgbm = {\n",
    "               \"max_depth\" : [i for i in range(10, 25, 5)]\n",
    "              }\n",
    "lgbm = LGBMRegressor(random_state=123,n_jobs=-1)\n",
    "grid_lgbm = GridSearchCV(estimator=lgbm, param_grid=params_lgbm, cv=kf, n_jobs=-1)\n",
    "grid_lgbm.fit(X_train_cat, y_train_cat)\n",
    "\n",
    "print(\"RMSE на обучающей выборке: {:.2f}\".format(mean_squared_error(y_train_cat, grid_lgbm.best_estimator_.predict(X_train_cat))**(.5)))"
   ]
  },
  {
   "cell_type": "code",
   "execution_count": 55,
   "id": "3d994599",
   "metadata": {},
   "outputs": [
    {
     "data": {
      "text/plain": [
       "{'max_depth': 15}"
      ]
     },
     "execution_count": 55,
     "metadata": {},
     "output_type": "execute_result"
    }
   ],
   "source": [
    "grid_lgbm.best_params_"
   ]
  },
  {
   "cell_type": "code",
   "execution_count": 56,
   "id": "aea6306b",
   "metadata": {},
   "outputs": [
    {
     "name": "stdout",
     "output_type": "stream",
     "text": [
      "CPU times: user 2.91 s, sys: 559 ms, total: 3.47 s\n",
      "Wall time: 473 ms\n"
     ]
    },
    {
     "data": {
      "text/plain": [
       "LGBMRegressor(max_depth=15)"
      ]
     },
     "execution_count": 56,
     "metadata": {},
     "output_type": "execute_result"
    }
   ],
   "source": [
    "%%time\n",
    "lgbm = LGBMRegressor(max_depth = 15)\n",
    "lgbm.fit(X_train_cat, y_train_cat)"
   ]
  },
  {
   "cell_type": "code",
   "execution_count": 57,
   "id": "e8d0e6c0",
   "metadata": {},
   "outputs": [
    {
     "name": "stdout",
     "output_type": "stream",
     "text": [
      "RMSE: 1263.59\n",
      "\n",
      "CPU times: user 556 ms, sys: 38.3 ms, total: 594 ms\n",
      "Wall time: 83.2 ms\n"
     ]
    }
   ],
   "source": [
    "%%time\n",
    "lgbm_pred = lgbm.predict(X_test_cat)\n",
    "print(\"RMSE: {:.2f}\".format(mean_squared_error(y_test, lgbm_pred)**(.5)))\n",
    "print()"
   ]
  },
  {
   "cell_type": "markdown",
   "id": "9b737109",
   "metadata": {},
   "source": [
    "**Lasso & Ridge**"
   ]
  },
  {
   "cell_type": "code",
   "execution_count": 58,
   "id": "5c4e62dd",
   "metadata": {},
   "outputs": [],
   "source": [
    "model_and_parameters = [\n",
    "                            (Lasso(random_state=123), {'alpha': np.linspace(0.1, 2.0, 20)}),\n",
    "                            (Ridge(random_state=123), {'alpha': np.linspace(0.2, 10.0, 50)}),\n",
    "                       ]\n",
    "\n",
    "\n",
    "params = {}\n",
    "for i, (model, p) in enumerate(model_and_parameters):\n",
    "    grid = GridSearchCV(model, p, cv=5)\n",
    "    grid.fit(X_train, y_train)\n",
    "    params[i] = grid.best_params_"
   ]
  },
  {
   "cell_type": "code",
   "execution_count": 59,
   "id": "ad3df714",
   "metadata": {},
   "outputs": [
    {
     "data": {
      "text/plain": [
       "{0: {'alpha': 0.1}, 1: {'alpha': 10.0}}"
      ]
     },
     "execution_count": 59,
     "metadata": {},
     "output_type": "execute_result"
    }
   ],
   "source": [
    "params"
   ]
  },
  {
   "cell_type": "code",
   "execution_count": 62,
   "id": "4a651bd0",
   "metadata": {},
   "outputs": [
    {
     "name": "stdout",
     "output_type": "stream",
     "text": [
      "CPU times: user 288 ms, sys: 178 ms, total: 466 ms\n",
      "Wall time: 64.3 ms\n"
     ]
    },
    {
     "data": {
      "text/plain": [
       "Lasso(alpha=0.1, random_state=123)"
      ]
     },
     "execution_count": 62,
     "metadata": {},
     "output_type": "execute_result"
    }
   ],
   "source": [
    "%%time\n",
    "lasso = Lasso(random_state=123, alpha=params[0]['alpha'], )\n",
    "lasso.fit(X_train, y_train)"
   ]
  },
  {
   "cell_type": "code",
   "execution_count": 63,
   "id": "b11803d9",
   "metadata": {},
   "outputs": [
    {
     "name": "stdout",
     "output_type": "stream",
     "text": [
      "RMSE: 2216.90\n",
      "\n",
      "CPU times: user 14.1 ms, sys: 14.2 ms, total: 28.3 ms\n",
      "Wall time: 4.3 ms\n"
     ]
    }
   ],
   "source": [
    "%%time\n",
    "lasso_pred = lasso.predict(X_test)\n",
    "print(\"RMSE: {:.2f}\".format(mean_squared_error(y_test, lasso_pred)**(.5)))\n",
    "print()"
   ]
  },
  {
   "cell_type": "code",
   "execution_count": 64,
   "id": "c19a721d",
   "metadata": {},
   "outputs": [
    {
     "name": "stdout",
     "output_type": "stream",
     "text": [
      "CPU times: user 37.1 ms, sys: 41.6 ms, total: 78.7 ms\n",
      "Wall time: 11.3 ms\n"
     ]
    },
    {
     "data": {
      "text/plain": [
       "Ridge(alpha=10.0, random_state=123)"
      ]
     },
     "execution_count": 64,
     "metadata": {},
     "output_type": "execute_result"
    }
   ],
   "source": [
    "%%time\n",
    "ridge =  Ridge(random_state=123, alpha=params[1]['alpha'])\n",
    "ridge.fit(X_train, y_train)"
   ]
  },
  {
   "cell_type": "code",
   "execution_count": 65,
   "id": "e05a1ebe",
   "metadata": {},
   "outputs": [
    {
     "name": "stdout",
     "output_type": "stream",
     "text": [
      "RMSE: 2216.90\n",
      "\n",
      "CPU times: user 7.27 ms, sys: 23.2 ms, total: 30.5 ms\n",
      "Wall time: 4.26 ms\n"
     ]
    }
   ],
   "source": [
    "%%time\n",
    "ridge_pred = ridge.predict(X_test)\n",
    "print(\"RMSE: {:.2f}\".format(mean_squared_error(y_test, lasso_pred)**(.5)))\n",
    "print()"
   ]
  },
  {
   "cell_type": "markdown",
   "id": "58b3bda9",
   "metadata": {},
   "source": [
    "**Итоговая таблица**"
   ]
  },
  {
   "cell_type": "code",
   "execution_count": 66,
   "id": "1392d34b",
   "metadata": {},
   "outputs": [
    {
     "data": {
      "text/html": [
       "<div>\n",
       "<style scoped>\n",
       "    .dataframe tbody tr th:only-of-type {\n",
       "        vertical-align: middle;\n",
       "    }\n",
       "\n",
       "    .dataframe tbody tr th {\n",
       "        vertical-align: top;\n",
       "    }\n",
       "\n",
       "    .dataframe thead th {\n",
       "        text-align: right;\n",
       "    }\n",
       "</style>\n",
       "<table border=\"1\" class=\"dataframe\">\n",
       "  <thead>\n",
       "    <tr style=\"text-align: right;\">\n",
       "      <th></th>\n",
       "      <th>time_fit</th>\n",
       "      <th>predict_predict</th>\n",
       "      <th>RMSE</th>\n",
       "    </tr>\n",
       "  </thead>\n",
       "  <tbody>\n",
       "    <tr>\n",
       "      <th>Lasso</th>\n",
       "      <td>73.7 ms</td>\n",
       "      <td>6.66 ms</td>\n",
       "      <td>2216.90</td>\n",
       "    </tr>\n",
       "    <tr>\n",
       "      <th>Ridge</th>\n",
       "      <td>22.3 ms</td>\n",
       "      <td>5.33 ms</td>\n",
       "      <td>2216.90</td>\n",
       "    </tr>\n",
       "    <tr>\n",
       "      <th>XGBoost</th>\n",
       "      <td>3.43 s</td>\n",
       "      <td>23.6 ms</td>\n",
       "      <td>1321.06</td>\n",
       "    </tr>\n",
       "    <tr>\n",
       "      <th>LightGBM</th>\n",
       "      <td>434 ms</td>\n",
       "      <td>91.4 ms</td>\n",
       "      <td>1263.59</td>\n",
       "    </tr>\n",
       "    <tr>\n",
       "      <th>CatBoost</th>\n",
       "      <td>28.7 s</td>\n",
       "      <td>116 ms</td>\n",
       "      <td>1213.65</td>\n",
       "    </tr>\n",
       "  </tbody>\n",
       "</table>\n",
       "</div>"
      ],
      "text/plain": [
       "         time_fit predict_predict     RMSE\n",
       "Lasso     73.7 ms         6.66 ms  2216.90\n",
       "Ridge     22.3 ms         5.33 ms  2216.90\n",
       "XGBoost    3.43 s         23.6 ms  1321.06\n",
       "LightGBM   434 ms         91.4 ms  1263.59\n",
       "CatBoost   28.7 s          116 ms  1213.65"
      ]
     },
     "execution_count": 66,
     "metadata": {},
     "output_type": "execute_result"
    },
    {
     "name": "stdout",
     "output_type": "stream",
     "text": [
      "Learning rate set to 0.160211\n",
      "0:\tlearn: 2689.2361651\ttotal: 933ms\tremaining: 7m 45s\n",
      "100:\tlearn: 1045.5131610\ttotal: 1m 24s\tremaining: 5m 34s\n",
      "200:\tlearn: 964.7642988\ttotal: 3m 5s\tremaining: 4m 35s\n",
      "300:\tlearn: 912.9807548\ttotal: 4m 11s\tremaining: 2m 45s\n",
      "400:\tlearn: 875.0177557\ttotal: 5m 13s\tremaining: 1m 17s\n",
      "499:\tlearn: 846.0579089\ttotal: 6m 24s\tremaining: 0us\n",
      "Learning rate set to 0.160211\n",
      "0:\tlearn: 2697.1545833\ttotal: 759ms\tremaining: 6m 18s\n",
      "100:\tlearn: 1057.9470379\ttotal: 1m 26s\tremaining: 5m 40s\n",
      "200:\tlearn: 973.5880825\ttotal: 3m 8s\tremaining: 4m 40s\n",
      "300:\tlearn: 921.9752098\ttotal: 4m 12s\tremaining: 2m 47s\n",
      "400:\tlearn: 885.5684747\ttotal: 5m 15s\tremaining: 1m 17s\n",
      "499:\tlearn: 857.9078203\ttotal: 6m 25s\tremaining: 0us\n",
      "Learning rate set to 0.160211\n",
      "0:\tlearn: 2696.3910013\ttotal: 853ms\tremaining: 7m 5s\n",
      "100:\tlearn: 1047.7803252\ttotal: 1m 25s\tremaining: 5m 37s\n",
      "200:\tlearn: 963.5146233\ttotal: 3m 6s\tremaining: 4m 37s\n",
      "300:\tlearn: 912.0581993\ttotal: 4m 12s\tremaining: 2m 46s\n",
      "400:\tlearn: 874.9545103\ttotal: 5m 14s\tremaining: 1m 17s\n",
      "499:\tlearn: 840.3694445\ttotal: 6m 25s\tremaining: 0us\n"
     ]
    }
   ],
   "source": [
    "df = [[\"73.7 ms\", \"6.66 ms\", 2216.90],\n",
    "        [\"22.3 ms\", \"5.33 ms\", 2216.90],\n",
    "        [\"3.43 s\", \"23.6 ms\", 1321.06],\n",
    "        [\"434 ms\", \"91.4 ms\", 1263.59],\n",
    "        [\"28.7 s\", \"116 ms\", 1213.65]]\n",
    "model = [\"Lasso\", \"Ridge\", \"XGBoost\", \"LightGBM\",\"CatBoost\"]\n",
    "\n",
    "pd.DataFrame(data=df, index=model, columns=[\"time_fit\", \"predict_predict\", \"RMSE\"])"
   ]
  },
  {
   "cell_type": "markdown",
   "id": "d0fbd1a2",
   "metadata": {},
   "source": [
    "<a id = 'step3'></a>\n",
    "\n",
    "<div class=\"alert alert-block alert-info\">\n",
    "    \n",
    "<h2> Общий вывод <a class=\"tocSkip\"></h2>\n",
    "    \n",
    "В данной работе нам было предложено построить модель по предсказанию рыночной цены автомобилей с пробегом на основе их характеристик. После тщательной предобработки данных мы перешли к построению моделей на базе алгоритмов градиентного бустинга - CatBoost, XGBoost, LightGBM, - а также попробовали более простые модели линейной регрессии с различными регуляризациями - Lasso и Ridge. \n",
    "    \n",
    "Как и следовало ожидать, быстрее остальных, но при этом и хуже, отрабатывают модели линейной регрессии: RMSE для этих моделей приблизительно равна 2217 (это значение уже не превышает требуемого 2500). Модель XGBoost обучается и предсказывает результат примерно за 3 s, RMSE - 1321, что уже значительно лучше простой линейной регрессии. Далее по точности предсказания идет LightGBM: RMSE - 1263.6, а обучается модель за 434 ms. И самый лучший результат по точности предсказания показал СatBoost: RMSE - 1213, но на обучение уходит 28.7 s, скорее всего, из-за работы с категориальными признаками. На предсказания каждой из градиентных моделей уходят милисекунды, но по этому показателю выигрывает XGBoost - 25.6 ms\n",
    "\n",
    "Стоит отметить, что здесь мы не учитываем время на подбор гиперпараметров моделей. С gridSearchCV больше всего времени уходит на поиск параметров CatBoost'a - около 5 минут. Думаю, что это можно исправить, если искать параметры  спомощью BayesSearch. \n",
    "    \n",
    "Подводя итоги, здесь логичнее всего было бы выбрать модель LightGBM, т.к. она не сильно проигрывает в качестве СatBoost'у, но заметно выигрывает во времени обучения и предсказания. \n",
    "</div>  "
   ]
  },
  {
   "cell_type": "code",
   "execution_count": 1,
   "id": "5105f6ea",
   "metadata": {},
   "outputs": [],
   "source": []
  },
  {
   "cell_type": "code",
   "execution_count": null,
   "id": "4895e463",
   "metadata": {},
   "outputs": [],
   "source": []
  }
 ],
 "metadata": {
  "ExecuteTimeLog": [
   {
    "duration": 1914,
    "start_time": "2022-06-23T21:05:43.203Z"
   },
   {
    "duration": 1210,
    "start_time": "2022-06-23T21:05:45.119Z"
   },
   {
    "duration": 34,
    "start_time": "2022-06-23T21:05:47.200Z"
   },
   {
    "duration": 132,
    "start_time": "2022-06-23T21:05:47.671Z"
   },
   {
    "duration": 17,
    "start_time": "2022-06-23T21:05:48.393Z"
   },
   {
    "duration": 510,
    "start_time": "2022-06-23T21:05:48.592Z"
   },
   {
    "duration": 568,
    "start_time": "2022-06-23T21:05:49.104Z"
   },
   {
    "duration": 37,
    "start_time": "2022-06-23T21:05:49.674Z"
   },
   {
    "duration": 90,
    "start_time": "2022-06-23T21:05:49.713Z"
   },
   {
    "duration": 205,
    "start_time": "2022-06-23T21:05:49.805Z"
   },
   {
    "duration": 47,
    "start_time": "2022-06-23T21:05:50.013Z"
   },
   {
    "duration": 36,
    "start_time": "2022-06-23T21:05:50.063Z"
   },
   {
    "duration": 4536,
    "start_time": "2022-06-23T21:05:50.101Z"
   },
   {
    "duration": 31,
    "start_time": "2022-06-23T21:05:54.640Z"
   },
   {
    "duration": 32,
    "start_time": "2022-06-23T21:05:54.674Z"
   },
   {
    "duration": 65,
    "start_time": "2022-06-23T21:05:54.708Z"
   },
   {
    "duration": 54,
    "start_time": "2022-06-23T21:05:54.775Z"
   },
   {
    "duration": 77,
    "start_time": "2022-06-23T21:05:54.832Z"
   },
   {
    "duration": 129,
    "start_time": "2022-06-23T21:05:54.911Z"
   },
   {
    "duration": 2,
    "start_time": "2022-06-23T21:05:55.042Z"
   },
   {
    "duration": 66,
    "start_time": "2022-06-23T21:05:55.046Z"
   },
   {
    "duration": 573,
    "start_time": "2022-06-23T21:05:55.126Z"
   },
   {
    "duration": 160,
    "start_time": "2022-06-23T21:05:55.700Z"
   },
   {
    "duration": 151,
    "start_time": "2022-06-23T21:05:55.862Z"
   },
   {
    "duration": 124,
    "start_time": "2022-06-23T21:05:56.015Z"
   },
   {
    "duration": 160,
    "start_time": "2022-06-23T21:05:56.141Z"
   },
   {
    "duration": 6,
    "start_time": "2022-06-23T21:05:59.151Z"
   },
   {
    "duration": 96,
    "start_time": "2022-06-23T21:05:59.740Z"
   },
   {
    "duration": 135,
    "start_time": "2022-06-23T21:06:00.264Z"
   },
   {
    "duration": 23,
    "start_time": "2022-06-23T21:06:00.447Z"
   },
   {
    "duration": 53,
    "start_time": "2022-06-23T21:06:00.638Z"
   },
   {
    "duration": 92,
    "start_time": "2022-06-23T21:06:00.780Z"
   },
   {
    "duration": 155,
    "start_time": "2022-06-23T21:06:00.952Z"
   },
   {
    "duration": 2,
    "start_time": "2022-06-23T21:06:01.408Z"
   },
   {
    "duration": 60,
    "start_time": "2022-06-23T21:06:02.472Z"
   }
  ],
  "kernelspec": {
   "display_name": "Python 3 (ipykernel)",
   "language": "python",
   "name": "python3"
  },
  "language_info": {
   "codemirror_mode": {
    "name": "ipython",
    "version": 3
   },
   "file_extension": ".py",
   "mimetype": "text/x-python",
   "name": "python",
   "nbconvert_exporter": "python",
   "pygments_lexer": "ipython3",
   "version": "3.10.6"
  },
  "toc": {
   "base_numbering": 1,
   "nav_menu": {},
   "number_sections": true,
   "sideBar": true,
   "skip_h1_title": true,
   "title_cell": "Table of Contents",
   "title_sidebar": "Contents",
   "toc_cell": false,
   "toc_position": {},
   "toc_section_display": true,
   "toc_window_display": false
  }
 },
 "nbformat": 4,
 "nbformat_minor": 5
}
